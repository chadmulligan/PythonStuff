{
 "cells": [
  {
   "cell_type": "code",
   "execution_count": 2,
   "metadata": {},
   "outputs": [],
   "source": [
    "import pandas as pd\n",
    "import matplotlib.pyplot as plt\n",
    "import numpy as np\n",
    "import pandas as pd\n",
    "%matplotlib inline"
   ]
  },
  {
   "cell_type": "code",
   "execution_count": 3,
   "metadata": {},
   "outputs": [],
   "source": [
    "data = pd.read_csv('EPFL/Mountains.csv')"
   ]
  },
  {
   "cell_type": "code",
   "execution_count": 5,
   "metadata": {},
   "outputs": [
    {
     "name": "stdout",
     "output_type": "stream",
     "text": [
      "Variable   Type         Data/Info\n",
      "---------------------------------\n",
      "data       DataFrame         Rank                <...>\\n[118 rows x 11 columns]\n",
      "pd         module       <module 'pandas' from 'C:<...>es\\\\pandas\\\\__init__.py'>\n"
     ]
    }
   ],
   "source": [
    "%whos"
   ]
  },
  {
   "cell_type": "code",
   "execution_count": 7,
   "metadata": {},
   "outputs": [
    {
     "data": {
      "text/html": [
       "<div>\n",
       "<style>\n",
       "    .dataframe thead tr:only-child th {\n",
       "        text-align: right;\n",
       "    }\n",
       "\n",
       "    .dataframe thead th {\n",
       "        text-align: left;\n",
       "    }\n",
       "\n",
       "    .dataframe tbody tr th {\n",
       "        vertical-align: top;\n",
       "    }\n",
       "</style>\n",
       "<table border=\"1\" class=\"dataframe\">\n",
       "  <thead>\n",
       "    <tr style=\"text-align: right;\">\n",
       "      <th></th>\n",
       "      <th>Rank</th>\n",
       "      <th>Mountain</th>\n",
       "      <th>Height (m)</th>\n",
       "      <th>Height (ft)</th>\n",
       "      <th>Prominence (m)</th>\n",
       "      <th>Range</th>\n",
       "      <th>Coordinates</th>\n",
       "      <th>Parent mountain</th>\n",
       "      <th>First ascent</th>\n",
       "      <th>Ascents bef. 2004</th>\n",
       "      <th>Failed attempts bef. 2004</th>\n",
       "    </tr>\n",
       "  </thead>\n",
       "  <tbody>\n",
       "    <tr>\n",
       "      <th>0</th>\n",
       "      <td>1</td>\n",
       "      <td>Mount Everest / Sagarmatha / Chomolungma</td>\n",
       "      <td>8848</td>\n",
       "      <td>29029</td>\n",
       "      <td>8848</td>\n",
       "      <td>Mahalangur Himalaya</td>\n",
       "      <td>27°59′17″N 86°55′31″E﻿</td>\n",
       "      <td>NaN</td>\n",
       "      <td>1953</td>\n",
       "      <td>&gt;&gt;145</td>\n",
       "      <td>121.0</td>\n",
       "    </tr>\n",
       "    <tr>\n",
       "      <th>1</th>\n",
       "      <td>2</td>\n",
       "      <td>K2 / Qogir / Godwin Austen</td>\n",
       "      <td>8611</td>\n",
       "      <td>28251</td>\n",
       "      <td>4017</td>\n",
       "      <td>Baltoro Karakoram</td>\n",
       "      <td>35°52′53″N 76°30′48″E﻿</td>\n",
       "      <td>Mount Everest</td>\n",
       "      <td>1954</td>\n",
       "      <td>45</td>\n",
       "      <td>44.0</td>\n",
       "    </tr>\n",
       "    <tr>\n",
       "      <th>2</th>\n",
       "      <td>3</td>\n",
       "      <td>Kangchenjunga</td>\n",
       "      <td>8586</td>\n",
       "      <td>28169</td>\n",
       "      <td>3922</td>\n",
       "      <td>Kangchenjunga Himalaya</td>\n",
       "      <td>27°42′12″N 88°08′51″E﻿</td>\n",
       "      <td>Mount Everest</td>\n",
       "      <td>1955</td>\n",
       "      <td>38</td>\n",
       "      <td>24.0</td>\n",
       "    </tr>\n",
       "    <tr>\n",
       "      <th>3</th>\n",
       "      <td>4</td>\n",
       "      <td>Lhotse</td>\n",
       "      <td>8516</td>\n",
       "      <td>27940</td>\n",
       "      <td>610</td>\n",
       "      <td>Mahalangur Himalaya</td>\n",
       "      <td>27°57′42″N 86°55′59″E﻿</td>\n",
       "      <td>Mount Everest</td>\n",
       "      <td>1956</td>\n",
       "      <td>26</td>\n",
       "      <td>26.0</td>\n",
       "    </tr>\n",
       "    <tr>\n",
       "      <th>4</th>\n",
       "      <td>5</td>\n",
       "      <td>Makalu</td>\n",
       "      <td>8485</td>\n",
       "      <td>27838</td>\n",
       "      <td>2386</td>\n",
       "      <td>Mahalangur Himalaya</td>\n",
       "      <td>27°53′23″N 87°05′20″E﻿</td>\n",
       "      <td>Mount Everest</td>\n",
       "      <td>1955</td>\n",
       "      <td>45</td>\n",
       "      <td>52.0</td>\n",
       "    </tr>\n",
       "  </tbody>\n",
       "</table>\n",
       "</div>"
      ],
      "text/plain": [
       "   Rank                                  Mountain  Height (m)  Height (ft)  \\\n",
       "0     1  Mount Everest / Sagarmatha / Chomolungma        8848        29029   \n",
       "1     2                K2 / Qogir / Godwin Austen        8611        28251   \n",
       "2     3                             Kangchenjunga        8586        28169   \n",
       "3     4                                    Lhotse        8516        27940   \n",
       "4     5                                    Makalu        8485        27838   \n",
       "\n",
       "   Prominence (m)                   Range              Coordinates  \\\n",
       "0            8848     Mahalangur Himalaya  27°59′17″N 86°55′31″E﻿    \n",
       "1            4017       Baltoro Karakoram  35°52′53″N 76°30′48″E﻿    \n",
       "2            3922  Kangchenjunga Himalaya  27°42′12″N 88°08′51″E﻿    \n",
       "3             610     Mahalangur Himalaya  27°57′42″N 86°55′59″E﻿    \n",
       "4            2386     Mahalangur Himalaya  27°53′23″N 87°05′20″E﻿    \n",
       "\n",
       "  Parent mountain First ascent Ascents bef. 2004  Failed attempts bef. 2004  \n",
       "0             NaN         1953            >>145                       121.0  \n",
       "1   Mount Everest         1954                45                       44.0  \n",
       "2   Mount Everest         1955                38                       24.0  \n",
       "3   Mount Everest         1956                26                       26.0  \n",
       "4   Mount Everest         1955                45                       52.0  "
      ]
     },
     "execution_count": 7,
     "metadata": {},
     "output_type": "execute_result"
    }
   ],
   "source": [
    "data.head()"
   ]
  },
  {
   "cell_type": "code",
   "execution_count": 8,
   "metadata": {},
   "outputs": [
    {
     "name": "stdout",
     "output_type": "stream",
     "text": [
      "<class 'pandas.core.frame.DataFrame'>\n",
      "RangeIndex: 118 entries, 0 to 117\n",
      "Data columns (total 11 columns):\n",
      "Rank                         118 non-null int64\n",
      "Mountain                     118 non-null object\n",
      "Height (m)                   118 non-null int64\n",
      "Height (ft)                  118 non-null int64\n",
      "Prominence (m)               118 non-null int64\n",
      "Range                        118 non-null object\n",
      "Coordinates                  118 non-null object\n",
      "Parent mountain              117 non-null object\n",
      "First ascent                 118 non-null object\n",
      "Ascents bef. 2004            116 non-null object\n",
      "Failed attempts bef. 2004    115 non-null float64\n",
      "dtypes: float64(1), int64(4), object(6)\n",
      "memory usage: 10.2+ KB\n"
     ]
    }
   ],
   "source": [
    "data.info()"
   ]
  },
  {
   "cell_type": "code",
   "execution_count": 10,
   "metadata": {},
   "outputs": [
    {
     "data": {
      "text/plain": [
       "Rank                           int64\n",
       "Mountain                      object\n",
       "Height (m)                     int64\n",
       "Height (ft)                    int64\n",
       "Prominence (m)                 int64\n",
       "Range                         object\n",
       "Coordinates                   object\n",
       "Parent mountain               object\n",
       "First ascent                  object\n",
       "Ascents bef. 2004             object\n",
       "Failed attempts bef. 2004    float64\n",
       "dtype: object"
      ]
     },
     "execution_count": 10,
     "metadata": {},
     "output_type": "execute_result"
    }
   ],
   "source": [
    "data.dtypes"
   ]
  },
  {
   "cell_type": "code",
   "execution_count": 12,
   "metadata": {},
   "outputs": [
    {
     "data": {
      "text/html": [
       "<div>\n",
       "<style>\n",
       "    .dataframe thead tr:only-child th {\n",
       "        text-align: right;\n",
       "    }\n",
       "\n",
       "    .dataframe thead th {\n",
       "        text-align: left;\n",
       "    }\n",
       "\n",
       "    .dataframe tbody tr th {\n",
       "        vertical-align: top;\n",
       "    }\n",
       "</style>\n",
       "<table border=\"1\" class=\"dataframe\">\n",
       "  <thead>\n",
       "    <tr style=\"text-align: right;\">\n",
       "      <th></th>\n",
       "      <th>Rank</th>\n",
       "      <th>Height (m)</th>\n",
       "      <th>Height (ft)</th>\n",
       "      <th>Prominence (m)</th>\n",
       "      <th>Failed attempts bef. 2004</th>\n",
       "    </tr>\n",
       "  </thead>\n",
       "  <tbody>\n",
       "    <tr>\n",
       "      <th>count</th>\n",
       "      <td>118.000000</td>\n",
       "      <td>118.000000</td>\n",
       "      <td>118.000000</td>\n",
       "      <td>118.000000</td>\n",
       "      <td>115.000000</td>\n",
       "    </tr>\n",
       "    <tr>\n",
       "      <th>mean</th>\n",
       "      <td>59.500000</td>\n",
       "      <td>7578.042373</td>\n",
       "      <td>24862.364407</td>\n",
       "      <td>1671.567797</td>\n",
       "      <td>8.400000</td>\n",
       "    </tr>\n",
       "    <tr>\n",
       "      <th>std</th>\n",
       "      <td>34.207699</td>\n",
       "      <td>341.471211</td>\n",
       "      <td>1120.311905</td>\n",
       "      <td>1234.813419</td>\n",
       "      <td>15.782958</td>\n",
       "    </tr>\n",
       "    <tr>\n",
       "      <th>min</th>\n",
       "      <td>1.000000</td>\n",
       "      <td>7200.000000</td>\n",
       "      <td>23622.000000</td>\n",
       "      <td>217.000000</td>\n",
       "      <td>0.000000</td>\n",
       "    </tr>\n",
       "    <tr>\n",
       "      <th>25%</th>\n",
       "      <td>30.250000</td>\n",
       "      <td>7316.500000</td>\n",
       "      <td>24004.000000</td>\n",
       "      <td>712.750000</td>\n",
       "      <td>1.000000</td>\n",
       "    </tr>\n",
       "    <tr>\n",
       "      <th>50%</th>\n",
       "      <td>59.500000</td>\n",
       "      <td>7472.500000</td>\n",
       "      <td>24516.500000</td>\n",
       "      <td>1332.500000</td>\n",
       "      <td>3.000000</td>\n",
       "    </tr>\n",
       "    <tr>\n",
       "      <th>75%</th>\n",
       "      <td>88.750000</td>\n",
       "      <td>7775.500000</td>\n",
       "      <td>25509.750000</td>\n",
       "      <td>2297.250000</td>\n",
       "      <td>11.000000</td>\n",
       "    </tr>\n",
       "    <tr>\n",
       "      <th>max</th>\n",
       "      <td>118.000000</td>\n",
       "      <td>8848.000000</td>\n",
       "      <td>29029.000000</td>\n",
       "      <td>8848.000000</td>\n",
       "      <td>121.000000</td>\n",
       "    </tr>\n",
       "  </tbody>\n",
       "</table>\n",
       "</div>"
      ],
      "text/plain": [
       "             Rank   Height (m)   Height (ft)  Prominence (m)  \\\n",
       "count  118.000000   118.000000    118.000000      118.000000   \n",
       "mean    59.500000  7578.042373  24862.364407     1671.567797   \n",
       "std     34.207699   341.471211   1120.311905     1234.813419   \n",
       "min      1.000000  7200.000000  23622.000000      217.000000   \n",
       "25%     30.250000  7316.500000  24004.000000      712.750000   \n",
       "50%     59.500000  7472.500000  24516.500000     1332.500000   \n",
       "75%     88.750000  7775.500000  25509.750000     2297.250000   \n",
       "max    118.000000  8848.000000  29029.000000     8848.000000   \n",
       "\n",
       "       Failed attempts bef. 2004  \n",
       "count                 115.000000  \n",
       "mean                    8.400000  \n",
       "std                    15.782958  \n",
       "min                     0.000000  \n",
       "25%                     1.000000  \n",
       "50%                     3.000000  \n",
       "75%                    11.000000  \n",
       "max                   121.000000  "
      ]
     },
     "execution_count": 12,
     "metadata": {},
     "output_type": "execute_result"
    }
   ],
   "source": [
    "data.describe()"
   ]
  },
  {
   "cell_type": "code",
   "execution_count": 13,
   "metadata": {},
   "outputs": [],
   "source": [
    "data.set_index('Mountain', inplace=True)"
   ]
  },
  {
   "cell_type": "code",
   "execution_count": 14,
   "metadata": {},
   "outputs": [
    {
     "data": {
      "text/html": [
       "<div>\n",
       "<style>\n",
       "    .dataframe thead tr:only-child th {\n",
       "        text-align: right;\n",
       "    }\n",
       "\n",
       "    .dataframe thead th {\n",
       "        text-align: left;\n",
       "    }\n",
       "\n",
       "    .dataframe tbody tr th {\n",
       "        vertical-align: top;\n",
       "    }\n",
       "</style>\n",
       "<table border=\"1\" class=\"dataframe\">\n",
       "  <thead>\n",
       "    <tr style=\"text-align: right;\">\n",
       "      <th></th>\n",
       "      <th>Rank</th>\n",
       "      <th>Height (m)</th>\n",
       "      <th>Height (ft)</th>\n",
       "      <th>Prominence (m)</th>\n",
       "      <th>Range</th>\n",
       "      <th>Coordinates</th>\n",
       "      <th>Parent mountain</th>\n",
       "      <th>First ascent</th>\n",
       "      <th>Ascents bef. 2004</th>\n",
       "      <th>Failed attempts bef. 2004</th>\n",
       "    </tr>\n",
       "    <tr>\n",
       "      <th>Mountain</th>\n",
       "      <th></th>\n",
       "      <th></th>\n",
       "      <th></th>\n",
       "      <th></th>\n",
       "      <th></th>\n",
       "      <th></th>\n",
       "      <th></th>\n",
       "      <th></th>\n",
       "      <th></th>\n",
       "      <th></th>\n",
       "    </tr>\n",
       "  </thead>\n",
       "  <tbody>\n",
       "    <tr>\n",
       "      <th>Mount Everest / Sagarmatha / Chomolungma</th>\n",
       "      <td>1</td>\n",
       "      <td>8848</td>\n",
       "      <td>29029</td>\n",
       "      <td>8848</td>\n",
       "      <td>Mahalangur Himalaya</td>\n",
       "      <td>27°59′17″N 86°55′31″E﻿</td>\n",
       "      <td>NaN</td>\n",
       "      <td>1953</td>\n",
       "      <td>&gt;&gt;145</td>\n",
       "      <td>121.0</td>\n",
       "    </tr>\n",
       "    <tr>\n",
       "      <th>K2 / Qogir / Godwin Austen</th>\n",
       "      <td>2</td>\n",
       "      <td>8611</td>\n",
       "      <td>28251</td>\n",
       "      <td>4017</td>\n",
       "      <td>Baltoro Karakoram</td>\n",
       "      <td>35°52′53″N 76°30′48″E﻿</td>\n",
       "      <td>Mount Everest</td>\n",
       "      <td>1954</td>\n",
       "      <td>45</td>\n",
       "      <td>44.0</td>\n",
       "    </tr>\n",
       "    <tr>\n",
       "      <th>Kangchenjunga</th>\n",
       "      <td>3</td>\n",
       "      <td>8586</td>\n",
       "      <td>28169</td>\n",
       "      <td>3922</td>\n",
       "      <td>Kangchenjunga Himalaya</td>\n",
       "      <td>27°42′12″N 88°08′51″E﻿</td>\n",
       "      <td>Mount Everest</td>\n",
       "      <td>1955</td>\n",
       "      <td>38</td>\n",
       "      <td>24.0</td>\n",
       "    </tr>\n",
       "    <tr>\n",
       "      <th>Lhotse</th>\n",
       "      <td>4</td>\n",
       "      <td>8516</td>\n",
       "      <td>27940</td>\n",
       "      <td>610</td>\n",
       "      <td>Mahalangur Himalaya</td>\n",
       "      <td>27°57′42″N 86°55′59″E﻿</td>\n",
       "      <td>Mount Everest</td>\n",
       "      <td>1956</td>\n",
       "      <td>26</td>\n",
       "      <td>26.0</td>\n",
       "    </tr>\n",
       "    <tr>\n",
       "      <th>Makalu</th>\n",
       "      <td>5</td>\n",
       "      <td>8485</td>\n",
       "      <td>27838</td>\n",
       "      <td>2386</td>\n",
       "      <td>Mahalangur Himalaya</td>\n",
       "      <td>27°53′23″N 87°05′20″E﻿</td>\n",
       "      <td>Mount Everest</td>\n",
       "      <td>1955</td>\n",
       "      <td>45</td>\n",
       "      <td>52.0</td>\n",
       "    </tr>\n",
       "  </tbody>\n",
       "</table>\n",
       "</div>"
      ],
      "text/plain": [
       "                                          Rank  Height (m)  Height (ft)  \\\n",
       "Mountain                                                                  \n",
       "Mount Everest / Sagarmatha / Chomolungma     1        8848        29029   \n",
       "K2 / Qogir / Godwin Austen                   2        8611        28251   \n",
       "Kangchenjunga                                3        8586        28169   \n",
       "Lhotse                                       4        8516        27940   \n",
       "Makalu                                       5        8485        27838   \n",
       "\n",
       "                                          Prominence (m)  \\\n",
       "Mountain                                                   \n",
       "Mount Everest / Sagarmatha / Chomolungma            8848   \n",
       "K2 / Qogir / Godwin Austen                          4017   \n",
       "Kangchenjunga                                       3922   \n",
       "Lhotse                                               610   \n",
       "Makalu                                              2386   \n",
       "\n",
       "                                                           Range  \\\n",
       "Mountain                                                           \n",
       "Mount Everest / Sagarmatha / Chomolungma     Mahalangur Himalaya   \n",
       "K2 / Qogir / Godwin Austen                     Baltoro Karakoram   \n",
       "Kangchenjunga                             Kangchenjunga Himalaya   \n",
       "Lhotse                                       Mahalangur Himalaya   \n",
       "Makalu                                       Mahalangur Himalaya   \n",
       "\n",
       "                                                      Coordinates  \\\n",
       "Mountain                                                            \n",
       "Mount Everest / Sagarmatha / Chomolungma  27°59′17″N 86°55′31″E﻿    \n",
       "K2 / Qogir / Godwin Austen                35°52′53″N 76°30′48″E﻿    \n",
       "Kangchenjunga                             27°42′12″N 88°08′51″E﻿    \n",
       "Lhotse                                    27°57′42″N 86°55′59″E﻿    \n",
       "Makalu                                    27°53′23″N 87°05′20″E﻿    \n",
       "\n",
       "                                         Parent mountain First ascent  \\\n",
       "Mountain                                                                \n",
       "Mount Everest / Sagarmatha / Chomolungma             NaN         1953   \n",
       "K2 / Qogir / Godwin Austen                 Mount Everest         1954   \n",
       "Kangchenjunga                              Mount Everest         1955   \n",
       "Lhotse                                     Mount Everest         1956   \n",
       "Makalu                                     Mount Everest         1955   \n",
       "\n",
       "                                         Ascents bef. 2004  \\\n",
       "Mountain                                                     \n",
       "Mount Everest / Sagarmatha / Chomolungma            >>145    \n",
       "K2 / Qogir / Godwin Austen                              45   \n",
       "Kangchenjunga                                           38   \n",
       "Lhotse                                                  26   \n",
       "Makalu                                                  45   \n",
       "\n",
       "                                          Failed attempts bef. 2004  \n",
       "Mountain                                                             \n",
       "Mount Everest / Sagarmatha / Chomolungma                      121.0  \n",
       "K2 / Qogir / Godwin Austen                                     44.0  \n",
       "Kangchenjunga                                                  24.0  \n",
       "Lhotse                                                         26.0  \n",
       "Makalu                                                         52.0  "
      ]
     },
     "execution_count": 14,
     "metadata": {},
     "output_type": "execute_result"
    }
   ],
   "source": [
    "data.head()"
   ]
  },
  {
   "cell_type": "code",
   "execution_count": 16,
   "metadata": {},
   "outputs": [],
   "source": [
    "data.drop(['Rank', 'Height (ft)', 'Coordinates', 'Parent mountain'], axis=1, inplace=True)"
   ]
  },
  {
   "cell_type": "code",
   "execution_count": 17,
   "metadata": {},
   "outputs": [
    {
     "data": {
      "text/html": [
       "<div>\n",
       "<style>\n",
       "    .dataframe thead tr:only-child th {\n",
       "        text-align: right;\n",
       "    }\n",
       "\n",
       "    .dataframe thead th {\n",
       "        text-align: left;\n",
       "    }\n",
       "\n",
       "    .dataframe tbody tr th {\n",
       "        vertical-align: top;\n",
       "    }\n",
       "</style>\n",
       "<table border=\"1\" class=\"dataframe\">\n",
       "  <thead>\n",
       "    <tr style=\"text-align: right;\">\n",
       "      <th></th>\n",
       "      <th>Height (m)</th>\n",
       "      <th>Prominence (m)</th>\n",
       "      <th>Range</th>\n",
       "      <th>First ascent</th>\n",
       "      <th>Ascents bef. 2004</th>\n",
       "      <th>Failed attempts bef. 2004</th>\n",
       "    </tr>\n",
       "    <tr>\n",
       "      <th>Mountain</th>\n",
       "      <th></th>\n",
       "      <th></th>\n",
       "      <th></th>\n",
       "      <th></th>\n",
       "      <th></th>\n",
       "      <th></th>\n",
       "    </tr>\n",
       "  </thead>\n",
       "  <tbody>\n",
       "    <tr>\n",
       "      <th>Mount Everest / Sagarmatha / Chomolungma</th>\n",
       "      <td>8848</td>\n",
       "      <td>8848</td>\n",
       "      <td>Mahalangur Himalaya</td>\n",
       "      <td>1953</td>\n",
       "      <td>&gt;&gt;145</td>\n",
       "      <td>121.0</td>\n",
       "    </tr>\n",
       "    <tr>\n",
       "      <th>K2 / Qogir / Godwin Austen</th>\n",
       "      <td>8611</td>\n",
       "      <td>4017</td>\n",
       "      <td>Baltoro Karakoram</td>\n",
       "      <td>1954</td>\n",
       "      <td>45</td>\n",
       "      <td>44.0</td>\n",
       "    </tr>\n",
       "    <tr>\n",
       "      <th>Kangchenjunga</th>\n",
       "      <td>8586</td>\n",
       "      <td>3922</td>\n",
       "      <td>Kangchenjunga Himalaya</td>\n",
       "      <td>1955</td>\n",
       "      <td>38</td>\n",
       "      <td>24.0</td>\n",
       "    </tr>\n",
       "    <tr>\n",
       "      <th>Lhotse</th>\n",
       "      <td>8516</td>\n",
       "      <td>610</td>\n",
       "      <td>Mahalangur Himalaya</td>\n",
       "      <td>1956</td>\n",
       "      <td>26</td>\n",
       "      <td>26.0</td>\n",
       "    </tr>\n",
       "    <tr>\n",
       "      <th>Makalu</th>\n",
       "      <td>8485</td>\n",
       "      <td>2386</td>\n",
       "      <td>Mahalangur Himalaya</td>\n",
       "      <td>1955</td>\n",
       "      <td>45</td>\n",
       "      <td>52.0</td>\n",
       "    </tr>\n",
       "  </tbody>\n",
       "</table>\n",
       "</div>"
      ],
      "text/plain": [
       "                                          Height (m)  Prominence (m)  \\\n",
       "Mountain                                                               \n",
       "Mount Everest / Sagarmatha / Chomolungma        8848            8848   \n",
       "K2 / Qogir / Godwin Austen                      8611            4017   \n",
       "Kangchenjunga                                   8586            3922   \n",
       "Lhotse                                          8516             610   \n",
       "Makalu                                          8485            2386   \n",
       "\n",
       "                                                           Range First ascent  \\\n",
       "Mountain                                                                        \n",
       "Mount Everest / Sagarmatha / Chomolungma     Mahalangur Himalaya         1953   \n",
       "K2 / Qogir / Godwin Austen                     Baltoro Karakoram         1954   \n",
       "Kangchenjunga                             Kangchenjunga Himalaya         1955   \n",
       "Lhotse                                       Mahalangur Himalaya         1956   \n",
       "Makalu                                       Mahalangur Himalaya         1955   \n",
       "\n",
       "                                         Ascents bef. 2004  \\\n",
       "Mountain                                                     \n",
       "Mount Everest / Sagarmatha / Chomolungma            >>145    \n",
       "K2 / Qogir / Godwin Austen                              45   \n",
       "Kangchenjunga                                           38   \n",
       "Lhotse                                                  26   \n",
       "Makalu                                                  45   \n",
       "\n",
       "                                          Failed attempts bef. 2004  \n",
       "Mountain                                                             \n",
       "Mount Everest / Sagarmatha / Chomolungma                      121.0  \n",
       "K2 / Qogir / Godwin Austen                                     44.0  \n",
       "Kangchenjunga                                                  24.0  \n",
       "Lhotse                                                         26.0  \n",
       "Makalu                                                         52.0  "
      ]
     },
     "execution_count": 17,
     "metadata": {},
     "output_type": "execute_result"
    }
   ],
   "source": [
    "data.head()"
   ]
  },
  {
   "cell_type": "code",
   "execution_count": 18,
   "metadata": {},
   "outputs": [
    {
     "data": {
      "text/html": [
       "<div>\n",
       "<style>\n",
       "    .dataframe thead tr:only-child th {\n",
       "        text-align: right;\n",
       "    }\n",
       "\n",
       "    .dataframe thead th {\n",
       "        text-align: left;\n",
       "    }\n",
       "\n",
       "    .dataframe tbody tr th {\n",
       "        vertical-align: top;\n",
       "    }\n",
       "</style>\n",
       "<table border=\"1\" class=\"dataframe\">\n",
       "  <thead>\n",
       "    <tr style=\"text-align: right;\">\n",
       "      <th></th>\n",
       "      <th>Height (m)</th>\n",
       "      <th>Prominence (m)</th>\n",
       "      <th>Range</th>\n",
       "      <th>First ascent</th>\n",
       "      <th>Ascents bef. 2004</th>\n",
       "      <th>Failed attempts bef. 2004</th>\n",
       "    </tr>\n",
       "    <tr>\n",
       "      <th>Mountain</th>\n",
       "      <th></th>\n",
       "      <th></th>\n",
       "      <th></th>\n",
       "      <th></th>\n",
       "      <th></th>\n",
       "      <th></th>\n",
       "    </tr>\n",
       "  </thead>\n",
       "  <tbody>\n",
       "    <tr>\n",
       "      <th>K2 / Qogir / Godwin Austen</th>\n",
       "      <td>8611</td>\n",
       "      <td>4017</td>\n",
       "      <td>Baltoro Karakoram</td>\n",
       "      <td>1954</td>\n",
       "      <td>45</td>\n",
       "      <td>44.0</td>\n",
       "    </tr>\n",
       "    <tr>\n",
       "      <th>Kangchenjunga</th>\n",
       "      <td>8586</td>\n",
       "      <td>3922</td>\n",
       "      <td>Kangchenjunga Himalaya</td>\n",
       "      <td>1955</td>\n",
       "      <td>38</td>\n",
       "      <td>24.0</td>\n",
       "    </tr>\n",
       "    <tr>\n",
       "      <th>Lhotse</th>\n",
       "      <td>8516</td>\n",
       "      <td>610</td>\n",
       "      <td>Mahalangur Himalaya</td>\n",
       "      <td>1956</td>\n",
       "      <td>26</td>\n",
       "      <td>26.0</td>\n",
       "    </tr>\n",
       "    <tr>\n",
       "      <th>Makalu</th>\n",
       "      <td>8485</td>\n",
       "      <td>2386</td>\n",
       "      <td>Mahalangur Himalaya</td>\n",
       "      <td>1955</td>\n",
       "      <td>45</td>\n",
       "      <td>52.0</td>\n",
       "    </tr>\n",
       "    <tr>\n",
       "      <th>Cho Oyu</th>\n",
       "      <td>8188</td>\n",
       "      <td>2340</td>\n",
       "      <td>Mahalangur Himalaya</td>\n",
       "      <td>1954</td>\n",
       "      <td>79</td>\n",
       "      <td>28.0</td>\n",
       "    </tr>\n",
       "  </tbody>\n",
       "</table>\n",
       "</div>"
      ],
      "text/plain": [
       "                            Height (m)  Prominence (m)  \\\n",
       "Mountain                                                 \n",
       "K2 / Qogir / Godwin Austen        8611            4017   \n",
       "Kangchenjunga                     8586            3922   \n",
       "Lhotse                            8516             610   \n",
       "Makalu                            8485            2386   \n",
       "Cho Oyu                           8188            2340   \n",
       "\n",
       "                                             Range First ascent  \\\n",
       "Mountain                                                          \n",
       "K2 / Qogir / Godwin Austen       Baltoro Karakoram         1954   \n",
       "Kangchenjunga               Kangchenjunga Himalaya         1955   \n",
       "Lhotse                         Mahalangur Himalaya         1956   \n",
       "Makalu                         Mahalangur Himalaya         1955   \n",
       "Cho Oyu                        Mahalangur Himalaya         1954   \n",
       "\n",
       "                           Ascents bef. 2004  Failed attempts bef. 2004  \n",
       "Mountain                                                                 \n",
       "K2 / Qogir / Godwin Austen                45                       44.0  \n",
       "Kangchenjunga                             38                       24.0  \n",
       "Lhotse                                    26                       26.0  \n",
       "Makalu                                    45                       52.0  \n",
       "Cho Oyu                                   79                       28.0  "
      ]
     },
     "execution_count": 18,
     "metadata": {},
     "output_type": "execute_result"
    }
   ],
   "source": [
    "data.drop(['Mount Everest / Sagarmatha / Chomolungma', 'Muztagh Ata'], axis=0, inplace=True)\n",
    "data.head()"
   ]
  },
  {
   "cell_type": "code",
   "execution_count": 19,
   "metadata": {},
   "outputs": [
    {
     "data": {
      "text/html": [
       "<div>\n",
       "<style>\n",
       "    .dataframe thead tr:only-child th {\n",
       "        text-align: right;\n",
       "    }\n",
       "\n",
       "    .dataframe thead th {\n",
       "        text-align: left;\n",
       "    }\n",
       "\n",
       "    .dataframe tbody tr th {\n",
       "        vertical-align: top;\n",
       "    }\n",
       "</style>\n",
       "<table border=\"1\" class=\"dataframe\">\n",
       "  <thead>\n",
       "    <tr style=\"text-align: right;\">\n",
       "      <th></th>\n",
       "      <th>Height (m)</th>\n",
       "      <th>Prominence (m)</th>\n",
       "      <th>Range</th>\n",
       "      <th>First ascent</th>\n",
       "      <th>Ascents bef. 2004</th>\n",
       "      <th>Failed attempts bef. 2004</th>\n",
       "    </tr>\n",
       "    <tr>\n",
       "      <th>Mountain</th>\n",
       "      <th></th>\n",
       "      <th></th>\n",
       "      <th></th>\n",
       "      <th></th>\n",
       "      <th></th>\n",
       "      <th></th>\n",
       "    </tr>\n",
       "  </thead>\n",
       "  <tbody>\n",
       "    <tr>\n",
       "      <th>Gangkhar Puensum</th>\n",
       "      <td>7570</td>\n",
       "      <td>2995</td>\n",
       "      <td>Kula Kangri Himalaya</td>\n",
       "      <td>unclimbed</td>\n",
       "      <td>0</td>\n",
       "      <td>3.0</td>\n",
       "    </tr>\n",
       "    <tr>\n",
       "      <th>Labuche Kang III / East</th>\n",
       "      <td>7250</td>\n",
       "      <td>570</td>\n",
       "      <td>Labuche Himalaya</td>\n",
       "      <td>unclimbed</td>\n",
       "      <td>0</td>\n",
       "      <td>0.0</td>\n",
       "    </tr>\n",
       "    <tr>\n",
       "      <th>Karjiang</th>\n",
       "      <td>7221</td>\n",
       "      <td>880</td>\n",
       "      <td>Kula Kangri Himalaya</td>\n",
       "      <td>unclimbed</td>\n",
       "      <td>0</td>\n",
       "      <td>2.0</td>\n",
       "    </tr>\n",
       "    <tr>\n",
       "      <th>Tongshanjiabu</th>\n",
       "      <td>7207</td>\n",
       "      <td>1757</td>\n",
       "      <td>Lunana Himalaya</td>\n",
       "      <td>unclimbed</td>\n",
       "      <td>0</td>\n",
       "      <td>0.0</td>\n",
       "    </tr>\n",
       "  </tbody>\n",
       "</table>\n",
       "</div>"
      ],
      "text/plain": [
       "                         Height (m)  Prominence (m)                 Range  \\\n",
       "Mountain                                                                    \n",
       "Gangkhar Puensum               7570            2995  Kula Kangri Himalaya   \n",
       "Labuche Kang III / East        7250             570      Labuche Himalaya   \n",
       "Karjiang                       7221             880  Kula Kangri Himalaya   \n",
       "Tongshanjiabu                  7207            1757       Lunana Himalaya   \n",
       "\n",
       "                        First ascent Ascents bef. 2004  \\\n",
       "Mountain                                                 \n",
       "Gangkhar Puensum           unclimbed                 0   \n",
       "Labuche Kang III / East    unclimbed                 0   \n",
       "Karjiang                   unclimbed                 0   \n",
       "Tongshanjiabu              unclimbed                 0   \n",
       "\n",
       "                         Failed attempts bef. 2004  \n",
       "Mountain                                            \n",
       "Gangkhar Puensum                               3.0  \n",
       "Labuche Kang III / East                        0.0  \n",
       "Karjiang                                       2.0  \n",
       "Tongshanjiabu                                  0.0  "
      ]
     },
     "execution_count": 19,
     "metadata": {},
     "output_type": "execute_result"
    }
   ],
   "source": [
    "data[data['First ascent'] == 'unclimbed']"
   ]
  },
  {
   "cell_type": "code",
   "execution_count": 25,
   "metadata": {},
   "outputs": [],
   "source": [
    "data = data[data['First ascent'] != 'unclimbed']"
   ]
  },
  {
   "cell_type": "code",
   "execution_count": 26,
   "metadata": {},
   "outputs": [
    {
     "data": {
      "text/html": [
       "<div>\n",
       "<style>\n",
       "    .dataframe thead tr:only-child th {\n",
       "        text-align: right;\n",
       "    }\n",
       "\n",
       "    .dataframe thead th {\n",
       "        text-align: left;\n",
       "    }\n",
       "\n",
       "    .dataframe tbody tr th {\n",
       "        vertical-align: top;\n",
       "    }\n",
       "</style>\n",
       "<table border=\"1\" class=\"dataframe\">\n",
       "  <thead>\n",
       "    <tr style=\"text-align: right;\">\n",
       "      <th></th>\n",
       "      <th>Height (m)</th>\n",
       "      <th>Prominence (m)</th>\n",
       "      <th>Range</th>\n",
       "      <th>First ascent</th>\n",
       "      <th>Ascents bef. 2004</th>\n",
       "      <th>Failed attempts bef. 2004</th>\n",
       "    </tr>\n",
       "    <tr>\n",
       "      <th>Mountain</th>\n",
       "      <th></th>\n",
       "      <th></th>\n",
       "      <th></th>\n",
       "      <th></th>\n",
       "      <th></th>\n",
       "      <th></th>\n",
       "    </tr>\n",
       "  </thead>\n",
       "  <tbody>\n",
       "    <tr>\n",
       "      <th>K2 / Qogir / Godwin Austen</th>\n",
       "      <td>8611</td>\n",
       "      <td>4017</td>\n",
       "      <td>Baltoro Karakoram</td>\n",
       "      <td>1954</td>\n",
       "      <td>45</td>\n",
       "      <td>44.0</td>\n",
       "    </tr>\n",
       "    <tr>\n",
       "      <th>Kangchenjunga</th>\n",
       "      <td>8586</td>\n",
       "      <td>3922</td>\n",
       "      <td>Kangchenjunga Himalaya</td>\n",
       "      <td>1955</td>\n",
       "      <td>38</td>\n",
       "      <td>24.0</td>\n",
       "    </tr>\n",
       "    <tr>\n",
       "      <th>Lhotse</th>\n",
       "      <td>8516</td>\n",
       "      <td>610</td>\n",
       "      <td>Mahalangur Himalaya</td>\n",
       "      <td>1956</td>\n",
       "      <td>26</td>\n",
       "      <td>26.0</td>\n",
       "    </tr>\n",
       "    <tr>\n",
       "      <th>Makalu</th>\n",
       "      <td>8485</td>\n",
       "      <td>2386</td>\n",
       "      <td>Mahalangur Himalaya</td>\n",
       "      <td>1955</td>\n",
       "      <td>45</td>\n",
       "      <td>52.0</td>\n",
       "    </tr>\n",
       "    <tr>\n",
       "      <th>Cho Oyu</th>\n",
       "      <td>8188</td>\n",
       "      <td>2340</td>\n",
       "      <td>Mahalangur Himalaya</td>\n",
       "      <td>1954</td>\n",
       "      <td>79</td>\n",
       "      <td>28.0</td>\n",
       "    </tr>\n",
       "  </tbody>\n",
       "</table>\n",
       "</div>"
      ],
      "text/plain": [
       "                            Height (m)  Prominence (m)  \\\n",
       "Mountain                                                 \n",
       "K2 / Qogir / Godwin Austen        8611            4017   \n",
       "Kangchenjunga                     8586            3922   \n",
       "Lhotse                            8516             610   \n",
       "Makalu                            8485            2386   \n",
       "Cho Oyu                           8188            2340   \n",
       "\n",
       "                                             Range First ascent  \\\n",
       "Mountain                                                          \n",
       "K2 / Qogir / Godwin Austen       Baltoro Karakoram         1954   \n",
       "Kangchenjunga               Kangchenjunga Himalaya         1955   \n",
       "Lhotse                         Mahalangur Himalaya         1956   \n",
       "Makalu                         Mahalangur Himalaya         1955   \n",
       "Cho Oyu                        Mahalangur Himalaya         1954   \n",
       "\n",
       "                           Ascents bef. 2004  Failed attempts bef. 2004  \n",
       "Mountain                                                                 \n",
       "K2 / Qogir / Godwin Austen                45                       44.0  \n",
       "Kangchenjunga                             38                       24.0  \n",
       "Lhotse                                    26                       26.0  \n",
       "Makalu                                    45                       52.0  \n",
       "Cho Oyu                                   79                       28.0  "
      ]
     },
     "execution_count": 26,
     "metadata": {},
     "output_type": "execute_result"
    }
   ],
   "source": [
    "data.head()"
   ]
  },
  {
   "cell_type": "code",
   "execution_count": 32,
   "metadata": {},
   "outputs": [
    {
     "data": {
      "text/html": [
       "<div>\n",
       "<style>\n",
       "    .dataframe thead tr:only-child th {\n",
       "        text-align: right;\n",
       "    }\n",
       "\n",
       "    .dataframe thead th {\n",
       "        text-align: left;\n",
       "    }\n",
       "\n",
       "    .dataframe tbody tr th {\n",
       "        vertical-align: top;\n",
       "    }\n",
       "</style>\n",
       "<table border=\"1\" class=\"dataframe\">\n",
       "  <thead>\n",
       "    <tr style=\"text-align: right;\">\n",
       "      <th></th>\n",
       "      <th>Height (m)</th>\n",
       "      <th>Prominence (m)</th>\n",
       "      <th>Range</th>\n",
       "      <th>First ascent</th>\n",
       "      <th>Ascents bef. 2004</th>\n",
       "      <th>Failed attempts bef. 2004</th>\n",
       "    </tr>\n",
       "    <tr>\n",
       "      <th>Mountain</th>\n",
       "      <th></th>\n",
       "      <th></th>\n",
       "      <th></th>\n",
       "      <th></th>\n",
       "      <th></th>\n",
       "      <th></th>\n",
       "    </tr>\n",
       "  </thead>\n",
       "  <tbody>\n",
       "    <tr>\n",
       "      <th>K2 / Qogir / Godwin Austen</th>\n",
       "      <td>8611</td>\n",
       "      <td>4017</td>\n",
       "      <td>Baltoro Karakoram</td>\n",
       "      <td>1954</td>\n",
       "      <td>45</td>\n",
       "      <td>44.0</td>\n",
       "    </tr>\n",
       "    <tr>\n",
       "      <th>Kangchenjunga</th>\n",
       "      <td>8586</td>\n",
       "      <td>3922</td>\n",
       "      <td>Kangchenjunga Himalaya</td>\n",
       "      <td>1955</td>\n",
       "      <td>38</td>\n",
       "      <td>24.0</td>\n",
       "    </tr>\n",
       "    <tr>\n",
       "      <th>Lhotse</th>\n",
       "      <td>8516</td>\n",
       "      <td>610</td>\n",
       "      <td>Mahalangur Himalaya</td>\n",
       "      <td>1956</td>\n",
       "      <td>26</td>\n",
       "      <td>26.0</td>\n",
       "    </tr>\n",
       "    <tr>\n",
       "      <th>Makalu</th>\n",
       "      <td>8485</td>\n",
       "      <td>2386</td>\n",
       "      <td>Mahalangur Himalaya</td>\n",
       "      <td>1955</td>\n",
       "      <td>45</td>\n",
       "      <td>52.0</td>\n",
       "    </tr>\n",
       "    <tr>\n",
       "      <th>Cho Oyu</th>\n",
       "      <td>8188</td>\n",
       "      <td>2340</td>\n",
       "      <td>Mahalangur Himalaya</td>\n",
       "      <td>1954</td>\n",
       "      <td>79</td>\n",
       "      <td>28.0</td>\n",
       "    </tr>\n",
       "    <tr>\n",
       "      <th>Dhaulagiri I</th>\n",
       "      <td>8167</td>\n",
       "      <td>3357</td>\n",
       "      <td>Dhaulagiri Himalaya</td>\n",
       "      <td>1960</td>\n",
       "      <td>51</td>\n",
       "      <td>39.0</td>\n",
       "    </tr>\n",
       "    <tr>\n",
       "      <th>Manaslu</th>\n",
       "      <td>8163</td>\n",
       "      <td>3092</td>\n",
       "      <td>Manaslu Himalaya</td>\n",
       "      <td>1956</td>\n",
       "      <td>49</td>\n",
       "      <td>45.0</td>\n",
       "    </tr>\n",
       "    <tr>\n",
       "      <th>Nanga Parbat</th>\n",
       "      <td>8126</td>\n",
       "      <td>4608</td>\n",
       "      <td>Nanga Parbat Himalaya</td>\n",
       "      <td>1953</td>\n",
       "      <td>52</td>\n",
       "      <td>67.0</td>\n",
       "    </tr>\n",
       "    <tr>\n",
       "      <th>Annapurna I</th>\n",
       "      <td>8091</td>\n",
       "      <td>2984</td>\n",
       "      <td>Annapurna Himalaya</td>\n",
       "      <td>1950</td>\n",
       "      <td>36</td>\n",
       "      <td>47.0</td>\n",
       "    </tr>\n",
       "    <tr>\n",
       "      <th>Gasherbrum I / Hidden Peak / K5</th>\n",
       "      <td>8080</td>\n",
       "      <td>2155</td>\n",
       "      <td>Baltoro Karakoram</td>\n",
       "      <td>1958</td>\n",
       "      <td>31</td>\n",
       "      <td>16.0</td>\n",
       "    </tr>\n",
       "    <tr>\n",
       "      <th>Broad Peak / K3</th>\n",
       "      <td>8051</td>\n",
       "      <td>1701</td>\n",
       "      <td>Baltoro Karakoram</td>\n",
       "      <td>1957</td>\n",
       "      <td>39</td>\n",
       "      <td>19.0</td>\n",
       "    </tr>\n",
       "    <tr>\n",
       "      <th>Gasherbrum II / K4</th>\n",
       "      <td>8035</td>\n",
       "      <td>1524</td>\n",
       "      <td>Baltoro Karakoram</td>\n",
       "      <td>1956</td>\n",
       "      <td>54</td>\n",
       "      <td>12.0</td>\n",
       "    </tr>\n",
       "    <tr>\n",
       "      <th>Shishapangma</th>\n",
       "      <td>8027</td>\n",
       "      <td>2897</td>\n",
       "      <td>Jugal Himalaya</td>\n",
       "      <td>1964</td>\n",
       "      <td>43</td>\n",
       "      <td>19.0</td>\n",
       "    </tr>\n",
       "  </tbody>\n",
       "</table>\n",
       "</div>"
      ],
      "text/plain": [
       "                                 Height (m)  Prominence (m)  \\\n",
       "Mountain                                                      \n",
       "K2 / Qogir / Godwin Austen             8611            4017   \n",
       "Kangchenjunga                          8586            3922   \n",
       "Lhotse                                 8516             610   \n",
       "Makalu                                 8485            2386   \n",
       "Cho Oyu                                8188            2340   \n",
       "Dhaulagiri I                           8167            3357   \n",
       "Manaslu                                8163            3092   \n",
       "Nanga Parbat                           8126            4608   \n",
       "Annapurna I                            8091            2984   \n",
       "Gasherbrum I / Hidden Peak / K5        8080            2155   \n",
       "Broad Peak / K3                        8051            1701   \n",
       "Gasherbrum II / K4                     8035            1524   \n",
       "Shishapangma                           8027            2897   \n",
       "\n",
       "                                                  Range First ascent  \\\n",
       "Mountain                                                               \n",
       "K2 / Qogir / Godwin Austen            Baltoro Karakoram         1954   \n",
       "Kangchenjunga                    Kangchenjunga Himalaya         1955   \n",
       "Lhotse                              Mahalangur Himalaya         1956   \n",
       "Makalu                              Mahalangur Himalaya         1955   \n",
       "Cho Oyu                             Mahalangur Himalaya         1954   \n",
       "Dhaulagiri I                        Dhaulagiri Himalaya         1960   \n",
       "Manaslu                                Manaslu Himalaya         1956   \n",
       "Nanga Parbat                      Nanga Parbat Himalaya         1953   \n",
       "Annapurna I                          Annapurna Himalaya         1950   \n",
       "Gasherbrum I / Hidden Peak / K5       Baltoro Karakoram         1958   \n",
       "Broad Peak / K3                       Baltoro Karakoram         1957   \n",
       "Gasherbrum II / K4                    Baltoro Karakoram         1956   \n",
       "Shishapangma                             Jugal Himalaya         1964   \n",
       "\n",
       "                                Ascents bef. 2004  Failed attempts bef. 2004  \n",
       "Mountain                                                                      \n",
       "K2 / Qogir / Godwin Austen                     45                       44.0  \n",
       "Kangchenjunga                                  38                       24.0  \n",
       "Lhotse                                         26                       26.0  \n",
       "Makalu                                         45                       52.0  \n",
       "Cho Oyu                                        79                       28.0  \n",
       "Dhaulagiri I                                   51                       39.0  \n",
       "Manaslu                                        49                       45.0  \n",
       "Nanga Parbat                                   52                       67.0  \n",
       "Annapurna I                                    36                       47.0  \n",
       "Gasherbrum I / Hidden Peak / K5                31                       16.0  \n",
       "Broad Peak / K3                                39                       19.0  \n",
       "Gasherbrum II / K4                             54                       12.0  \n",
       "Shishapangma                                   43                       19.0  "
      ]
     },
     "execution_count": 32,
     "metadata": {},
     "output_type": "execute_result"
    }
   ],
   "source": [
    "data[data['Height (m)'] > 8000]"
   ]
  },
  {
   "cell_type": "code",
   "execution_count": 41,
   "metadata": {},
   "outputs": [],
   "source": [
    "filter = data['Height (m)'] > 8000"
   ]
  },
  {
   "cell_type": "code",
   "execution_count": 42,
   "metadata": {},
   "outputs": [
    {
     "name": "stdout",
     "output_type": "stream",
     "text": [
      "<class 'pandas.core.frame.DataFrame'>\n",
      "Index: 110 entries, K2 / Qogir / Godwin Austen to Lupghar Sar\n",
      "Data columns (total 6 columns):\n",
      "Height (m)                   110 non-null int64\n",
      "Prominence (m)               110 non-null int64\n",
      "Range                        110 non-null object\n",
      "First ascent                 110 non-null object\n",
      "Ascents bef. 2004            110 non-null object\n",
      "Failed attempts bef. 2004    110 non-null float64\n",
      "dtypes: float64(1), int64(2), object(3)\n",
      "memory usage: 6.0+ KB\n"
     ]
    }
   ],
   "source": [
    "data.info()"
   ]
  },
  {
   "cell_type": "code",
   "execution_count": 44,
   "metadata": {},
   "outputs": [
    {
     "name": "stdout",
     "output_type": "stream",
     "text": [
      "<class 'pandas.core.frame.DataFrame'>\n",
      "Index: 110 entries, K2 / Qogir / Godwin Austen to Lupghar Sar\n",
      "Data columns (total 6 columns):\n",
      "Height (m)                   110 non-null int64\n",
      "Prominence (m)               110 non-null int64\n",
      "Range                        110 non-null object\n",
      "First ascent                 110 non-null object\n",
      "Ascents bef. 2004            110 non-null object\n",
      "Failed attempts bef. 2004    110 non-null float64\n",
      "dtypes: float64(1), int64(2), object(3)\n",
      "memory usage: 6.0+ KB\n"
     ]
    }
   ],
   "source": [
    "data.dropna(inplace=True)\n",
    "data.info()"
   ]
  },
  {
   "cell_type": "code",
   "execution_count": 45,
   "metadata": {},
   "outputs": [],
   "source": [
    "data['First ascent'] = data['First ascent'].astype(int)\n",
    "data['Ascents bef. 2004'] = data['Ascents bef. 2004'].astype(int)\n",
    "data['Failed attempts bef. 2004'] = data['Failed attempts bef. 2004'].astype(int)"
   ]
  },
  {
   "cell_type": "code",
   "execution_count": 46,
   "metadata": {},
   "outputs": [
    {
     "name": "stdout",
     "output_type": "stream",
     "text": [
      "<class 'pandas.core.frame.DataFrame'>\n",
      "Index: 110 entries, K2 / Qogir / Godwin Austen to Lupghar Sar\n",
      "Data columns (total 6 columns):\n",
      "Height (m)                   110 non-null int64\n",
      "Prominence (m)               110 non-null int64\n",
      "Range                        110 non-null object\n",
      "First ascent                 110 non-null int32\n",
      "Ascents bef. 2004            110 non-null int32\n",
      "Failed attempts bef. 2004    110 non-null int32\n",
      "dtypes: int32(3), int64(2), object(1)\n",
      "memory usage: 4.7+ KB\n"
     ]
    }
   ],
   "source": [
    "data.info()"
   ]
  },
  {
   "cell_type": "code",
   "execution_count": 48,
   "metadata": {},
   "outputs": [
    {
     "name": "stdout",
     "output_type": "stream",
     "text": [
      "<class 'pandas.core.frame.DataFrame'>\n",
      "Index: 110 entries, K2 / Qogir / Godwin Austen to Lupghar Sar\n",
      "Data columns (total 7 columns):\n",
      "Height (m)                   110 non-null int64\n",
      "Prominence (m)               110 non-null int64\n",
      "Range                        110 non-null object\n",
      "First ascent                 110 non-null int32\n",
      "Ascents bef. 2004            110 non-null int32\n",
      "Failed attempts bef. 2004    110 non-null int32\n",
      "Total attempts               110 non-null int32\n",
      "dtypes: int32(4), int64(2), object(1)\n",
      "memory usage: 5.2+ KB\n"
     ]
    }
   ],
   "source": [
    "data['Total attempts'] = data['Ascents bef. 2004'] + data['Failed attempts bef. 2004']\n",
    "data.info()"
   ]
  },
  {
   "cell_type": "code",
   "execution_count": 52,
   "metadata": {},
   "outputs": [
    {
     "data": {
      "text/plain": [
       "Mountain\n",
       "Nanga Parbat                       119\n",
       "Cho Oyu                            107\n",
       "Makalu                              97\n",
       "Manaslu                             94\n",
       "Dhaulagiri I                        90\n",
       "K2 / Qogir / Godwin Austen          89\n",
       "Annapurna I                         83\n",
       "Gasherbrum II / K4                  66\n",
       "Kangchenjunga                       62\n",
       "Shishapangma                        62\n",
       "Broad Peak / K3                     58\n",
       "Lhotse                              52\n",
       "Gasherbrum I / Hidden Peak / K5     47\n",
       "Kamet                               37\n",
       "Noshaq                              36\n",
       "Tirich Mir                          31\n",
       "Jannu                               29\n",
       "Langtang Lirung                     27\n",
       "Annapurna III                       27\n",
       "Sunanda Devi                        26\n",
       "Nanda Devi                          26\n",
       "Annapurna Dakshin                   26\n",
       "Annapurna II                        25\n",
       "Rakaposhi                           21\n",
       "Gangapurna                          21\n",
       "Diran                               20\n",
       "Abi Gamin                           19\n",
       "Changtse                            18\n",
       "Himalchuli                          18\n",
       "Nuptse                              17\n",
       "                                  ... \n",
       "Skyang Kangri                        3\n",
       "Churen Himal                         3\n",
       "Mukut Parbat                         3\n",
       "Kabru N                              3\n",
       "Pumari Chhish                        3\n",
       "Skil Brum                            3\n",
       "Kanjut Sar                           3\n",
       "Namcha Barwa                         3\n",
       "Siguang Ri                           3\n",
       "Saltoro Kangri / K10                 3\n",
       "Teram Kangri I                       2\n",
       "Singhi Kangri                        2\n",
       "Kangpenqing / Gang Benchhen          2\n",
       "Sherpi Kangri                        2\n",
       "Apsarasas Kangri                     2\n",
       "Chongtar                             2\n",
       "Yutmaru Sar                          2\n",
       "Lupghar Sar                          1\n",
       "Molamenqing                          1\n",
       "Saser Kangri III                     1\n",
       "Teram Kangri III                     1\n",
       "Labuche Kang                         1\n",
       "Baltoro Kangri                       1\n",
       "Gyala Peri                           1\n",
       "Rimo III                             1\n",
       "Khartaphu                            1\n",
       "Malangutti Sar                       1\n",
       "Kangphu Kang                         1\n",
       "Passu Sar                            1\n",
       "Saser Kangri II E                    0\n",
       "Name: Total attempts, Length: 110, dtype: int32"
      ]
     },
     "execution_count": 52,
     "metadata": {},
     "output_type": "execute_result"
    }
   ],
   "source": [
    "data['Total attempts'].sort_values(ascending=False)"
   ]
  },
  {
   "cell_type": "code",
   "execution_count": 53,
   "metadata": {},
   "outputs": [],
   "source": [
    "data['Success rate'] = (data['Ascents bef. 2004'] / data['Total attempts'] )*100"
   ]
  },
  {
   "cell_type": "code",
   "execution_count": 57,
   "metadata": {},
   "outputs": [],
   "source": [
    "data['Difficulty'] = (data['Total attempts'] / data['Success rate'] )*100"
   ]
  },
  {
   "cell_type": "code",
   "execution_count": 59,
   "metadata": {},
   "outputs": [],
   "source": [
    "data['Difficulty'] = data['Difficulty'] / data['Difficulty'].max()"
   ]
  },
  {
   "cell_type": "code",
   "execution_count": 81,
   "metadata": {},
   "outputs": [],
   "source": [
    "data = data.sort_values(by = 'Difficulty', ascending = False)"
   ]
  },
  {
   "cell_type": "code",
   "execution_count": 82,
   "metadata": {},
   "outputs": [
    {
     "data": {
      "text/html": [
       "<div>\n",
       "<style>\n",
       "    .dataframe thead tr:only-child th {\n",
       "        text-align: right;\n",
       "    }\n",
       "\n",
       "    .dataframe thead th {\n",
       "        text-align: left;\n",
       "    }\n",
       "\n",
       "    .dataframe tbody tr th {\n",
       "        vertical-align: top;\n",
       "    }\n",
       "</style>\n",
       "<table border=\"1\" class=\"dataframe\">\n",
       "  <thead>\n",
       "    <tr style=\"text-align: right;\">\n",
       "      <th></th>\n",
       "      <th>Height (m)</th>\n",
       "      <th>Prominence (m)</th>\n",
       "      <th>Range</th>\n",
       "      <th>First ascent</th>\n",
       "      <th>Ascents bef. 2004</th>\n",
       "      <th>Failed attempts bef. 2004</th>\n",
       "      <th>Total attempts</th>\n",
       "      <th>Success rate</th>\n",
       "      <th>Difficulty</th>\n",
       "    </tr>\n",
       "    <tr>\n",
       "      <th>Mountain</th>\n",
       "      <th></th>\n",
       "      <th></th>\n",
       "      <th></th>\n",
       "      <th></th>\n",
       "      <th></th>\n",
       "      <th></th>\n",
       "      <th></th>\n",
       "      <th></th>\n",
       "      <th></th>\n",
       "    </tr>\n",
       "  </thead>\n",
       "  <tbody>\n",
       "    <tr>\n",
       "      <th>Nanga Parbat</th>\n",
       "      <td>8126</td>\n",
       "      <td>4608</td>\n",
       "      <td>Nanga Parbat Himalaya</td>\n",
       "      <td>1953</td>\n",
       "      <td>52</td>\n",
       "      <td>67</td>\n",
       "      <td>119</td>\n",
       "      <td>43.697479</td>\n",
       "      <td>1.000000</td>\n",
       "    </tr>\n",
       "    <tr>\n",
       "      <th>Makalu</th>\n",
       "      <td>8485</td>\n",
       "      <td>2386</td>\n",
       "      <td>Mahalangur Himalaya</td>\n",
       "      <td>1955</td>\n",
       "      <td>45</td>\n",
       "      <td>52</td>\n",
       "      <td>97</td>\n",
       "      <td>46.391753</td>\n",
       "      <td>0.767786</td>\n",
       "    </tr>\n",
       "    <tr>\n",
       "      <th>Annapurna I</th>\n",
       "      <td>8091</td>\n",
       "      <td>2984</td>\n",
       "      <td>Annapurna Himalaya</td>\n",
       "      <td>1950</td>\n",
       "      <td>36</td>\n",
       "      <td>47</td>\n",
       "      <td>83</td>\n",
       "      <td>43.373494</td>\n",
       "      <td>0.702689</td>\n",
       "    </tr>\n",
       "    <tr>\n",
       "      <th>Manaslu</th>\n",
       "      <td>8163</td>\n",
       "      <td>3092</td>\n",
       "      <td>Manaslu Himalaya</td>\n",
       "      <td>1956</td>\n",
       "      <td>49</td>\n",
       "      <td>45</td>\n",
       "      <td>94</td>\n",
       "      <td>52.127660</td>\n",
       "      <td>0.662169</td>\n",
       "    </tr>\n",
       "    <tr>\n",
       "      <th>K2 / Qogir / Godwin Austen</th>\n",
       "      <td>8611</td>\n",
       "      <td>4017</td>\n",
       "      <td>Baltoro Karakoram</td>\n",
       "      <td>1954</td>\n",
       "      <td>45</td>\n",
       "      <td>44</td>\n",
       "      <td>89</td>\n",
       "      <td>50.561798</td>\n",
       "      <td>0.646364</td>\n",
       "    </tr>\n",
       "    <tr>\n",
       "      <th>Dhaulagiri I</th>\n",
       "      <td>8167</td>\n",
       "      <td>3357</td>\n",
       "      <td>Dhaulagiri Himalaya</td>\n",
       "      <td>1960</td>\n",
       "      <td>51</td>\n",
       "      <td>39</td>\n",
       "      <td>90</td>\n",
       "      <td>56.666667</td>\n",
       "      <td>0.583209</td>\n",
       "    </tr>\n",
       "    <tr>\n",
       "      <th>Cho Oyu</th>\n",
       "      <td>8188</td>\n",
       "      <td>2340</td>\n",
       "      <td>Mahalangur Himalaya</td>\n",
       "      <td>1954</td>\n",
       "      <td>79</td>\n",
       "      <td>28</td>\n",
       "      <td>107</td>\n",
       "      <td>73.831776</td>\n",
       "      <td>0.532169</td>\n",
       "    </tr>\n",
       "    <tr>\n",
       "      <th>Annapurna II</th>\n",
       "      <td>7937</td>\n",
       "      <td>2437</td>\n",
       "      <td>Annapurna Himalaya</td>\n",
       "      <td>1960</td>\n",
       "      <td>6</td>\n",
       "      <td>19</td>\n",
       "      <td>25</td>\n",
       "      <td>24.000000</td>\n",
       "      <td>0.382506</td>\n",
       "    </tr>\n",
       "    <tr>\n",
       "      <th>Lhotse</th>\n",
       "      <td>8516</td>\n",
       "      <td>610</td>\n",
       "      <td>Mahalangur Himalaya</td>\n",
       "      <td>1956</td>\n",
       "      <td>26</td>\n",
       "      <td>26</td>\n",
       "      <td>52</td>\n",
       "      <td>50.000000</td>\n",
       "      <td>0.381894</td>\n",
       "    </tr>\n",
       "    <tr>\n",
       "      <th>Kangchenjunga</th>\n",
       "      <td>8586</td>\n",
       "      <td>3922</td>\n",
       "      <td>Kangchenjunga Himalaya</td>\n",
       "      <td>1955</td>\n",
       "      <td>38</td>\n",
       "      <td>24</td>\n",
       "      <td>62</td>\n",
       "      <td>61.290323</td>\n",
       "      <td>0.371458</td>\n",
       "    </tr>\n",
       "  </tbody>\n",
       "</table>\n",
       "</div>"
      ],
      "text/plain": [
       "                            Height (m)  Prominence (m)  \\\n",
       "Mountain                                                 \n",
       "Nanga Parbat                      8126            4608   \n",
       "Makalu                            8485            2386   \n",
       "Annapurna I                       8091            2984   \n",
       "Manaslu                           8163            3092   \n",
       "K2 / Qogir / Godwin Austen        8611            4017   \n",
       "Dhaulagiri I                      8167            3357   \n",
       "Cho Oyu                           8188            2340   \n",
       "Annapurna II                      7937            2437   \n",
       "Lhotse                            8516             610   \n",
       "Kangchenjunga                     8586            3922   \n",
       "\n",
       "                                             Range  First ascent  \\\n",
       "Mountain                                                           \n",
       "Nanga Parbat                 Nanga Parbat Himalaya          1953   \n",
       "Makalu                         Mahalangur Himalaya          1955   \n",
       "Annapurna I                     Annapurna Himalaya          1950   \n",
       "Manaslu                           Manaslu Himalaya          1956   \n",
       "K2 / Qogir / Godwin Austen       Baltoro Karakoram          1954   \n",
       "Dhaulagiri I                   Dhaulagiri Himalaya          1960   \n",
       "Cho Oyu                        Mahalangur Himalaya          1954   \n",
       "Annapurna II                    Annapurna Himalaya          1960   \n",
       "Lhotse                         Mahalangur Himalaya          1956   \n",
       "Kangchenjunga               Kangchenjunga Himalaya          1955   \n",
       "\n",
       "                            Ascents bef. 2004  Failed attempts bef. 2004  \\\n",
       "Mountain                                                                   \n",
       "Nanga Parbat                               52                         67   \n",
       "Makalu                                     45                         52   \n",
       "Annapurna I                                36                         47   \n",
       "Manaslu                                    49                         45   \n",
       "K2 / Qogir / Godwin Austen                 45                         44   \n",
       "Dhaulagiri I                               51                         39   \n",
       "Cho Oyu                                    79                         28   \n",
       "Annapurna II                                6                         19   \n",
       "Lhotse                                     26                         26   \n",
       "Kangchenjunga                              38                         24   \n",
       "\n",
       "                            Total attempts  Success rate  Difficulty  \n",
       "Mountain                                                              \n",
       "Nanga Parbat                           119     43.697479    1.000000  \n",
       "Makalu                                  97     46.391753    0.767786  \n",
       "Annapurna I                             83     43.373494    0.702689  \n",
       "Manaslu                                 94     52.127660    0.662169  \n",
       "K2 / Qogir / Godwin Austen              89     50.561798    0.646364  \n",
       "Dhaulagiri I                            90     56.666667    0.583209  \n",
       "Cho Oyu                                107     73.831776    0.532169  \n",
       "Annapurna II                            25     24.000000    0.382506  \n",
       "Lhotse                                  52     50.000000    0.381894  \n",
       "Kangchenjunga                           62     61.290323    0.371458  "
      ]
     },
     "execution_count": 82,
     "metadata": {},
     "output_type": "execute_result"
    }
   ],
   "source": [
    "data.head(10)"
   ]
  },
  {
   "cell_type": "code",
   "execution_count": 93,
   "metadata": {},
   "outputs": [
    {
     "data": {
      "image/png": "[encoded data removed]",
      "text/plain": [
       "<matplotlib.figure.Figure at 0x8e5d080>"
      ]
     },
     "metadata": {},
     "output_type": "display_data"
    }
   ],
   "source": [
    "values = data[0:10]['Difficulty']\n",
    "bar_plot=values.plot.barh(color = 'red', edgecolor = 'black')"
   ]
  },
  {
   "cell_type": "code",
   "execution_count": 94,
   "metadata": {},
   "outputs": [
    {
     "data": {
      "image/png": "[encoded data removed]",
      "text/plain": [
       "<matplotlib.figure.Figure at 0x8c6a2b0>"
      ]
     },
     "metadata": {},
     "output_type": "display_data"
    }
   ],
   "source": [
    "bar_plot=values.plot.barh(color = 'red', edgecolor = 'black')\n",
    "bar_plot.set_title('The 10 most difficult mountains')\n",
    "bar_plot.set_xlabel('Difficulty')\n",
    "bar_plot.invert_yaxis()"
   ]
  },
  {
   "cell_type": "code",
   "execution_count": 105,
   "metadata": {},
   "outputs": [
    {
     "data": {
      "text/plain": [
       "<matplotlib.text.Text at 0x8d5b4e0>"
      ]
     },
     "execution_count": 105,
     "metadata": {},
     "output_type": "execute_result"
    },
    {
     "data": {
      "image/png": "[encoded data removed]",
      "text/plain": [
       "<matplotlib.figure.Figure at 0x8e8a048>"
      ]
     },
     "metadata": {},
     "output_type": "display_data"
    }
   ],
   "source": [
    "hist = data['First ascent'].plot.hist(bins =20, color='orange', edgecolor = \"black\")\n",
    "hist.set_xlabel('Year')\n",
    "hist.set_ylabel('Number of first ascents')\n",
    "hist.set_title('Popular years for climbing')"
   ]
  },
  {
   "cell_type": "code",
   "execution_count": 98,
   "metadata": {},
   "outputs": [],
   "source": [
    "def isOdd(a):\n",
    "    return a%2!=0\n"
   ]
  },
  {
   "cell_type": "code",
   "execution_count": 102,
   "metadata": {},
   "outputs": [
    {
     "data": {
      "text/plain": [
       "False"
      ]
     },
     "execution_count": 102,
     "metadata": {},
     "output_type": "execute_result"
    }
   ],
   "source": [
    "isOdd(6)"
   ]
  },
  {
   "cell_type": "code",
   "execution_count": 115,
   "metadata": {},
   "outputs": [
    {
     "data": {
      "text/plain": [
       "<matplotlib.text.Text at 0xa23feb8>"
      ]
     },
     "execution_count": 115,
     "metadata": {},
     "output_type": "execute_result"
    },
    {
     "data": {
      "image/png": "[encoded data removed]",
      "text/plain": [
       "<matplotlib.figure.Figure at 0xa1e65f8>"
      ]
     },
     "metadata": {},
     "output_type": "display_data"
    }
   ],
   "source": [
    "plt.hist([data[\"First ascent\"][filter], data[\"First ascent\"][~filter]], stacked=True, edgecolor='black', bins=20)\n",
    "plt.legend(['over 8000m','under 8000m'], loc='upper right')\n",
    "plt.xlabel('Year')\n",
    "plt.ylabel('Number of first ascents')\n",
    "plt.title('Year of first ascent')\n"
   ]
  },
  {
   "cell_type": "code",
   "execution_count": 116,
   "metadata": {},
   "outputs": [
    {
     "data": {
      "text/plain": [
       "(Mountain\n",
       " Nanga Parbat                       1953\n",
       " Makalu                             1955\n",
       " Annapurna I                        1950\n",
       " Manaslu                            1956\n",
       " K2 / Qogir / Godwin Austen         1954\n",
       " Dhaulagiri I                       1960\n",
       " Cho Oyu                            1954\n",
       " Lhotse                             1956\n",
       " Kangchenjunga                      1955\n",
       " Shishapangma                       1964\n",
       " Broad Peak / K3                    1957\n",
       " Gasherbrum II / K4                 1956\n",
       " Gasherbrum I / Hidden Peak / K5    1958\n",
       " Name: First ascent, dtype: int32, Mountain\n",
       " Annapurna II                   1960\n",
       " Baintha Brakk / The Ogre       1977\n",
       " Annapurna III                  1961\n",
       " Dhaulagiri IV                  1975\n",
       " Annapurna Dakshin              1964\n",
       " Kamet                          1931\n",
       " Nuptse                         1961\n",
       " Gasherbrum IV                  1958\n",
       " Dhaulagiri II                  1971\n",
       " Gangapurna                     1965\n",
       " Rakaposhi                      1958\n",
       " Himalchuli                     1960\n",
       " Langtang Lirung                1978\n",
       " Jannu                          1962\n",
       " Kirat Chuli                    1939\n",
       " Yangra / Ganesh I              1955\n",
       " Nanda Devi                     1936\n",
       " Sunanda Devi                   1939\n",
       " Tirich Mir                     1950\n",
       " Masherbrum / K1                1960\n",
       " Noshaq                         1960\n",
       " Changtse                       1982\n",
       " Diran                          1968\n",
       " Khunyang Chhish                1971\n",
       " Malubiting                     1971\n",
       " Ngadi Chuli                    1970\n",
       " Momhil Sar                     1964\n",
       " Gongga Shan / Minya Konka      1932\n",
       " Batura Sar                     1976\n",
       " Trivor                         1960\n",
       "                                ... \n",
       " Mamostong Kangri               1984\n",
       " Kanjut Sar                     1959\n",
       " Saltoro Kangri / K10           1962\n",
       " Skil Brum                      1957\n",
       " Mukut Parbat                   1951\n",
       " Siguang Ri                     1989\n",
       " Sherpi Kangri                  1976\n",
       " Yutmaru Sar                    1980\n",
       " Langtang Ri                    1981\n",
       " Kangpenqing / Gang Benchhen    1982\n",
       " Chongtar                       1994\n",
       " Jomolhari                      1937\n",
       " Ghent Kangri                   1961\n",
       " Churen Himal                   1970\n",
       " Singhi Kangri                  1976\n",
       " Teram Kangri I                 1975\n",
       " Apsarasas Kangri               1976\n",
       " Passu Sar                      1994\n",
       " Khartaphu                      1935\n",
       " Kangphu Kang                   2002\n",
       " Teram Kangri III               1979\n",
       " Malangutti Sar                 1985\n",
       " Rimo III                       1985\n",
       " Labuche Kang                   1987\n",
       " Molamenqing                    1981\n",
       " Baltoro Kangri                 1976\n",
       " Gyala Peri                     1986\n",
       " Saser Kangri III               1986\n",
       " Lupghar Sar                    1979\n",
       " Saser Kangri II E              2011\n",
       " Name: First ascent, Length: 97, dtype: int32)"
      ]
     },
     "execution_count": 116,
     "metadata": {},
     "output_type": "execute_result"
    }
   ],
   "source": [
    "data[\"First ascent\"][filter], data[\"First ascent\"][~filter]"
   ]
  },
  {
   "cell_type": "code",
   "execution_count": 117,
   "metadata": {},
   "outputs": [
    {
     "data": {
      "text/plain": [
       "<matplotlib.collections.PathCollection at 0xa3d8630>"
      ]
     },
     "execution_count": 117,
     "metadata": {},
     "output_type": "execute_result"
    },
    {
     "data": {
      "image/png": "[encoded data removed]",
      "text/plain": [
       "<matplotlib.figure.Figure at 0x8e0aeb8>"
      ]
     },
     "metadata": {},
     "output_type": "display_data"
    }
   ],
   "source": [
    "plt.scatter(data['Height (m)'], data['Total attempts'])"
   ]
  },
  {
   "cell_type": "code",
   "execution_count": 118,
   "metadata": {},
   "outputs": [
    {
     "data": {
      "image/png": "[encoded data removed]",
      "text/plain": [
       "<matplotlib.figure.Figure at 0xa3f8080>"
      ]
     },
     "metadata": {},
     "output_type": "display_data"
    }
   ],
   "source": [
    "plt.scatter(data['Height (m)'], data['Total attempts'], color='red', edgecolor='black')\n",
    "plt.ylabel('Total attempts')\n",
    "plt.xlabel('Mountain height')\n",
    "plt.title('Number of total attempts vs mountain height', fontsize=14)\n",
    "plt.show()"
   ]
  },
  {
   "cell_type": "code",
   "execution_count": 121,
   "metadata": {},
   "outputs": [],
   "source": [
    "filter = [ True if 'Himalaya' in str(x) else False for x in data['Range'] ]"
   ]
  },
  {
   "cell_type": "code",
   "execution_count": 123,
   "metadata": {},
   "outputs": [
    {
     "data": {
      "text/plain": [
       "Range\n",
       "Annapurna Himalaya         5\n",
       "Assam Himalaya             2\n",
       "Baiku Himalaya             1\n",
       "Dhaulagiri Himalaya        7\n",
       "Ganesh Himalaya            1\n",
       "Garhwal Himalaya           6\n",
       "Jomolhari Himalaya         1\n",
       "Jugal Himalaya             1\n",
       "Kangchenjunga Himalaya     6\n",
       "Kula Kangri Himalaya       1\n",
       "Labuche Himalaya           1\n",
       "Langtang Himalaya          4\n",
       "Lunana Himalaya            1\n",
       "Mahalangur Himalaya       11\n",
       "Manaslu Himalaya           3\n",
       "Nagarze Himalaya           1\n",
       "Nalakankar Himalaya        1\n",
       "Nanga Parbat Himalaya      1\n",
       "dtype: int64"
      ]
     },
     "execution_count": 123,
     "metadata": {},
     "output_type": "execute_result"
    }
   ],
   "source": [
    "count = data[filter].groupby('Range').size()\n",
    "count"
   ]
  },
  {
   "cell_type": "code",
   "execution_count": 132,
   "metadata": {},
   "outputs": [],
   "source": [
    "count = count.sort_values()"
   ]
  },
  {
   "cell_type": "code",
   "execution_count": 133,
   "metadata": {},
   "outputs": [
    {
     "data": {
      "text/plain": [
       "<matplotlib.text.Text at 0xa1b0cf8>"
      ]
     },
     "execution_count": 133,
     "metadata": {},
     "output_type": "execute_result"
    },
    {
     "data": {
      "image/png": "[encoded data removed]",
      "text/plain": [
       "<matplotlib.figure.Figure at 0x8ea4550>"
      ]
     },
     "metadata": {},
     "output_type": "display_data"
    }
   ],
   "source": [
    "plot = count.plot.barh(title = 'The Himalaya subranges')\n",
    "plot.set_xlabel('Number of mountains in the subrange')\n",
    "plot.set_ylabel('Subrange')"
   ]
  },
  {
   "cell_type": "code",
   "execution_count": 145,
   "metadata": {},
   "outputs": [
    {
     "name": "stdout",
     "output_type": "stream",
     "text": [
      "Object `np.arrange` not found.\n"
     ]
    }
   ],
   "source": [
    "    "
   ]
  },
  {
   "cell_type": "code",
   "execution_count": 150,
   "metadata": {},
   "outputs": [
    {
     "data": {
      "text/plain": [
       "array([[2, 0],\n",
       "       [0, 4]])"
      ]
     },
     "execution_count": 150,
     "metadata": {},
     "output_type": "execute_result"
    }
   ],
   "source": [
    "A = np.array( [[1,1], [0,1]] )\n",
    "B = np.array( [[2,0], [3,4]] )\n",
    "A*B"
   ]
  },
  {
   "cell_type": "code",
   "execution_count": 153,
   "metadata": {},
   "outputs": [
    {
     "data": {
      "text/plain": [
       "array([11, 22, 18,  7,  6,  1,  3,  5])"
      ]
     },
     "execution_count": 153,
     "metadata": {},
     "output_type": "execute_result"
    }
   ],
   "source": [
    "a = np.array([11,22])\n",
    "b = np.array([18,7,6])\n",
    "c = np.array([1,3,5])\n",
    "d = np.concatenate((a,b,c))\n",
    "d"
   ]
  },
  {
   "cell_type": "code",
   "execution_count": 169,
   "metadata": {},
   "outputs": [
    {
     "data": {
      "text/plain": [
       "array([[1, 2, 5, 6],\n",
       "       [3, 4, 7, 8]])"
      ]
     },
     "execution_count": 169,
     "metadata": {},
     "output_type": "execute_result"
    }
   ],
   "source": [
    "a = np.array([[1, 2], [3, 4]])\n",
    "b = np.array([[5, 6], [7, 8]])\n",
    "c=np.concatenate((a, b), axis=1)\n",
    "c"
   ]
  },
  {
   "cell_type": "code",
   "execution_count": 190,
   "metadata": {},
   "outputs": [
    {
     "data": {
      "text/plain": [
       "array([[1, 2],\n",
       "       [3, 4]])"
      ]
     },
     "execution_count": 190,
     "metadata": {},
     "output_type": "execute_result"
    }
   ],
   "source": [
    "c[0:2, 0:2]"
   ]
  },
  {
   "cell_type": "code",
   "execution_count": 157,
   "metadata": {},
   "outputs": [
    {
     "data": {
      "text/plain": [
       "array([[ 0,  1,  2],\n",
       "       [ 3,  4,  5],\n",
       "       [ 6,  7,  8],\n",
       "       [ 9, 10, 11]])"
      ]
     },
     "execution_count": 157,
     "metadata": {},
     "output_type": "execute_result"
    }
   ],
   "source": [
    "a = np.reshape(np.arange(12),(4,3))\n",
    "a"
   ]
  },
  {
   "cell_type": "code",
   "execution_count": 167,
   "metadata": {},
   "outputs": [
    {
     "data": {
      "text/plain": [
       "200"
      ]
     },
     "execution_count": 167,
     "metadata": {},
     "output_type": "execute_result"
    }
   ],
   "source": [
    "a = np.array([1, 2, 3, 4, 5])\n",
    "b = a[1:4]\n",
    "b[0] = 200\n",
    "a[1]"
   ]
  },
  {
   "cell_type": "code",
   "execution_count": 200,
   "metadata": {},
   "outputs": [
    {
     "data": {
      "text/plain": [
       "array([[ 1,  2,  3,  4,  5,  6],\n",
       "       [ 7,  8,  9, 10, 11, 12],\n",
       "       [13, 14, 15, 16, 17, 18],\n",
       "       [19, 20, 21, 22, 23, 24],\n",
       "       [25, 26, 27, 28, 29, 30],\n",
       "       [31, 32, 33, 34, 35, 36]])"
      ]
     },
     "execution_count": 200,
     "metadata": {},
     "output_type": "execute_result"
    }
   ],
   "source": [
    "res = np.reshape(np.arange(1,37), (6,6))\n",
    "res"
   ]
  },
  {
   "cell_type": "code",
   "execution_count": 204,
   "metadata": {},
   "outputs": [
    {
     "data": {
      "text/plain": [
       "array([ 2,  8, 14, 20, 26, 32])"
      ]
     },
     "execution_count": 204,
     "metadata": {},
     "output_type": "execute_result"
    }
   ],
   "source": [
    "blue = res[:, 1]\n",
    "blue"
   ]
  },
  {
   "cell_type": "code",
   "execution_count": 208,
   "metadata": {},
   "outputs": [
    {
     "data": {
      "text/plain": [
       "array([[ 5,  6],\n",
       "       [11, 12]])"
      ]
     },
     "execution_count": 208,
     "metadata": {},
     "output_type": "execute_result"
    }
   ],
   "source": [
    "yellow = res[0:2, 4:6]\n",
    "yellow"
   ]
  },
  {
   "cell_type": "code",
   "execution_count": 209,
   "metadata": {},
   "outputs": [
    {
     "data": {
      "text/plain": [
       "array([35, 36])"
      ]
     },
     "execution_count": 209,
     "metadata": {},
     "output_type": "execute_result"
    }
   ],
   "source": [
    "red = res[5, 4:6]\n",
    "red"
   ]
  },
  {
   "cell_type": "code",
   "execution_count": 211,
   "metadata": {},
   "outputs": [
    {
     "data": {
      "text/plain": [
       "array([[13, 15, 17],\n",
       "       [25, 27, 29]])"
      ]
     },
     "execution_count": 211,
     "metadata": {},
     "output_type": "execute_result"
    }
   ],
   "source": [
    "green = res[2::2, 0::2]\n",
    "green"
   ]
  },
  {
   "cell_type": "code",
   "execution_count": 215,
   "metadata": {},
   "outputs": [
    {
     "data": {
      "text/plain": [
       "array([[False, False, False],\n",
       "       [False, False, False],\n",
       "       [False, False,  True],\n",
       "       [ True,  True,  True]], dtype=bool)"
      ]
     },
     "execution_count": 215,
     "metadata": {},
     "output_type": "execute_result"
    }
   ],
   "source": [
    "a = np.reshape(np.arange(1,13),(4,3))\n",
    "a>8"
   ]
  },
  {
   "cell_type": "code",
   "execution_count": 216,
   "metadata": {},
   "outputs": [],
   "source": [
    "dist_to_origin = [0, 1498, 1063, 1968, 1498, 1758, \n",
    "1469, 1472, 2230, 2391]"
   ]
  },
  {
   "cell_type": "code",
   "execution_count": 220,
   "metadata": {},
   "outputs": [
    {
     "data": {
      "text/plain": [
       "array([[   0],\n",
       "       [1498],\n",
       "       [1063],\n",
       "       [1968],\n",
       "       [1498],\n",
       "       [1758],\n",
       "       [1469],\n",
       "       [1472],\n",
       "       [2230],\n",
       "       [2391]])"
      ]
     },
     "execution_count": 220,
     "metadata": {},
     "output_type": "execute_result"
    }
   ],
   "source": [
    "dist_2 = np.reshape([0, 1498, 1063, 1968, 1498, 1758, \n",
    "1469, 1472, 2230, 2391], (10,1))\n",
    "dist_2"
   ]
  },
  {
   "cell_type": "code",
   "execution_count": 223,
   "metadata": {},
   "outputs": [
    {
     "data": {
      "text/plain": [
       "array([[   0, 1498, 1063, 1968, 1498, 1758, 1469, 1472, 2230, 2391],\n",
       "       [1498,    0,  435,  470,    0,  260,   29,   26,  732,  893],\n",
       "       [1063,  435,    0,  905,  435,  695,  406,  409, 1167, 1328],\n",
       "       [1968,  470,  905,    0,  470,  210,  499,  496,  262,  423],\n",
       "       [1498,    0,  435,  470,    0,  260,   29,   26,  732,  893],\n",
       "       [1758,  260,  695,  210,  260,    0,  289,  286,  472,  633],\n",
       "       [1469,   29,  406,  499,   29,  289,    0,    3,  761,  922],\n",
       "       [1472,   26,  409,  496,   26,  286,    3,    0,  758,  919],\n",
       "       [2230,  732, 1167,  262,  732,  472,  761,  758,    0,  161],\n",
       "       [2391,  893, 1328,  423,  893,  633,  922,  919,  161,    0]])"
      ]
     },
     "execution_count": 223,
     "metadata": {},
     "output_type": "execute_result"
    }
   ],
   "source": [
    "dists = np.abs(dist_to_origin - dist_2)\n",
    "dists"
   ]
  },
  {
   "cell_type": "code",
   "execution_count": 228,
   "metadata": {},
   "outputs": [],
   "source": [
    "dist = np.array(dist_to_origin)"
   ]
  },
  {
   "cell_type": "code",
   "execution_count": 230,
   "metadata": {},
   "outputs": [
    {
     "data": {
      "text/plain": [
       "array([[   0],\n",
       "       [1498],\n",
       "       [1063],\n",
       "       [1968],\n",
       "       [1498],\n",
       "       [1758],\n",
       "       [1469],\n",
       "       [1472],\n",
       "       [2230],\n",
       "       [2391]])"
      ]
     },
     "execution_count": 230,
     "metadata": {},
     "output_type": "execute_result"
    }
   ],
   "source": [
    "dist[:, np.newaxis]"
   ]
  },
  {
   "cell_type": "code",
   "execution_count": 233,
   "metadata": {},
   "outputs": [
    {
     "data": {
      "text/plain": [
       "0       1\n",
       "1     cat\n",
       "2    10.2\n",
       "3     dog\n",
       "dtype: object"
      ]
     },
     "execution_count": 233,
     "metadata": {},
     "output_type": "execute_result"
    }
   ],
   "source": [
    "my_Series = pd.Series([1,'cat',10.2,'dog'])\n",
    "my_Series"
   ]
  },
  {
   "cell_type": "code",
   "execution_count": 234,
   "metadata": {},
   "outputs": [
    {
     "data": {
      "text/plain": [
       "John     20\n",
       "Allen    53\n",
       "Mary     68\n",
       "dtype: int64"
      ]
     },
     "execution_count": 234,
     "metadata": {},
     "output_type": "execute_result"
    }
   ],
   "source": [
    "ages = pd.Series([20,53,68], index=['John', 'Allen', 'Mary'])\n",
    "ages"
   ]
  },
  {
   "cell_type": "code",
   "execution_count": 239,
   "metadata": {},
   "outputs": [
    {
     "data": {
      "text/html": [
       "<div>\n",
       "<style>\n",
       "    .dataframe thead tr:only-child th {\n",
       "        text-align: right;\n",
       "    }\n",
       "\n",
       "    .dataframe thead th {\n",
       "        text-align: left;\n",
       "    }\n",
       "\n",
       "    .dataframe tbody tr th {\n",
       "        vertical-align: top;\n",
       "    }\n",
       "</style>\n",
       "<table border=\"1\" class=\"dataframe\">\n",
       "  <thead>\n",
       "    <tr style=\"text-align: right;\">\n",
       "      <th></th>\n",
       "      <th>age</th>\n",
       "      <th>occupation</th>\n",
       "      <th>sex</th>\n",
       "      <th>user</th>\n",
       "    </tr>\n",
       "  </thead>\n",
       "  <tbody>\n",
       "    <tr>\n",
       "      <th>0</th>\n",
       "      <td>24</td>\n",
       "      <td>technician</td>\n",
       "      <td>F</td>\n",
       "      <td>1</td>\n",
       "    </tr>\n",
       "    <tr>\n",
       "      <th>1</th>\n",
       "      <td>54</td>\n",
       "      <td>musician</td>\n",
       "      <td>F</td>\n",
       "      <td>2</td>\n",
       "    </tr>\n",
       "    <tr>\n",
       "      <th>2</th>\n",
       "      <td>17</td>\n",
       "      <td>student</td>\n",
       "      <td>M</td>\n",
       "      <td>3</td>\n",
       "    </tr>\n",
       "  </tbody>\n",
       "</table>\n",
       "</div>"
      ],
      "text/plain": [
       "   age  occupation sex  user\n",
       "0   24  technician   F     1\n",
       "1   54    musician   F     2\n",
       "2   17     student   M     3"
      ]
     },
     "execution_count": 239,
     "metadata": {},
     "output_type": "execute_result"
    }
   ],
   "source": [
    "df = pd.DataFrame( {'user' : [1,2,3],\n",
    "            'age' : [24,54,17],\n",
    "            'sex' : ['F','F','M'],\n",
    "            'occupation' : ['technician','musician','student']})"
   ]
  },
  {
   "cell_type": "code",
   "execution_count": 244,
   "metadata": {},
   "outputs": [
    {
     "data": {
      "text/html": [
       "<div>\n",
       "<style>\n",
       "    .dataframe thead tr:only-child th {\n",
       "        text-align: right;\n",
       "    }\n",
       "\n",
       "    .dataframe thead th {\n",
       "        text-align: left;\n",
       "    }\n",
       "\n",
       "    .dataframe tbody tr th {\n",
       "        vertical-align: top;\n",
       "    }\n",
       "</style>\n",
       "<table border=\"1\" class=\"dataframe\">\n",
       "  <thead>\n",
       "    <tr style=\"text-align: right;\">\n",
       "      <th></th>\n",
       "      <th>age</th>\n",
       "      <th>occupation</th>\n",
       "      <th>sex</th>\n",
       "    </tr>\n",
       "    <tr>\n",
       "      <th>user</th>\n",
       "      <th></th>\n",
       "      <th></th>\n",
       "      <th></th>\n",
       "    </tr>\n",
       "  </thead>\n",
       "  <tbody>\n",
       "    <tr>\n",
       "      <th>1</th>\n",
       "      <td>24</td>\n",
       "      <td>technician</td>\n",
       "      <td>F</td>\n",
       "    </tr>\n",
       "    <tr>\n",
       "      <th>2</th>\n",
       "      <td>54</td>\n",
       "      <td>musician</td>\n",
       "      <td>F</td>\n",
       "    </tr>\n",
       "    <tr>\n",
       "      <th>3</th>\n",
       "      <td>17</td>\n",
       "      <td>student</td>\n",
       "      <td>M</td>\n",
       "    </tr>\n",
       "  </tbody>\n",
       "</table>\n",
       "</div>"
      ],
      "text/plain": [
       "      age  occupation sex\n",
       "user                     \n",
       "1      24  technician   F\n",
       "2      54    musician   F\n",
       "3      17     student   M"
      ]
     },
     "execution_count": 244,
     "metadata": {},
     "output_type": "execute_result"
    }
   ],
   "source": [
    "df.set_index('user', inplace=True)\n",
    "df"
   ]
  },
  {
   "cell_type": "code",
   "execution_count": 247,
   "metadata": {},
   "outputs": [
    {
     "data": {
      "text/html": [
       "<div>\n",
       "<style>\n",
       "    .dataframe thead tr:only-child th {\n",
       "        text-align: right;\n",
       "    }\n",
       "\n",
       "    .dataframe thead th {\n",
       "        text-align: left;\n",
       "    }\n",
       "\n",
       "    .dataframe tbody tr th {\n",
       "        vertical-align: top;\n",
       "    }\n",
       "</style>\n",
       "<table border=\"1\" class=\"dataframe\">\n",
       "  <thead>\n",
       "    <tr style=\"text-align: right;\">\n",
       "      <th></th>\n",
       "      <th>age</th>\n",
       "    </tr>\n",
       "  </thead>\n",
       "  <tbody>\n",
       "    <tr>\n",
       "      <th>count</th>\n",
       "      <td>3.000000</td>\n",
       "    </tr>\n",
       "    <tr>\n",
       "      <th>mean</th>\n",
       "      <td>31.666667</td>\n",
       "    </tr>\n",
       "    <tr>\n",
       "      <th>std</th>\n",
       "      <td>19.655364</td>\n",
       "    </tr>\n",
       "    <tr>\n",
       "      <th>min</th>\n",
       "      <td>17.000000</td>\n",
       "    </tr>\n",
       "    <tr>\n",
       "      <th>25%</th>\n",
       "      <td>20.500000</td>\n",
       "    </tr>\n",
       "    <tr>\n",
       "      <th>50%</th>\n",
       "      <td>24.000000</td>\n",
       "    </tr>\n",
       "    <tr>\n",
       "      <th>75%</th>\n",
       "      <td>39.000000</td>\n",
       "    </tr>\n",
       "    <tr>\n",
       "      <th>max</th>\n",
       "      <td>54.000000</td>\n",
       "    </tr>\n",
       "  </tbody>\n",
       "</table>\n",
       "</div>"
      ],
      "text/plain": [
       "             age\n",
       "count   3.000000\n",
       "mean   31.666667\n",
       "std    19.655364\n",
       "min    17.000000\n",
       "25%    20.500000\n",
       "50%    24.000000\n",
       "75%    39.000000\n",
       "max    54.000000"
      ]
     },
     "execution_count": 247,
     "metadata": {},
     "output_type": "execute_result"
    }
   ],
   "source": [
    "df.describe()"
   ]
  },
  {
   "cell_type": "code",
   "execution_count": 5,
   "metadata": {},
   "outputs": [
    {
     "data": {
      "text/html": [
       "<div>\n",
       "<style>\n",
       "    .dataframe thead tr:only-child th {\n",
       "        text-align: right;\n",
       "    }\n",
       "\n",
       "    .dataframe thead th {\n",
       "        text-align: left;\n",
       "    }\n",
       "\n",
       "    .dataframe tbody tr th {\n",
       "        vertical-align: top;\n",
       "    }\n",
       "</style>\n",
       "<table border=\"1\" class=\"dataframe\">\n",
       "  <thead>\n",
       "    <tr style=\"text-align: right;\">\n",
       "      <th></th>\n",
       "      <th>a</th>\n",
       "      <th>b</th>\n",
       "      <th>c</th>\n",
       "    </tr>\n",
       "  </thead>\n",
       "  <tbody>\n",
       "    <tr>\n",
       "      <th>0</th>\n",
       "      <td>0</td>\n",
       "      <td>1</td>\n",
       "      <td>2</td>\n",
       "    </tr>\n",
       "    <tr>\n",
       "      <th>1</th>\n",
       "      <td>3</td>\n",
       "      <td>4</td>\n",
       "      <td>5</td>\n",
       "    </tr>\n",
       "    <tr>\n",
       "      <th>2</th>\n",
       "      <td>6</td>\n",
       "      <td>7</td>\n",
       "      <td>8</td>\n",
       "    </tr>\n",
       "  </tbody>\n",
       "</table>\n",
       "</div>"
      ],
      "text/plain": [
       "   a  b  c\n",
       "0  0  1  2\n",
       "1  3  4  5\n",
       "2  6  7  8"
      ]
     },
     "execution_count": 5,
     "metadata": {},
     "output_type": "execute_result"
    }
   ],
   "source": [
    "df = pd.DataFrame(np.arange(9).reshape(3,3), columns=['a','b', 'c'])\n",
    "df"
   ]
  },
  {
   "cell_type": "code",
   "execution_count": 7,
   "metadata": {},
   "outputs": [
    {
     "data": {
      "text/html": [
       "<div>\n",
       "<style>\n",
       "    .dataframe thead tr:only-child th {\n",
       "        text-align: right;\n",
       "    }\n",
       "\n",
       "    .dataframe thead th {\n",
       "        text-align: left;\n",
       "    }\n",
       "\n",
       "    .dataframe tbody tr th {\n",
       "        vertical-align: top;\n",
       "    }\n",
       "</style>\n",
       "<table border=\"1\" class=\"dataframe\">\n",
       "  <thead>\n",
       "    <tr style=\"text-align: right;\">\n",
       "      <th></th>\n",
       "      <th>a</th>\n",
       "    </tr>\n",
       "  </thead>\n",
       "  <tbody>\n",
       "    <tr>\n",
       "      <th>0</th>\n",
       "      <td>0</td>\n",
       "    </tr>\n",
       "    <tr>\n",
       "      <th>1</th>\n",
       "      <td>3</td>\n",
       "    </tr>\n",
       "    <tr>\n",
       "      <th>2</th>\n",
       "      <td>6</td>\n",
       "    </tr>\n",
       "  </tbody>\n",
       "</table>\n",
       "</div>"
      ],
      "text/plain": [
       "   a\n",
       "0  0\n",
       "1  3\n",
       "2  6"
      ]
     },
     "execution_count": 7,
     "metadata": {},
     "output_type": "execute_result"
    }
   ],
   "source": [
    "df.drop(['b','c'], axis=1)"
   ]
  },
  {
   "cell_type": "code",
   "execution_count": 8,
   "metadata": {},
   "outputs": [
    {
     "data": {
      "text/plain": [
       "0     1\n",
       "1     7\n",
       "2    13\n",
       "dtype: int32"
      ]
     },
     "execution_count": 8,
     "metadata": {},
     "output_type": "execute_result"
    }
   ],
   "source": [
    "df.a + df.b"
   ]
  },
  {
   "cell_type": "code",
   "execution_count": 10,
   "metadata": {},
   "outputs": [
    {
     "data": {
      "text/html": [
       "<div>\n",
       "<style>\n",
       "    .dataframe thead tr:only-child th {\n",
       "        text-align: right;\n",
       "    }\n",
       "\n",
       "    .dataframe thead th {\n",
       "        text-align: left;\n",
       "    }\n",
       "\n",
       "    .dataframe tbody tr th {\n",
       "        vertical-align: top;\n",
       "    }\n",
       "</style>\n",
       "<table border=\"1\" class=\"dataframe\">\n",
       "  <thead>\n",
       "    <tr style=\"text-align: right;\">\n",
       "      <th></th>\n",
       "      <th>a</th>\n",
       "      <th>b</th>\n",
       "      <th>c</th>\n",
       "    </tr>\n",
       "  </thead>\n",
       "  <tbody>\n",
       "    <tr>\n",
       "      <th>0</th>\n",
       "      <td>0.0</td>\n",
       "      <td>2.0</td>\n",
       "      <td>4.0</td>\n",
       "    </tr>\n",
       "    <tr>\n",
       "      <th>1</th>\n",
       "      <td>6.0</td>\n",
       "      <td>8.0</td>\n",
       "      <td>10.0</td>\n",
       "    </tr>\n",
       "    <tr>\n",
       "      <th>2</th>\n",
       "      <td>6.0</td>\n",
       "      <td>7.0</td>\n",
       "      <td>8.0</td>\n",
       "    </tr>\n",
       "  </tbody>\n",
       "</table>\n",
       "</div>"
      ],
      "text/plain": [
       "     a    b     c\n",
       "0  0.0  2.0   4.0\n",
       "1  6.0  8.0  10.0\n",
       "2  6.0  7.0   8.0"
      ]
     },
     "execution_count": 10,
     "metadata": {},
     "output_type": "execute_result"
    }
   ],
   "source": [
    "df.add(df.loc[0:1,:], fill_value=0)"
   ]
  },
  {
   "cell_type": "code",
   "execution_count": 11,
   "metadata": {},
   "outputs": [],
   "source": [
    "df1= pd.DataFrame([['Mark', 50], ['Kate', 46]],\n",
    "                 columns=['name', 'age'])\n",
    "df2 = pd.DataFrame([['Jon', 3], ['David', 4]],\n",
    "                columns=['name', 'age'])"
   ]
  },
  {
   "cell_type": "code",
   "execution_count": 12,
   "metadata": {},
   "outputs": [
    {
     "data": {
      "text/html": [
       "<div>\n",
       "<style>\n",
       "    .dataframe thead tr:only-child th {\n",
       "        text-align: right;\n",
       "    }\n",
       "\n",
       "    .dataframe thead th {\n",
       "        text-align: left;\n",
       "    }\n",
       "\n",
       "    .dataframe tbody tr th {\n",
       "        vertical-align: top;\n",
       "    }\n",
       "</style>\n",
       "<table border=\"1\" class=\"dataframe\">\n",
       "  <thead>\n",
       "    <tr style=\"text-align: right;\">\n",
       "      <th></th>\n",
       "      <th>name</th>\n",
       "      <th>age</th>\n",
       "    </tr>\n",
       "  </thead>\n",
       "  <tbody>\n",
       "    <tr>\n",
       "      <th>0</th>\n",
       "      <td>Mark</td>\n",
       "      <td>50</td>\n",
       "    </tr>\n",
       "    <tr>\n",
       "      <th>1</th>\n",
       "      <td>Kate</td>\n",
       "      <td>46</td>\n",
       "    </tr>\n",
       "  </tbody>\n",
       "</table>\n",
       "</div>"
      ],
      "text/plain": [
       "   name  age\n",
       "0  Mark   50\n",
       "1  Kate   46"
      ]
     },
     "execution_count": 12,
     "metadata": {},
     "output_type": "execute_result"
    }
   ],
   "source": [
    "df1"
   ]
  },
  {
   "cell_type": "code",
   "execution_count": 13,
   "metadata": {},
   "outputs": [
    {
     "data": {
      "text/html": [
       "<div>\n",
       "<style>\n",
       "    .dataframe thead tr:only-child th {\n",
       "        text-align: right;\n",
       "    }\n",
       "\n",
       "    .dataframe thead th {\n",
       "        text-align: left;\n",
       "    }\n",
       "\n",
       "    .dataframe tbody tr th {\n",
       "        vertical-align: top;\n",
       "    }\n",
       "</style>\n",
       "<table border=\"1\" class=\"dataframe\">\n",
       "  <thead>\n",
       "    <tr style=\"text-align: right;\">\n",
       "      <th></th>\n",
       "      <th>name</th>\n",
       "      <th>age</th>\n",
       "    </tr>\n",
       "  </thead>\n",
       "  <tbody>\n",
       "    <tr>\n",
       "      <th>0</th>\n",
       "      <td>Jon</td>\n",
       "      <td>3</td>\n",
       "    </tr>\n",
       "    <tr>\n",
       "      <th>1</th>\n",
       "      <td>David</td>\n",
       "      <td>4</td>\n",
       "    </tr>\n",
       "  </tbody>\n",
       "</table>\n",
       "</div>"
      ],
      "text/plain": [
       "    name  age\n",
       "0    Jon    3\n",
       "1  David    4"
      ]
     },
     "execution_count": 13,
     "metadata": {},
     "output_type": "execute_result"
    }
   ],
   "source": [
    "df2"
   ]
  },
  {
   "cell_type": "code",
   "execution_count": 14,
   "metadata": {},
   "outputs": [
    {
     "data": {
      "text/html": [
       "<div>\n",
       "<style>\n",
       "    .dataframe thead tr:only-child th {\n",
       "        text-align: right;\n",
       "    }\n",
       "\n",
       "    .dataframe thead th {\n",
       "        text-align: left;\n",
       "    }\n",
       "\n",
       "    .dataframe tbody tr th {\n",
       "        vertical-align: top;\n",
       "    }\n",
       "</style>\n",
       "<table border=\"1\" class=\"dataframe\">\n",
       "  <thead>\n",
       "    <tr style=\"text-align: right;\">\n",
       "      <th></th>\n",
       "      <th>name</th>\n",
       "      <th>age</th>\n",
       "    </tr>\n",
       "  </thead>\n",
       "  <tbody>\n",
       "    <tr>\n",
       "      <th>0</th>\n",
       "      <td>Mark</td>\n",
       "      <td>50</td>\n",
       "    </tr>\n",
       "    <tr>\n",
       "      <th>1</th>\n",
       "      <td>Kate</td>\n",
       "      <td>46</td>\n",
       "    </tr>\n",
       "    <tr>\n",
       "      <th>0</th>\n",
       "      <td>Jon</td>\n",
       "      <td>3</td>\n",
       "    </tr>\n",
       "    <tr>\n",
       "      <th>1</th>\n",
       "      <td>David</td>\n",
       "      <td>4</td>\n",
       "    </tr>\n",
       "  </tbody>\n",
       "</table>\n",
       "</div>"
      ],
      "text/plain": [
       "    name  age\n",
       "0   Mark   50\n",
       "1   Kate   46\n",
       "0    Jon    3\n",
       "1  David    4"
      ]
     },
     "execution_count": 14,
     "metadata": {},
     "output_type": "execute_result"
    }
   ],
   "source": [
    "pd.concat([df1,df2])"
   ]
  },
  {
   "cell_type": "code",
   "execution_count": 16,
   "metadata": {},
   "outputs": [
    {
     "data": {
      "text/html": [
       "<div>\n",
       "<style>\n",
       "    .dataframe thead tr:only-child th {\n",
       "        text-align: right;\n",
       "    }\n",
       "\n",
       "    .dataframe thead th {\n",
       "        text-align: left;\n",
       "    }\n",
       "\n",
       "    .dataframe tbody tr th {\n",
       "        vertical-align: top;\n",
       "    }\n",
       "</style>\n",
       "<table border=\"1\" class=\"dataframe\">\n",
       "  <thead>\n",
       "    <tr style=\"text-align: right;\">\n",
       "      <th></th>\n",
       "      <th>occupation</th>\n",
       "    </tr>\n",
       "  </thead>\n",
       "  <tbody>\n",
       "    <tr>\n",
       "      <th>0</th>\n",
       "      <td>writer</td>\n",
       "    </tr>\n",
       "    <tr>\n",
       "      <th>1</th>\n",
       "      <td>journalist</td>\n",
       "    </tr>\n",
       "  </tbody>\n",
       "</table>\n",
       "</div>"
      ],
      "text/plain": [
       "   occupation\n",
       "0      writer\n",
       "1  journalist"
      ]
     },
     "execution_count": 16,
     "metadata": {},
     "output_type": "execute_result"
    }
   ],
   "source": [
    "df3 = pd.DataFrame(['writer', 'journalist'], columns=['occupation'])\n",
    "df3"
   ]
  },
  {
   "cell_type": "code",
   "execution_count": 17,
   "metadata": {},
   "outputs": [
    {
     "data": {
      "text/html": [
       "<div>\n",
       "<style>\n",
       "    .dataframe thead tr:only-child th {\n",
       "        text-align: right;\n",
       "    }\n",
       "\n",
       "    .dataframe thead th {\n",
       "        text-align: left;\n",
       "    }\n",
       "\n",
       "    .dataframe tbody tr th {\n",
       "        vertical-align: top;\n",
       "    }\n",
       "</style>\n",
       "<table border=\"1\" class=\"dataframe\">\n",
       "  <thead>\n",
       "    <tr style=\"text-align: right;\">\n",
       "      <th></th>\n",
       "      <th>name</th>\n",
       "      <th>age</th>\n",
       "      <th>occupation</th>\n",
       "    </tr>\n",
       "  </thead>\n",
       "  <tbody>\n",
       "    <tr>\n",
       "      <th>0</th>\n",
       "      <td>Mark</td>\n",
       "      <td>50</td>\n",
       "      <td>writer</td>\n",
       "    </tr>\n",
       "    <tr>\n",
       "      <th>1</th>\n",
       "      <td>Kate</td>\n",
       "      <td>46</td>\n",
       "      <td>journalist</td>\n",
       "    </tr>\n",
       "  </tbody>\n",
       "</table>\n",
       "</div>"
      ],
      "text/plain": [
       "   name  age  occupation\n",
       "0  Mark   50      writer\n",
       "1  Kate   46  journalist"
      ]
     },
     "execution_count": 17,
     "metadata": {},
     "output_type": "execute_result"
    }
   ],
   "source": [
    "pd.concat([df1, df3], axis=1)"
   ]
  },
  {
   "cell_type": "code",
   "execution_count": 32,
   "metadata": {},
   "outputs": [
    {
     "data": {
      "text/html": [
       "<div>\n",
       "<style>\n",
       "    .dataframe thead tr:only-child th {\n",
       "        text-align: right;\n",
       "    }\n",
       "\n",
       "    .dataframe thead th {\n",
       "        text-align: left;\n",
       "    }\n",
       "\n",
       "    .dataframe tbody tr th {\n",
       "        vertical-align: top;\n",
       "    }\n",
       "</style>\n",
       "<table border=\"1\" class=\"dataframe\">\n",
       "  <thead>\n",
       "    <tr style=\"text-align: right;\">\n",
       "      <th></th>\n",
       "      <th>Rank</th>\n",
       "      <th>Mountain</th>\n",
       "      <th>Height (m)</th>\n",
       "      <th>Height (ft)</th>\n",
       "      <th>Prominence (m)</th>\n",
       "      <th>Range</th>\n",
       "      <th>Coordinates</th>\n",
       "      <th>Parent mountain</th>\n",
       "      <th>First ascent</th>\n",
       "      <th>Ascents bef. 2004</th>\n",
       "      <th>Failed attempts bef. 2004</th>\n",
       "    </tr>\n",
       "  </thead>\n",
       "  <tbody>\n",
       "    <tr>\n",
       "      <th>0</th>\n",
       "      <td>1</td>\n",
       "      <td>Mount Everest / Sagarmatha / Chomolungma</td>\n",
       "      <td>8848</td>\n",
       "      <td>29029</td>\n",
       "      <td>8848</td>\n",
       "      <td>Mahalangur Himalaya</td>\n",
       "      <td>27°59′17″N 86°55′31″E﻿</td>\n",
       "      <td>NaN</td>\n",
       "      <td>1953</td>\n",
       "      <td>&gt;&gt;145</td>\n",
       "      <td>121.0</td>\n",
       "    </tr>\n",
       "    <tr>\n",
       "      <th>1</th>\n",
       "      <td>2</td>\n",
       "      <td>K2 / Qogir / Godwin Austen</td>\n",
       "      <td>8611</td>\n",
       "      <td>28251</td>\n",
       "      <td>4017</td>\n",
       "      <td>Baltoro Karakoram</td>\n",
       "      <td>35°52′53″N 76°30′48″E﻿</td>\n",
       "      <td>Mount Everest</td>\n",
       "      <td>1954</td>\n",
       "      <td>45</td>\n",
       "      <td>44.0</td>\n",
       "    </tr>\n",
       "    <tr>\n",
       "      <th>2</th>\n",
       "      <td>3</td>\n",
       "      <td>Kangchenjunga</td>\n",
       "      <td>8586</td>\n",
       "      <td>28169</td>\n",
       "      <td>3922</td>\n",
       "      <td>Kangchenjunga Himalaya</td>\n",
       "      <td>27°42′12″N 88°08′51″E﻿</td>\n",
       "      <td>Mount Everest</td>\n",
       "      <td>1955</td>\n",
       "      <td>38</td>\n",
       "      <td>24.0</td>\n",
       "    </tr>\n",
       "    <tr>\n",
       "      <th>3</th>\n",
       "      <td>4</td>\n",
       "      <td>Lhotse</td>\n",
       "      <td>8516</td>\n",
       "      <td>27940</td>\n",
       "      <td>610</td>\n",
       "      <td>Mahalangur Himalaya</td>\n",
       "      <td>27°57′42″N 86°55′59″E﻿</td>\n",
       "      <td>Mount Everest</td>\n",
       "      <td>1956</td>\n",
       "      <td>26</td>\n",
       "      <td>26.0</td>\n",
       "    </tr>\n",
       "    <tr>\n",
       "      <th>4</th>\n",
       "      <td>5</td>\n",
       "      <td>Makalu</td>\n",
       "      <td>8485</td>\n",
       "      <td>27838</td>\n",
       "      <td>2386</td>\n",
       "      <td>Mahalangur Himalaya</td>\n",
       "      <td>27°53′23″N 87°05′20″E﻿</td>\n",
       "      <td>Mount Everest</td>\n",
       "      <td>1955</td>\n",
       "      <td>45</td>\n",
       "      <td>52.0</td>\n",
       "    </tr>\n",
       "  </tbody>\n",
       "</table>\n",
       "</div>"
      ],
      "text/plain": [
       "   Rank                                  Mountain  Height (m)  Height (ft)  \\\n",
       "0     1  Mount Everest / Sagarmatha / Chomolungma        8848        29029   \n",
       "1     2                K2 / Qogir / Godwin Austen        8611        28251   \n",
       "2     3                             Kangchenjunga        8586        28169   \n",
       "3     4                                    Lhotse        8516        27940   \n",
       "4     5                                    Makalu        8485        27838   \n",
       "\n",
       "   Prominence (m)                   Range              Coordinates  \\\n",
       "0            8848     Mahalangur Himalaya  27°59′17″N 86°55′31″E﻿    \n",
       "1            4017       Baltoro Karakoram  35°52′53″N 76°30′48″E﻿    \n",
       "2            3922  Kangchenjunga Himalaya  27°42′12″N 88°08′51″E﻿    \n",
       "3             610     Mahalangur Himalaya  27°57′42″N 86°55′59″E﻿    \n",
       "4            2386     Mahalangur Himalaya  27°53′23″N 87°05′20″E﻿    \n",
       "\n",
       "  Parent mountain First ascent Ascents bef. 2004  Failed attempts bef. 2004  \n",
       "0             NaN         1953            >>145                       121.0  \n",
       "1   Mount Everest         1954                45                       44.0  \n",
       "2   Mount Everest         1955                38                       24.0  \n",
       "3   Mount Everest         1956                26                       26.0  \n",
       "4   Mount Everest         1955                45                       52.0  "
      ]
     },
     "execution_count": 32,
     "metadata": {},
     "output_type": "execute_result"
    }
   ],
   "source": [
    "df = pd.read_csv('EPFL/Mountains.csv')\n",
    "df.head()"
   ]
  },
  {
   "cell_type": "code",
   "execution_count": 37,
   "metadata": {},
   "outputs": [
    {
     "data": {
      "text/html": [
       "<div>\n",
       "<style>\n",
       "    .dataframe thead tr:only-child th {\n",
       "        text-align: right;\n",
       "    }\n",
       "\n",
       "    .dataframe thead th {\n",
       "        text-align: left;\n",
       "    }\n",
       "\n",
       "    .dataframe tbody tr th {\n",
       "        vertical-align: top;\n",
       "    }\n",
       "</style>\n",
       "<table border=\"1\" class=\"dataframe\">\n",
       "  <thead>\n",
       "    <tr style=\"text-align: right;\">\n",
       "      <th></th>\n",
       "      <th>Rank</th>\n",
       "      <th>Height (m)</th>\n",
       "      <th>Height (ft)</th>\n",
       "      <th>Prominence (m)</th>\n",
       "      <th>Range</th>\n",
       "      <th>Coordinates</th>\n",
       "      <th>Parent mountain</th>\n",
       "      <th>First ascent</th>\n",
       "      <th>Ascents bef. 2004</th>\n",
       "      <th>Failed attempts bef. 2004</th>\n",
       "    </tr>\n",
       "    <tr>\n",
       "      <th>Mountain</th>\n",
       "      <th></th>\n",
       "      <th></th>\n",
       "      <th></th>\n",
       "      <th></th>\n",
       "      <th></th>\n",
       "      <th></th>\n",
       "      <th></th>\n",
       "      <th></th>\n",
       "      <th></th>\n",
       "      <th></th>\n",
       "    </tr>\n",
       "  </thead>\n",
       "  <tbody>\n",
       "    <tr>\n",
       "      <th>Mount Everest / Sagarmatha / Chomolungma</th>\n",
       "      <td>1</td>\n",
       "      <td>8848</td>\n",
       "      <td>29029</td>\n",
       "      <td>8848</td>\n",
       "      <td>Mahalangur Himalaya</td>\n",
       "      <td>27°59′17″N 86°55′31″E﻿</td>\n",
       "      <td>NaN</td>\n",
       "      <td>1953</td>\n",
       "      <td>&gt;&gt;145</td>\n",
       "      <td>121.0</td>\n",
       "    </tr>\n",
       "    <tr>\n",
       "      <th>K2 / Qogir / Godwin Austen</th>\n",
       "      <td>2</td>\n",
       "      <td>8611</td>\n",
       "      <td>28251</td>\n",
       "      <td>4017</td>\n",
       "      <td>Baltoro Karakoram</td>\n",
       "      <td>35°52′53″N 76°30′48″E﻿</td>\n",
       "      <td>Mount Everest</td>\n",
       "      <td>1954</td>\n",
       "      <td>45</td>\n",
       "      <td>44.0</td>\n",
       "    </tr>\n",
       "    <tr>\n",
       "      <th>Kangchenjunga</th>\n",
       "      <td>3</td>\n",
       "      <td>8586</td>\n",
       "      <td>28169</td>\n",
       "      <td>3922</td>\n",
       "      <td>Kangchenjunga Himalaya</td>\n",
       "      <td>27°42′12″N 88°08′51″E﻿</td>\n",
       "      <td>Mount Everest</td>\n",
       "      <td>1955</td>\n",
       "      <td>38</td>\n",
       "      <td>24.0</td>\n",
       "    </tr>\n",
       "    <tr>\n",
       "      <th>Lhotse</th>\n",
       "      <td>4</td>\n",
       "      <td>8516</td>\n",
       "      <td>27940</td>\n",
       "      <td>610</td>\n",
       "      <td>Mahalangur Himalaya</td>\n",
       "      <td>27°57′42″N 86°55′59″E﻿</td>\n",
       "      <td>Mount Everest</td>\n",
       "      <td>1956</td>\n",
       "      <td>26</td>\n",
       "      <td>26.0</td>\n",
       "    </tr>\n",
       "    <tr>\n",
       "      <th>Makalu</th>\n",
       "      <td>5</td>\n",
       "      <td>8485</td>\n",
       "      <td>27838</td>\n",
       "      <td>2386</td>\n",
       "      <td>Mahalangur Himalaya</td>\n",
       "      <td>27°53′23″N 87°05′20″E﻿</td>\n",
       "      <td>Mount Everest</td>\n",
       "      <td>1955</td>\n",
       "      <td>45</td>\n",
       "      <td>52.0</td>\n",
       "    </tr>\n",
       "  </tbody>\n",
       "</table>\n",
       "</div>"
      ],
      "text/plain": [
       "                                          Rank  Height (m)  Height (ft)  \\\n",
       "Mountain                                                                  \n",
       "Mount Everest / Sagarmatha / Chomolungma     1        8848        29029   \n",
       "K2 / Qogir / Godwin Austen                   2        8611        28251   \n",
       "Kangchenjunga                                3        8586        28169   \n",
       "Lhotse                                       4        8516        27940   \n",
       "Makalu                                       5        8485        27838   \n",
       "\n",
       "                                          Prominence (m)  \\\n",
       "Mountain                                                   \n",
       "Mount Everest / Sagarmatha / Chomolungma            8848   \n",
       "K2 / Qogir / Godwin Austen                          4017   \n",
       "Kangchenjunga                                       3922   \n",
       "Lhotse                                               610   \n",
       "Makalu                                              2386   \n",
       "\n",
       "                                                           Range  \\\n",
       "Mountain                                                           \n",
       "Mount Everest / Sagarmatha / Chomolungma     Mahalangur Himalaya   \n",
       "K2 / Qogir / Godwin Austen                     Baltoro Karakoram   \n",
       "Kangchenjunga                             Kangchenjunga Himalaya   \n",
       "Lhotse                                       Mahalangur Himalaya   \n",
       "Makalu                                       Mahalangur Himalaya   \n",
       "\n",
       "                                                      Coordinates  \\\n",
       "Mountain                                                            \n",
       "Mount Everest / Sagarmatha / Chomolungma  27°59′17″N 86°55′31″E﻿    \n",
       "K2 / Qogir / Godwin Austen                35°52′53″N 76°30′48″E﻿    \n",
       "Kangchenjunga                             27°42′12″N 88°08′51″E﻿    \n",
       "Lhotse                                    27°57′42″N 86°55′59″E﻿    \n",
       "Makalu                                    27°53′23″N 87°05′20″E﻿    \n",
       "\n",
       "                                         Parent mountain First ascent  \\\n",
       "Mountain                                                                \n",
       "Mount Everest / Sagarmatha / Chomolungma             NaN         1953   \n",
       "K2 / Qogir / Godwin Austen                 Mount Everest         1954   \n",
       "Kangchenjunga                              Mount Everest         1955   \n",
       "Lhotse                                     Mount Everest         1956   \n",
       "Makalu                                     Mount Everest         1955   \n",
       "\n",
       "                                         Ascents bef. 2004  \\\n",
       "Mountain                                                     \n",
       "Mount Everest / Sagarmatha / Chomolungma            >>145    \n",
       "K2 / Qogir / Godwin Austen                              45   \n",
       "Kangchenjunga                                           38   \n",
       "Lhotse                                                  26   \n",
       "Makalu                                                  45   \n",
       "\n",
       "                                          Failed attempts bef. 2004  \n",
       "Mountain                                                             \n",
       "Mount Everest / Sagarmatha / Chomolungma                      121.0  \n",
       "K2 / Qogir / Godwin Austen                                     44.0  \n",
       "Kangchenjunga                                                  24.0  \n",
       "Lhotse                                                         26.0  \n",
       "Makalu                                                         52.0  "
      ]
     },
     "execution_count": 37,
     "metadata": {},
     "output_type": "execute_result"
    }
   ],
   "source": [
    "df.head()"
   ]
  },
  {
   "cell_type": "code",
   "execution_count": 64,
   "metadata": {},
   "outputs": [
    {
     "data": {
      "text/html": [
       "<div>\n",
       "<style>\n",
       "    .dataframe thead tr:only-child th {\n",
       "        text-align: right;\n",
       "    }\n",
       "\n",
       "    .dataframe thead th {\n",
       "        text-align: left;\n",
       "    }\n",
       "\n",
       "    .dataframe tbody tr th {\n",
       "        vertical-align: top;\n",
       "    }\n",
       "</style>\n",
       "<table border=\"1\" class=\"dataframe\">\n",
       "  <thead>\n",
       "    <tr style=\"text-align: right;\">\n",
       "      <th></th>\n",
       "      <th>Rank</th>\n",
       "      <th>Height (m)</th>\n",
       "      <th>Height (ft)</th>\n",
       "      <th>Prominence (m)</th>\n",
       "      <th>Range</th>\n",
       "      <th>Coordinates</th>\n",
       "      <th>Parent mountain</th>\n",
       "      <th>First ascent</th>\n",
       "      <th>Ascents bef. 2004</th>\n",
       "      <th>Failed attempts bef. 2004</th>\n",
       "    </tr>\n",
       "    <tr>\n",
       "      <th>Mountain</th>\n",
       "      <th></th>\n",
       "      <th></th>\n",
       "      <th></th>\n",
       "      <th></th>\n",
       "      <th></th>\n",
       "      <th></th>\n",
       "      <th></th>\n",
       "      <th></th>\n",
       "      <th></th>\n",
       "      <th></th>\n",
       "    </tr>\n",
       "  </thead>\n",
       "  <tbody>\n",
       "    <tr>\n",
       "      <th>Mount Everest / Sagarmatha / Chomolungma</th>\n",
       "      <td>1</td>\n",
       "      <td>8848</td>\n",
       "      <td>29029</td>\n",
       "      <td>8848</td>\n",
       "      <td>Mahalangur Himalaya</td>\n",
       "      <td>27°59′17″N 86°55′31″E﻿</td>\n",
       "      <td>NaN</td>\n",
       "      <td>1953</td>\n",
       "      <td>&gt;&gt;145</td>\n",
       "      <td>121.0</td>\n",
       "    </tr>\n",
       "    <tr>\n",
       "      <th>Lhotse</th>\n",
       "      <td>4</td>\n",
       "      <td>8516</td>\n",
       "      <td>27940</td>\n",
       "      <td>610</td>\n",
       "      <td>Mahalangur Himalaya</td>\n",
       "      <td>27°57′42″N 86°55′59″E﻿</td>\n",
       "      <td>Mount Everest</td>\n",
       "      <td>1956</td>\n",
       "      <td>26</td>\n",
       "      <td>26.0</td>\n",
       "    </tr>\n",
       "    <tr>\n",
       "      <th>Makalu</th>\n",
       "      <td>5</td>\n",
       "      <td>8485</td>\n",
       "      <td>27838</td>\n",
       "      <td>2386</td>\n",
       "      <td>Mahalangur Himalaya</td>\n",
       "      <td>27°53′23″N 87°05′20″E﻿</td>\n",
       "      <td>Mount Everest</td>\n",
       "      <td>1955</td>\n",
       "      <td>45</td>\n",
       "      <td>52.0</td>\n",
       "    </tr>\n",
       "    <tr>\n",
       "      <th>Cho Oyu</th>\n",
       "      <td>6</td>\n",
       "      <td>8188</td>\n",
       "      <td>26864</td>\n",
       "      <td>2340</td>\n",
       "      <td>Mahalangur Himalaya</td>\n",
       "      <td>28°05′39″N 86°39′39″E﻿</td>\n",
       "      <td>Mount Everest</td>\n",
       "      <td>1954</td>\n",
       "      <td>79</td>\n",
       "      <td>28.0</td>\n",
       "    </tr>\n",
       "  </tbody>\n",
       "</table>\n",
       "</div>"
      ],
      "text/plain": [
       "                                          Rank  Height (m)  Height (ft)  \\\n",
       "Mountain                                                                  \n",
       "Mount Everest / Sagarmatha / Chomolungma     1        8848        29029   \n",
       "Lhotse                                       4        8516        27940   \n",
       "Makalu                                       5        8485        27838   \n",
       "Cho Oyu                                      6        8188        26864   \n",
       "\n",
       "                                          Prominence (m)                Range  \\\n",
       "Mountain                                                                        \n",
       "Mount Everest / Sagarmatha / Chomolungma            8848  Mahalangur Himalaya   \n",
       "Lhotse                                               610  Mahalangur Himalaya   \n",
       "Makalu                                              2386  Mahalangur Himalaya   \n",
       "Cho Oyu                                             2340  Mahalangur Himalaya   \n",
       "\n",
       "                                                      Coordinates  \\\n",
       "Mountain                                                            \n",
       "Mount Everest / Sagarmatha / Chomolungma  27°59′17″N 86°55′31″E﻿    \n",
       "Lhotse                                    27°57′42″N 86°55′59″E﻿    \n",
       "Makalu                                    27°53′23″N 87°05′20″E﻿    \n",
       "Cho Oyu                                   28°05′39″N 86°39′39″E﻿    \n",
       "\n",
       "                                         Parent mountain First ascent  \\\n",
       "Mountain                                                                \n",
       "Mount Everest / Sagarmatha / Chomolungma             NaN         1953   \n",
       "Lhotse                                     Mount Everest         1956   \n",
       "Makalu                                     Mount Everest         1955   \n",
       "Cho Oyu                                    Mount Everest         1954   \n",
       "\n",
       "                                         Ascents bef. 2004  \\\n",
       "Mountain                                                     \n",
       "Mount Everest / Sagarmatha / Chomolungma            >>145    \n",
       "Lhotse                                                  26   \n",
       "Makalu                                                  45   \n",
       "Cho Oyu                                                 79   \n",
       "\n",
       "                                          Failed attempts bef. 2004  \n",
       "Mountain                                                             \n",
       "Mount Everest / Sagarmatha / Chomolungma                      121.0  \n",
       "Lhotse                                                         26.0  \n",
       "Makalu                                                         52.0  \n",
       "Cho Oyu                                                        28.0  "
      ]
     },
     "execution_count": 64,
     "metadata": {},
     "output_type": "execute_result"
    }
   ],
   "source": [
    "df[(df['Height (m)'] > 8000) & (df['Range']=='Mahalangur Himalaya')]"
   ]
  },
  {
   "cell_type": "code",
   "execution_count": 65,
   "metadata": {},
   "outputs": [
    {
     "data": {
      "text/html": [
       "<div>\n",
       "<style>\n",
       "    .dataframe thead tr:only-child th {\n",
       "        text-align: right;\n",
       "    }\n",
       "\n",
       "    .dataframe thead th {\n",
       "        text-align: left;\n",
       "    }\n",
       "\n",
       "    .dataframe tbody tr th {\n",
       "        vertical-align: top;\n",
       "    }\n",
       "</style>\n",
       "<table border=\"1\" class=\"dataframe\">\n",
       "  <thead>\n",
       "    <tr style=\"text-align: right;\">\n",
       "      <th></th>\n",
       "      <th>Rank</th>\n",
       "      <th>Height (m)</th>\n",
       "      <th>Height (ft)</th>\n",
       "      <th>Prominence (m)</th>\n",
       "      <th>Range</th>\n",
       "      <th>Coordinates</th>\n",
       "      <th>Parent mountain</th>\n",
       "      <th>First ascent</th>\n",
       "      <th>Ascents bef. 2004</th>\n",
       "      <th>Failed attempts bef. 2004</th>\n",
       "    </tr>\n",
       "    <tr>\n",
       "      <th>Mountain</th>\n",
       "      <th></th>\n",
       "      <th></th>\n",
       "      <th></th>\n",
       "      <th></th>\n",
       "      <th></th>\n",
       "      <th></th>\n",
       "      <th></th>\n",
       "      <th></th>\n",
       "      <th></th>\n",
       "      <th></th>\n",
       "    </tr>\n",
       "  </thead>\n",
       "  <tbody>\n",
       "    <tr>\n",
       "      <th>Mount Everest / Sagarmatha / Chomolungma</th>\n",
       "      <td>1</td>\n",
       "      <td>8848</td>\n",
       "      <td>29029</td>\n",
       "      <td>8848</td>\n",
       "      <td>Mahalangur Himalaya</td>\n",
       "      <td>27°59′17″N 86°55′31″E﻿</td>\n",
       "      <td>NaN</td>\n",
       "      <td>1953</td>\n",
       "      <td>&gt;&gt;145</td>\n",
       "      <td>121.0</td>\n",
       "    </tr>\n",
       "    <tr>\n",
       "      <th>Lhotse</th>\n",
       "      <td>4</td>\n",
       "      <td>8516</td>\n",
       "      <td>27940</td>\n",
       "      <td>610</td>\n",
       "      <td>Mahalangur Himalaya</td>\n",
       "      <td>27°57′42″N 86°55′59″E﻿</td>\n",
       "      <td>Mount Everest</td>\n",
       "      <td>1956</td>\n",
       "      <td>26</td>\n",
       "      <td>26.0</td>\n",
       "    </tr>\n",
       "    <tr>\n",
       "      <th>Makalu</th>\n",
       "      <td>5</td>\n",
       "      <td>8485</td>\n",
       "      <td>27838</td>\n",
       "      <td>2386</td>\n",
       "      <td>Mahalangur Himalaya</td>\n",
       "      <td>27°53′23″N 87°05′20″E﻿</td>\n",
       "      <td>Mount Everest</td>\n",
       "      <td>1955</td>\n",
       "      <td>45</td>\n",
       "      <td>52.0</td>\n",
       "    </tr>\n",
       "    <tr>\n",
       "      <th>Cho Oyu</th>\n",
       "      <td>6</td>\n",
       "      <td>8188</td>\n",
       "      <td>26864</td>\n",
       "      <td>2340</td>\n",
       "      <td>Mahalangur Himalaya</td>\n",
       "      <td>28°05′39″N 86°39′39″E﻿</td>\n",
       "      <td>Mount Everest</td>\n",
       "      <td>1954</td>\n",
       "      <td>79</td>\n",
       "      <td>28.0</td>\n",
       "    </tr>\n",
       "  </tbody>\n",
       "</table>\n",
       "</div>"
      ],
      "text/plain": [
       "                                          Rank  Height (m)  Height (ft)  \\\n",
       "Mountain                                                                  \n",
       "Mount Everest / Sagarmatha / Chomolungma     1        8848        29029   \n",
       "Lhotse                                       4        8516        27940   \n",
       "Makalu                                       5        8485        27838   \n",
       "Cho Oyu                                      6        8188        26864   \n",
       "\n",
       "                                          Prominence (m)                Range  \\\n",
       "Mountain                                                                        \n",
       "Mount Everest / Sagarmatha / Chomolungma            8848  Mahalangur Himalaya   \n",
       "Lhotse                                               610  Mahalangur Himalaya   \n",
       "Makalu                                              2386  Mahalangur Himalaya   \n",
       "Cho Oyu                                             2340  Mahalangur Himalaya   \n",
       "\n",
       "                                                      Coordinates  \\\n",
       "Mountain                                                            \n",
       "Mount Everest / Sagarmatha / Chomolungma  27°59′17″N 86°55′31″E﻿    \n",
       "Lhotse                                    27°57′42″N 86°55′59″E﻿    \n",
       "Makalu                                    27°53′23″N 87°05′20″E﻿    \n",
       "Cho Oyu                                   28°05′39″N 86°39′39″E﻿    \n",
       "\n",
       "                                         Parent mountain First ascent  \\\n",
       "Mountain                                                                \n",
       "Mount Everest / Sagarmatha / Chomolungma             NaN         1953   \n",
       "Lhotse                                     Mount Everest         1956   \n",
       "Makalu                                     Mount Everest         1955   \n",
       "Cho Oyu                                    Mount Everest         1954   \n",
       "\n",
       "                                         Ascents bef. 2004  \\\n",
       "Mountain                                                     \n",
       "Mount Everest / Sagarmatha / Chomolungma            >>145    \n",
       "Lhotse                                                  26   \n",
       "Makalu                                                  45   \n",
       "Cho Oyu                                                 79   \n",
       "\n",
       "                                          Failed attempts bef. 2004  \n",
       "Mountain                                                             \n",
       "Mount Everest / Sagarmatha / Chomolungma                      121.0  \n",
       "Lhotse                                                         26.0  \n",
       "Makalu                                                         52.0  \n",
       "Cho Oyu                                                        28.0  "
      ]
     },
     "execution_count": 65,
     "metadata": {},
     "output_type": "execute_result"
    }
   ],
   "source": [
    "df.loc[(df['Height (m)'] > 8000) & (df['Range']=='Mahalangur Himalaya'), :]"
   ]
  },
  {
   "cell_type": "code",
   "execution_count": 66,
   "metadata": {},
   "outputs": [
    {
     "data": {
      "text/html": [
       "<div>\n",
       "<style>\n",
       "    .dataframe thead tr:only-child th {\n",
       "        text-align: right;\n",
       "    }\n",
       "\n",
       "    .dataframe thead th {\n",
       "        text-align: left;\n",
       "    }\n",
       "\n",
       "    .dataframe tbody tr th {\n",
       "        vertical-align: top;\n",
       "    }\n",
       "</style>\n",
       "<table border=\"1\" class=\"dataframe\">\n",
       "  <thead>\n",
       "    <tr style=\"text-align: right;\">\n",
       "      <th></th>\n",
       "      <th>age</th>\n",
       "      <th>occupation</th>\n",
       "      <th>sex</th>\n",
       "      <th>user</th>\n",
       "    </tr>\n",
       "  </thead>\n",
       "  <tbody>\n",
       "    <tr>\n",
       "      <th>0</th>\n",
       "      <td>24</td>\n",
       "      <td>technician</td>\n",
       "      <td>F</td>\n",
       "      <td>1</td>\n",
       "    </tr>\n",
       "    <tr>\n",
       "      <th>1</th>\n",
       "      <td>54</td>\n",
       "      <td>musician</td>\n",
       "      <td>F</td>\n",
       "      <td>2</td>\n",
       "    </tr>\n",
       "    <tr>\n",
       "      <th>2</th>\n",
       "      <td>17</td>\n",
       "      <td>student</td>\n",
       "      <td>M</td>\n",
       "      <td>3</td>\n",
       "    </tr>\n",
       "  </tbody>\n",
       "</table>\n",
       "</div>"
      ],
      "text/plain": [
       "   age  occupation sex  user\n",
       "0   24  technician   F     1\n",
       "1   54    musician   F     2\n",
       "2   17     student   M     3"
      ]
     },
     "execution_count": 66,
     "metadata": {},
     "output_type": "execute_result"
    }
   ],
   "source": [
    "df= pd.DataFrame( {'user' : [1,2,3],\n",
    "            'age' : [24,54,17],\n",
    "            'sex' : ['F','F','M'],\n",
    "            'occupation' : ['technician','musician','student']})\n",
    "df"
   ]
  },
  {
   "cell_type": "code",
   "execution_count": 70,
   "metadata": {},
   "outputs": [
    {
     "data": {
      "text/html": [
       "<div>\n",
       "<style>\n",
       "    .dataframe thead tr:only-child th {\n",
       "        text-align: right;\n",
       "    }\n",
       "\n",
       "    .dataframe thead th {\n",
       "        text-align: left;\n",
       "    }\n",
       "\n",
       "    .dataframe tbody tr th {\n",
       "        vertical-align: top;\n",
       "    }\n",
       "</style>\n",
       "<table border=\"1\" class=\"dataframe\">\n",
       "  <thead>\n",
       "    <tr style=\"text-align: right;\">\n",
       "      <th></th>\n",
       "      <th>age</th>\n",
       "      <th>occupation</th>\n",
       "      <th>sex</th>\n",
       "    </tr>\n",
       "    <tr>\n",
       "      <th>user</th>\n",
       "      <th></th>\n",
       "      <th></th>\n",
       "      <th></th>\n",
       "    </tr>\n",
       "  </thead>\n",
       "  <tbody>\n",
       "    <tr>\n",
       "      <th>1</th>\n",
       "      <td>24</td>\n",
       "      <td>technician</td>\n",
       "      <td>F</td>\n",
       "    </tr>\n",
       "    <tr>\n",
       "      <th>2</th>\n",
       "      <td>54</td>\n",
       "      <td>musician</td>\n",
       "      <td>F</td>\n",
       "    </tr>\n",
       "    <tr>\n",
       "      <th>3</th>\n",
       "      <td>17</td>\n",
       "      <td>student</td>\n",
       "      <td>M</td>\n",
       "    </tr>\n",
       "  </tbody>\n",
       "</table>\n",
       "</div>"
      ],
      "text/plain": [
       "      age  occupation sex\n",
       "user                     \n",
       "1      24  technician   F\n",
       "2      54    musician   F\n",
       "3      17     student   M"
      ]
     },
     "execution_count": 70,
     "metadata": {},
     "output_type": "execute_result"
    }
   ],
   "source": [
    "df.set_index('user')"
   ]
  },
  {
   "cell_type": "code",
   "execution_count": 71,
   "metadata": {},
   "outputs": [
    {
     "name": "stderr",
     "output_type": "stream",
     "text": [
      "C:\\Users\\jisnard.2015-JISNARD\\Anaconda3\\envs\\exts-ida\\lib\\site-packages\\pandas\\core\\generic.py:3110: SettingWithCopyWarning: \n",
      "A value is trying to be set on a copy of a slice from a DataFrame.\n",
      "Try using .loc[row_indexer,col_indexer] = value instead\n",
      "\n",
      "See the caveats in the documentation: http://pandas.pydata.org/pandas-docs/stable/indexing.html#indexing-view-versus-copy\n",
      "  self[name] = value\n"
     ]
    }
   ],
   "source": [
    "df[df.sex=='F'].sex = 'Female'"
   ]
  },
  {
   "cell_type": "code",
   "execution_count": 72,
   "metadata": {},
   "outputs": [
    {
     "data": {
      "text/html": [
       "<div>\n",
       "<style>\n",
       "    .dataframe thead tr:only-child th {\n",
       "        text-align: right;\n",
       "    }\n",
       "\n",
       "    .dataframe thead th {\n",
       "        text-align: left;\n",
       "    }\n",
       "\n",
       "    .dataframe tbody tr th {\n",
       "        vertical-align: top;\n",
       "    }\n",
       "</style>\n",
       "<table border=\"1\" class=\"dataframe\">\n",
       "  <thead>\n",
       "    <tr style=\"text-align: right;\">\n",
       "      <th></th>\n",
       "      <th>age</th>\n",
       "      <th>occupation</th>\n",
       "      <th>sex</th>\n",
       "      <th>user</th>\n",
       "    </tr>\n",
       "  </thead>\n",
       "  <tbody>\n",
       "    <tr>\n",
       "      <th>0</th>\n",
       "      <td>24</td>\n",
       "      <td>technician</td>\n",
       "      <td>Female</td>\n",
       "      <td>1</td>\n",
       "    </tr>\n",
       "    <tr>\n",
       "      <th>1</th>\n",
       "      <td>54</td>\n",
       "      <td>musician</td>\n",
       "      <td>Female</td>\n",
       "      <td>2</td>\n",
       "    </tr>\n",
       "    <tr>\n",
       "      <th>2</th>\n",
       "      <td>17</td>\n",
       "      <td>student</td>\n",
       "      <td>M</td>\n",
       "      <td>3</td>\n",
       "    </tr>\n",
       "  </tbody>\n",
       "</table>\n",
       "</div>"
      ],
      "text/plain": [
       "   age  occupation     sex  user\n",
       "0   24  technician  Female     1\n",
       "1   54    musician  Female     2\n",
       "2   17     student       M     3"
      ]
     },
     "execution_count": 72,
     "metadata": {},
     "output_type": "execute_result"
    }
   ],
   "source": [
    "df.loc[df.sex=='F','sex'] = 'Female'\n",
    "df"
   ]
  },
  {
   "cell_type": "code",
   "execution_count": 73,
   "metadata": {},
   "outputs": [
    {
     "data": {
      "text/html": [
       "<div>\n",
       "<style>\n",
       "    .dataframe thead tr:only-child th {\n",
       "        text-align: right;\n",
       "    }\n",
       "\n",
       "    .dataframe thead th {\n",
       "        text-align: left;\n",
       "    }\n",
       "\n",
       "    .dataframe tbody tr th {\n",
       "        vertical-align: top;\n",
       "    }\n",
       "</style>\n",
       "<table border=\"1\" class=\"dataframe\">\n",
       "  <thead>\n",
       "    <tr style=\"text-align: right;\">\n",
       "      <th></th>\n",
       "      <th>age</th>\n",
       "      <th>occupation</th>\n",
       "      <th>sex</th>\n",
       "      <th>user</th>\n",
       "    </tr>\n",
       "  </thead>\n",
       "  <tbody>\n",
       "    <tr>\n",
       "      <th>0</th>\n",
       "      <td>24</td>\n",
       "      <td>technician</td>\n",
       "      <td>F</td>\n",
       "      <td>1</td>\n",
       "    </tr>\n",
       "    <tr>\n",
       "      <th>1</th>\n",
       "      <td>54</td>\n",
       "      <td>musician</td>\n",
       "      <td>F</td>\n",
       "      <td>2</td>\n",
       "    </tr>\n",
       "    <tr>\n",
       "      <th>2</th>\n",
       "      <td>17</td>\n",
       "      <td>student</td>\n",
       "      <td>M</td>\n",
       "      <td>3</td>\n",
       "    </tr>\n",
       "  </tbody>\n",
       "</table>\n",
       "</div>"
      ],
      "text/plain": [
       "   age  occupation sex  user\n",
       "0   24  technician   F     1\n",
       "1   54    musician   F     2\n",
       "2   17     student   M     3"
      ]
     },
     "execution_count": 73,
     "metadata": {},
     "output_type": "execute_result"
    }
   ],
   "source": [
    "df= pd.DataFrame( {'user' : [1,2,3],\n",
    "            'age' : [24,54,17],\n",
    "            'sex' : ['F','F','M'],\n",
    "            'occupation' : ['technician','musician','student']})\n",
    "df"
   ]
  },
  {
   "cell_type": "code",
   "execution_count": 75,
   "metadata": {},
   "outputs": [
    {
     "data": {
      "text/html": [
       "<div>\n",
       "<style>\n",
       "    .dataframe thead tr:only-child th {\n",
       "        text-align: right;\n",
       "    }\n",
       "\n",
       "    .dataframe thead th {\n",
       "        text-align: left;\n",
       "    }\n",
       "\n",
       "    .dataframe tbody tr th {\n",
       "        vertical-align: top;\n",
       "    }\n",
       "</style>\n",
       "<table border=\"1\" class=\"dataframe\">\n",
       "  <thead>\n",
       "    <tr style=\"text-align: right;\">\n",
       "      <th></th>\n",
       "      <th>age</th>\n",
       "      <th>occupation</th>\n",
       "      <th>sex</th>\n",
       "      <th>user</th>\n",
       "    </tr>\n",
       "  </thead>\n",
       "  <tbody>\n",
       "    <tr>\n",
       "      <th>0</th>\n",
       "      <td>24</td>\n",
       "      <td>technician</td>\n",
       "      <td>F</td>\n",
       "      <td>1</td>\n",
       "    </tr>\n",
       "    <tr>\n",
       "      <th>1</th>\n",
       "      <td>54</td>\n",
       "      <td>musician</td>\n",
       "      <td>F</td>\n",
       "      <td>2</td>\n",
       "    </tr>\n",
       "  </tbody>\n",
       "</table>\n",
       "</div>"
      ],
      "text/plain": [
       "   age  occupation sex  user\n",
       "0   24  technician   F     1\n",
       "1   54    musician   F     2"
      ]
     },
     "execution_count": 75,
     "metadata": {},
     "output_type": "execute_result"
    }
   ],
   "source": [
    "df2 = df.loc[df.sex=='F']\n",
    "df2"
   ]
  },
  {
   "cell_type": "code",
   "execution_count": 76,
   "metadata": {},
   "outputs": [
    {
     "name": "stderr",
     "output_type": "stream",
     "text": [
      "C:\\Users\\jisnard.2015-JISNARD\\Anaconda3\\envs\\exts-ida\\lib\\site-packages\\pandas\\core\\indexing.py:517: SettingWithCopyWarning: \n",
      "A value is trying to be set on a copy of a slice from a DataFrame.\n",
      "Try using .loc[row_indexer,col_indexer] = value instead\n",
      "\n",
      "See the caveats in the documentation: http://pandas.pydata.org/pandas-docs/stable/indexing.html#indexing-view-versus-copy\n",
      "  self.obj[item] = s\n"
     ]
    }
   ],
   "source": [
    "df2.loc[0:1,'sex']='Female'"
   ]
  },
  {
   "cell_type": "code",
   "execution_count": 78,
   "metadata": {},
   "outputs": [
    {
     "data": {
      "text/html": [
       "<div>\n",
       "<style>\n",
       "    .dataframe thead tr:only-child th {\n",
       "        text-align: right;\n",
       "    }\n",
       "\n",
       "    .dataframe thead th {\n",
       "        text-align: left;\n",
       "    }\n",
       "\n",
       "    .dataframe tbody tr th {\n",
       "        vertical-align: top;\n",
       "    }\n",
       "</style>\n",
       "<table border=\"1\" class=\"dataframe\">\n",
       "  <thead>\n",
       "    <tr style=\"text-align: right;\">\n",
       "      <th></th>\n",
       "      <th>age</th>\n",
       "      <th>occupation</th>\n",
       "      <th>sex</th>\n",
       "      <th>user</th>\n",
       "    </tr>\n",
       "  </thead>\n",
       "  <tbody>\n",
       "    <tr>\n",
       "      <th>0</th>\n",
       "      <td>24</td>\n",
       "      <td>technician</td>\n",
       "      <td>F</td>\n",
       "      <td>1</td>\n",
       "    </tr>\n",
       "    <tr>\n",
       "      <th>1</th>\n",
       "      <td>54</td>\n",
       "      <td>musician</td>\n",
       "      <td>F</td>\n",
       "      <td>2</td>\n",
       "    </tr>\n",
       "  </tbody>\n",
       "</table>\n",
       "</div>"
      ],
      "text/plain": [
       "   age  occupation sex  user\n",
       "0   24  technician   F     1\n",
       "1   54    musician   F     2"
      ]
     },
     "execution_count": 78,
     "metadata": {},
     "output_type": "execute_result"
    }
   ],
   "source": [
    "df2 = df.loc[df.sex=='F'].copy()\n",
    "df2"
   ]
  },
  {
   "cell_type": "code",
   "execution_count": 79,
   "metadata": {},
   "outputs": [
    {
     "data": {
      "text/html": [
       "<div>\n",
       "<style>\n",
       "    .dataframe thead tr:only-child th {\n",
       "        text-align: right;\n",
       "    }\n",
       "\n",
       "    .dataframe thead th {\n",
       "        text-align: left;\n",
       "    }\n",
       "\n",
       "    .dataframe tbody tr th {\n",
       "        vertical-align: top;\n",
       "    }\n",
       "</style>\n",
       "<table border=\"1\" class=\"dataframe\">\n",
       "  <thead>\n",
       "    <tr style=\"text-align: right;\">\n",
       "      <th></th>\n",
       "      <th>age</th>\n",
       "      <th>occupation</th>\n",
       "      <th>sex</th>\n",
       "      <th>user</th>\n",
       "    </tr>\n",
       "  </thead>\n",
       "  <tbody>\n",
       "    <tr>\n",
       "      <th>0</th>\n",
       "      <td>24</td>\n",
       "      <td>technician</td>\n",
       "      <td>Female</td>\n",
       "      <td>1</td>\n",
       "    </tr>\n",
       "    <tr>\n",
       "      <th>1</th>\n",
       "      <td>54</td>\n",
       "      <td>musician</td>\n",
       "      <td>Female</td>\n",
       "      <td>2</td>\n",
       "    </tr>\n",
       "  </tbody>\n",
       "</table>\n",
       "</div>"
      ],
      "text/plain": [
       "   age  occupation     sex  user\n",
       "0   24  technician  Female     1\n",
       "1   54    musician  Female     2"
      ]
     },
     "execution_count": 79,
     "metadata": {},
     "output_type": "execute_result"
    }
   ],
   "source": [
    "df2.loc[0:1,'sex']='Female'\n",
    "df2"
   ]
  },
  {
   "cell_type": "code",
   "execution_count": 80,
   "metadata": {},
   "outputs": [],
   "source": [
    "df= pd.DataFrame( {'user' : [1,2,3],\n",
    "            'age' : [24,54,17],\n",
    "            'sex' : ['F','F','M'],\n",
    "            'occupation' : ['technician','musician','student']})"
   ]
  },
  {
   "cell_type": "code",
   "execution_count": 82,
   "metadata": {},
   "outputs": [
    {
     "data": {
      "text/plain": [
       "0    Female\n",
       "1    Female\n",
       "2      Male\n",
       "Name: sex, dtype: object"
      ]
     },
     "execution_count": 82,
     "metadata": {},
     "output_type": "execute_result"
    }
   ],
   "source": [
    "df.sex.map({'F':'Female', 'M':'Male'})"
   ]
  },
  {
   "cell_type": "code",
   "execution_count": 83,
   "metadata": {},
   "outputs": [],
   "source": [
    "def dog_years(x):\n",
    "    return x // 7\n"
   ]
  },
  {
   "cell_type": "code",
   "execution_count": 84,
   "metadata": {},
   "outputs": [
    {
     "data": {
      "text/html": [
       "<div>\n",
       "<style>\n",
       "    .dataframe thead tr:only-child th {\n",
       "        text-align: right;\n",
       "    }\n",
       "\n",
       "    .dataframe thead th {\n",
       "        text-align: left;\n",
       "    }\n",
       "\n",
       "    .dataframe tbody tr th {\n",
       "        vertical-align: top;\n",
       "    }\n",
       "</style>\n",
       "<table border=\"1\" class=\"dataframe\">\n",
       "  <thead>\n",
       "    <tr style=\"text-align: right;\">\n",
       "      <th></th>\n",
       "      <th>age</th>\n",
       "      <th>occupation</th>\n",
       "      <th>sex</th>\n",
       "      <th>user</th>\n",
       "      <th>age_dog_years</th>\n",
       "    </tr>\n",
       "  </thead>\n",
       "  <tbody>\n",
       "    <tr>\n",
       "      <th>0</th>\n",
       "      <td>24</td>\n",
       "      <td>technician</td>\n",
       "      <td>F</td>\n",
       "      <td>1</td>\n",
       "      <td>3</td>\n",
       "    </tr>\n",
       "    <tr>\n",
       "      <th>1</th>\n",
       "      <td>54</td>\n",
       "      <td>musician</td>\n",
       "      <td>F</td>\n",
       "      <td>2</td>\n",
       "      <td>7</td>\n",
       "    </tr>\n",
       "    <tr>\n",
       "      <th>2</th>\n",
       "      <td>17</td>\n",
       "      <td>student</td>\n",
       "      <td>M</td>\n",
       "      <td>3</td>\n",
       "      <td>2</td>\n",
       "    </tr>\n",
       "  </tbody>\n",
       "</table>\n",
       "</div>"
      ],
      "text/plain": [
       "   age  occupation sex  user  age_dog_years\n",
       "0   24  technician   F     1              3\n",
       "1   54    musician   F     2              7\n",
       "2   17     student   M     3              2"
      ]
     },
     "execution_count": 84,
     "metadata": {},
     "output_type": "execute_result"
    }
   ],
   "source": [
    "df['age_dog_years'] = df['age'].apply(dog_years)\n",
    "df"
   ]
  },
  {
   "cell_type": "code",
   "execution_count": 86,
   "metadata": {},
   "outputs": [
    {
     "data": {
      "text/html": [
       "<div>\n",
       "<style>\n",
       "    .dataframe thead tr:only-child th {\n",
       "        text-align: right;\n",
       "    }\n",
       "\n",
       "    .dataframe thead th {\n",
       "        text-align: left;\n",
       "    }\n",
       "\n",
       "    .dataframe tbody tr th {\n",
       "        vertical-align: top;\n",
       "    }\n",
       "</style>\n",
       "<table border=\"1\" class=\"dataframe\">\n",
       "  <thead>\n",
       "    <tr style=\"text-align: right;\">\n",
       "      <th></th>\n",
       "      <th>a</th>\n",
       "      <th>b</th>\n",
       "      <th>c</th>\n",
       "    </tr>\n",
       "  </thead>\n",
       "  <tbody>\n",
       "    <tr>\n",
       "      <th>0</th>\n",
       "      <td>0</td>\n",
       "      <td>1</td>\n",
       "      <td>2</td>\n",
       "    </tr>\n",
       "    <tr>\n",
       "      <th>1</th>\n",
       "      <td>3</td>\n",
       "      <td>4</td>\n",
       "      <td>5</td>\n",
       "    </tr>\n",
       "    <tr>\n",
       "      <th>2</th>\n",
       "      <td>6</td>\n",
       "      <td>7</td>\n",
       "      <td>8</td>\n",
       "    </tr>\n",
       "  </tbody>\n",
       "</table>\n",
       "</div>"
      ],
      "text/plain": [
       "   a  b  c\n",
       "0  0  1  2\n",
       "1  3  4  5\n",
       "2  6  7  8"
      ]
     },
     "execution_count": 86,
     "metadata": {},
     "output_type": "execute_result"
    }
   ],
   "source": [
    "df2 = pd.DataFrame(np.arange(9).reshape(3,3), columns=['a','b', 'c'])\n",
    "df2"
   ]
  },
  {
   "cell_type": "code",
   "execution_count": 87,
   "metadata": {},
   "outputs": [],
   "source": [
    "def my_sum(x):\n",
    "    return sum(x)"
   ]
  },
  {
   "cell_type": "code",
   "execution_count": 89,
   "metadata": {},
   "outputs": [
    {
     "data": {
      "text/plain": [
       "0     3\n",
       "1    12\n",
       "2    21\n",
       "dtype: int64"
      ]
     },
     "execution_count": 89,
     "metadata": {},
     "output_type": "execute_result"
    }
   ],
   "source": [
    "df2.apply(my_sum, axis = 1)"
   ]
  },
  {
   "cell_type": "code",
   "execution_count": 96,
   "metadata": {},
   "outputs": [
    {
     "data": {
      "text/html": [
       "<div>\n",
       "<style>\n",
       "    .dataframe thead tr:only-child th {\n",
       "        text-align: right;\n",
       "    }\n",
       "\n",
       "    .dataframe thead th {\n",
       "        text-align: left;\n",
       "    }\n",
       "\n",
       "    .dataframe tbody tr th {\n",
       "        vertical-align: top;\n",
       "    }\n",
       "</style>\n",
       "<table border=\"1\" class=\"dataframe\">\n",
       "  <thead>\n",
       "    <tr style=\"text-align: right;\">\n",
       "      <th></th>\n",
       "      <th>A</th>\n",
       "      <th>B</th>\n",
       "      <th>C</th>\n",
       "    </tr>\n",
       "  </thead>\n",
       "  <tbody>\n",
       "    <tr>\n",
       "      <th>2</th>\n",
       "      <td>1</td>\n",
       "      <td>7</td>\n",
       "      <td>5</td>\n",
       "    </tr>\n",
       "    <tr>\n",
       "      <th>4</th>\n",
       "      <td>3</td>\n",
       "      <td>6</td>\n",
       "      <td>2</td>\n",
       "    </tr>\n",
       "    <tr>\n",
       "      <th>0</th>\n",
       "      <td>3</td>\n",
       "      <td>0</td>\n",
       "      <td>10</td>\n",
       "    </tr>\n",
       "    <tr>\n",
       "      <th>1</th>\n",
       "      <td>6</td>\n",
       "      <td>0</td>\n",
       "      <td>4</td>\n",
       "    </tr>\n",
       "    <tr>\n",
       "      <th>3</th>\n",
       "      <td>12</td>\n",
       "      <td>5</td>\n",
       "      <td>8</td>\n",
       "    </tr>\n",
       "  </tbody>\n",
       "</table>\n",
       "</div>"
      ],
      "text/plain": [
       "    A  B   C\n",
       "2   1  7   5\n",
       "4   3  6   2\n",
       "0   3  0  10\n",
       "1   6  0   4\n",
       "3  12  5   8"
      ]
     },
     "execution_count": 96,
     "metadata": {},
     "output_type": "execute_result"
    }
   ],
   "source": [
    "df = pd.DataFrame({'A':[3,6,1,12,3],'B':[0,0,7,5,6],'C':[10,4,5,8,2]})\n",
    "df.sort_values(['A','C'])"
   ]
  },
  {
   "cell_type": "code",
   "execution_count": 98,
   "metadata": {},
   "outputs": [
    {
     "data": {
      "text/html": [
       "<div>\n",
       "<style>\n",
       "    .dataframe thead tr:only-child th {\n",
       "        text-align: right;\n",
       "    }\n",
       "\n",
       "    .dataframe thead th {\n",
       "        text-align: left;\n",
       "    }\n",
       "\n",
       "    .dataframe tbody tr th {\n",
       "        vertical-align: top;\n",
       "    }\n",
       "</style>\n",
       "<table border=\"1\" class=\"dataframe\">\n",
       "  <thead>\n",
       "    <tr style=\"text-align: right;\">\n",
       "      <th></th>\n",
       "      <th>A</th>\n",
       "      <th>B</th>\n",
       "      <th>C</th>\n",
       "    </tr>\n",
       "  </thead>\n",
       "  <tbody>\n",
       "    <tr>\n",
       "      <th>0</th>\n",
       "      <td>dog</td>\n",
       "      <td>one</td>\n",
       "      <td>3</td>\n",
       "    </tr>\n",
       "    <tr>\n",
       "      <th>1</th>\n",
       "      <td>cat</td>\n",
       "      <td>one</td>\n",
       "      <td>2</td>\n",
       "    </tr>\n",
       "    <tr>\n",
       "      <th>2</th>\n",
       "      <td>dog</td>\n",
       "      <td>two</td>\n",
       "      <td>2</td>\n",
       "    </tr>\n",
       "    <tr>\n",
       "      <th>3</th>\n",
       "      <td>cat</td>\n",
       "      <td>three</td>\n",
       "      <td>7</td>\n",
       "    </tr>\n",
       "    <tr>\n",
       "      <th>4</th>\n",
       "      <td>dog</td>\n",
       "      <td>two</td>\n",
       "      <td>7</td>\n",
       "    </tr>\n",
       "    <tr>\n",
       "      <th>5</th>\n",
       "      <td>cat</td>\n",
       "      <td>two</td>\n",
       "      <td>1</td>\n",
       "    </tr>\n",
       "    <tr>\n",
       "      <th>6</th>\n",
       "      <td>dog</td>\n",
       "      <td>one</td>\n",
       "      <td>8</td>\n",
       "    </tr>\n",
       "    <tr>\n",
       "      <th>7</th>\n",
       "      <td>dog</td>\n",
       "      <td>three</td>\n",
       "      <td>9</td>\n",
       "    </tr>\n",
       "  </tbody>\n",
       "</table>\n",
       "</div>"
      ],
      "text/plain": [
       "     A      B  C\n",
       "0  dog    one  3\n",
       "1  cat    one  2\n",
       "2  dog    two  2\n",
       "3  cat  three  7\n",
       "4  dog    two  7\n",
       "5  cat    two  1\n",
       "6  dog    one  8\n",
       "7  dog  three  9"
      ]
     },
     "execution_count": 98,
     "metadata": {},
     "output_type": "execute_result"
    }
   ],
   "source": [
    "df = pd.DataFrame({\n",
    "       'A' : ['dog', 'cat', 'dog', 'cat', 'dog', 'cat', 'dog', 'dog'],\n",
    "       'B' : ['one', 'one', 'two', 'three','two', 'two', 'one', 'three'],\n",
    "       'C' : np.random.randint(10, size=8)})\n",
    "df"
   ]
  },
  {
   "cell_type": "code",
   "execution_count": 102,
   "metadata": {},
   "outputs": [
    {
     "data": {
      "text/plain": [
       "B\n",
       "one      3\n",
       "three    2\n",
       "two      3\n",
       "Name: C, dtype: int64"
      ]
     },
     "execution_count": 102,
     "metadata": {},
     "output_type": "execute_result"
    }
   ],
   "source": [
    "df.groupby('B').C.count()"
   ]
  },
  {
   "cell_type": "code",
   "execution_count": 105,
   "metadata": {},
   "outputs": [
    {
     "data": {
      "text/html": [
       "<div>\n",
       "<style>\n",
       "    .dataframe thead tr:only-child th {\n",
       "        text-align: right;\n",
       "    }\n",
       "\n",
       "    .dataframe thead th {\n",
       "        text-align: left;\n",
       "    }\n",
       "\n",
       "    .dataframe tbody tr th {\n",
       "        vertical-align: top;\n",
       "    }\n",
       "</style>\n",
       "<table border=\"1\" class=\"dataframe\">\n",
       "  <thead>\n",
       "    <tr style=\"text-align: right;\">\n",
       "      <th></th>\n",
       "      <th>A</th>\n",
       "      <th>B</th>\n",
       "      <th>C</th>\n",
       "    </tr>\n",
       "  </thead>\n",
       "  <tbody>\n",
       "    <tr>\n",
       "      <th>a</th>\n",
       "      <td>5</td>\n",
       "      <td>6</td>\n",
       "      <td>7</td>\n",
       "    </tr>\n",
       "    <tr>\n",
       "      <th>c</th>\n",
       "      <td>5</td>\n",
       "      <td>8</td>\n",
       "      <td>4</td>\n",
       "    </tr>\n",
       "    <tr>\n",
       "      <th>e</th>\n",
       "      <td>5</td>\n",
       "      <td>8</td>\n",
       "      <td>5</td>\n",
       "    </tr>\n",
       "  </tbody>\n",
       "</table>\n",
       "</div>"
      ],
      "text/plain": [
       "   A  B  C\n",
       "a  5  6  7\n",
       "c  5  8  4\n",
       "e  5  8  5"
      ]
     },
     "execution_count": 105,
     "metadata": {},
     "output_type": "execute_result"
    }
   ],
   "source": [
    "df = pd.DataFrame(np.random.randint(10, size=(3, 3)), index=['a', 'c', 'e'], columns=['A', 'B', 'C'])\n",
    "df"
   ]
  },
  {
   "cell_type": "code",
   "execution_count": 106,
   "metadata": {},
   "outputs": [
    {
     "data": {
      "text/html": [
       "<div>\n",
       "<style>\n",
       "    .dataframe thead tr:only-child th {\n",
       "        text-align: right;\n",
       "    }\n",
       "\n",
       "    .dataframe thead th {\n",
       "        text-align: left;\n",
       "    }\n",
       "\n",
       "    .dataframe tbody tr th {\n",
       "        vertical-align: top;\n",
       "    }\n",
       "</style>\n",
       "<table border=\"1\" class=\"dataframe\">\n",
       "  <thead>\n",
       "    <tr style=\"text-align: right;\">\n",
       "      <th></th>\n",
       "      <th>A</th>\n",
       "      <th>B</th>\n",
       "      <th>C</th>\n",
       "    </tr>\n",
       "  </thead>\n",
       "  <tbody>\n",
       "    <tr>\n",
       "      <th>a</th>\n",
       "      <td>5.0</td>\n",
       "      <td>6.0</td>\n",
       "      <td>7.0</td>\n",
       "    </tr>\n",
       "    <tr>\n",
       "      <th>b</th>\n",
       "      <td>NaN</td>\n",
       "      <td>NaN</td>\n",
       "      <td>NaN</td>\n",
       "    </tr>\n",
       "    <tr>\n",
       "      <th>c</th>\n",
       "      <td>5.0</td>\n",
       "      <td>8.0</td>\n",
       "      <td>4.0</td>\n",
       "    </tr>\n",
       "    <tr>\n",
       "      <th>d</th>\n",
       "      <td>NaN</td>\n",
       "      <td>NaN</td>\n",
       "      <td>NaN</td>\n",
       "    </tr>\n",
       "    <tr>\n",
       "      <th>e</th>\n",
       "      <td>5.0</td>\n",
       "      <td>8.0</td>\n",
       "      <td>5.0</td>\n",
       "    </tr>\n",
       "    <tr>\n",
       "      <th>f</th>\n",
       "      <td>NaN</td>\n",
       "      <td>NaN</td>\n",
       "      <td>NaN</td>\n",
       "    </tr>\n",
       "  </tbody>\n",
       "</table>\n",
       "</div>"
      ],
      "text/plain": [
       "     A    B    C\n",
       "a  5.0  6.0  7.0\n",
       "b  NaN  NaN  NaN\n",
       "c  5.0  8.0  4.0\n",
       "d  NaN  NaN  NaN\n",
       "e  5.0  8.0  5.0\n",
       "f  NaN  NaN  NaN"
      ]
     },
     "execution_count": 106,
     "metadata": {},
     "output_type": "execute_result"
    }
   ],
   "source": [
    "df2 = df.reindex(['a', 'b', 'c', 'd', 'e', 'f'])\n",
    "df2"
   ]
  },
  {
   "cell_type": "code",
   "execution_count": 111,
   "metadata": {},
   "outputs": [
    {
     "data": {
      "text/html": [
       "<div>\n",
       "<style>\n",
       "    .dataframe thead tr:only-child th {\n",
       "        text-align: right;\n",
       "    }\n",
       "\n",
       "    .dataframe thead th {\n",
       "        text-align: left;\n",
       "    }\n",
       "\n",
       "    .dataframe tbody tr th {\n",
       "        vertical-align: top;\n",
       "    }\n",
       "</style>\n",
       "<table border=\"1\" class=\"dataframe\">\n",
       "  <thead>\n",
       "    <tr style=\"text-align: right;\">\n",
       "      <th></th>\n",
       "      <th>A</th>\n",
       "      <th>B</th>\n",
       "      <th>C</th>\n",
       "    </tr>\n",
       "  </thead>\n",
       "  <tbody>\n",
       "    <tr>\n",
       "      <th>a</th>\n",
       "      <td>False</td>\n",
       "      <td>False</td>\n",
       "      <td>False</td>\n",
       "    </tr>\n",
       "    <tr>\n",
       "      <th>b</th>\n",
       "      <td>True</td>\n",
       "      <td>True</td>\n",
       "      <td>True</td>\n",
       "    </tr>\n",
       "    <tr>\n",
       "      <th>c</th>\n",
       "      <td>False</td>\n",
       "      <td>False</td>\n",
       "      <td>False</td>\n",
       "    </tr>\n",
       "    <tr>\n",
       "      <th>d</th>\n",
       "      <td>True</td>\n",
       "      <td>True</td>\n",
       "      <td>True</td>\n",
       "    </tr>\n",
       "    <tr>\n",
       "      <th>e</th>\n",
       "      <td>False</td>\n",
       "      <td>False</td>\n",
       "      <td>False</td>\n",
       "    </tr>\n",
       "    <tr>\n",
       "      <th>f</th>\n",
       "      <td>True</td>\n",
       "      <td>True</td>\n",
       "      <td>True</td>\n",
       "    </tr>\n",
       "  </tbody>\n",
       "</table>\n",
       "</div>"
      ],
      "text/plain": [
       "       A      B      C\n",
       "a  False  False  False\n",
       "b   True   True   True\n",
       "c  False  False  False\n",
       "d   True   True   True\n",
       "e  False  False  False\n",
       "f   True   True   True"
      ]
     },
     "execution_count": 111,
     "metadata": {},
     "output_type": "execute_result"
    }
   ],
   "source": [
    "df2.isnull()"
   ]
  },
  {
   "cell_type": "code",
   "execution_count": 113,
   "metadata": {},
   "outputs": [
    {
     "data": {
      "text/html": [
       "<div>\n",
       "<style>\n",
       "    .dataframe thead tr:only-child th {\n",
       "        text-align: right;\n",
       "    }\n",
       "\n",
       "    .dataframe thead th {\n",
       "        text-align: left;\n",
       "    }\n",
       "\n",
       "    .dataframe tbody tr th {\n",
       "        vertical-align: top;\n",
       "    }\n",
       "</style>\n",
       "<table border=\"1\" class=\"dataframe\">\n",
       "  <thead>\n",
       "    <tr style=\"text-align: right;\">\n",
       "      <th></th>\n",
       "      <th>A</th>\n",
       "      <th>B</th>\n",
       "      <th>C</th>\n",
       "    </tr>\n",
       "  </thead>\n",
       "  <tbody>\n",
       "    <tr>\n",
       "      <th>a</th>\n",
       "      <td>5.0</td>\n",
       "      <td>6.0</td>\n",
       "      <td>7.0</td>\n",
       "    </tr>\n",
       "    <tr>\n",
       "      <th>c</th>\n",
       "      <td>5.0</td>\n",
       "      <td>8.0</td>\n",
       "      <td>4.0</td>\n",
       "    </tr>\n",
       "    <tr>\n",
       "      <th>e</th>\n",
       "      <td>5.0</td>\n",
       "      <td>8.0</td>\n",
       "      <td>5.0</td>\n",
       "    </tr>\n",
       "  </tbody>\n",
       "</table>\n",
       "</div>"
      ],
      "text/plain": [
       "     A    B    C\n",
       "a  5.0  6.0  7.0\n",
       "c  5.0  8.0  4.0\n",
       "e  5.0  8.0  5.0"
      ]
     },
     "execution_count": 113,
     "metadata": {},
     "output_type": "execute_result"
    }
   ],
   "source": [
    "df2.dropna()"
   ]
  },
  {
   "cell_type": "code",
   "execution_count": 114,
   "metadata": {},
   "outputs": [
    {
     "data": {
      "text/html": [
       "<div>\n",
       "<style>\n",
       "    .dataframe thead tr:only-child th {\n",
       "        text-align: right;\n",
       "    }\n",
       "\n",
       "    .dataframe thead th {\n",
       "        text-align: left;\n",
       "    }\n",
       "\n",
       "    .dataframe tbody tr th {\n",
       "        vertical-align: top;\n",
       "    }\n",
       "</style>\n",
       "<table border=\"1\" class=\"dataframe\">\n",
       "  <thead>\n",
       "    <tr style=\"text-align: right;\">\n",
       "      <th></th>\n",
       "      <th>A</th>\n",
       "      <th>B</th>\n",
       "      <th>C</th>\n",
       "    </tr>\n",
       "  </thead>\n",
       "  <tbody>\n",
       "    <tr>\n",
       "      <th>a</th>\n",
       "      <td>5.0</td>\n",
       "      <td>6.0</td>\n",
       "      <td>7.0</td>\n",
       "    </tr>\n",
       "    <tr>\n",
       "      <th>b</th>\n",
       "      <td>0.0</td>\n",
       "      <td>0.0</td>\n",
       "      <td>0.0</td>\n",
       "    </tr>\n",
       "    <tr>\n",
       "      <th>c</th>\n",
       "      <td>5.0</td>\n",
       "      <td>8.0</td>\n",
       "      <td>4.0</td>\n",
       "    </tr>\n",
       "    <tr>\n",
       "      <th>d</th>\n",
       "      <td>0.0</td>\n",
       "      <td>0.0</td>\n",
       "      <td>0.0</td>\n",
       "    </tr>\n",
       "    <tr>\n",
       "      <th>e</th>\n",
       "      <td>5.0</td>\n",
       "      <td>8.0</td>\n",
       "      <td>5.0</td>\n",
       "    </tr>\n",
       "    <tr>\n",
       "      <th>f</th>\n",
       "      <td>0.0</td>\n",
       "      <td>0.0</td>\n",
       "      <td>0.0</td>\n",
       "    </tr>\n",
       "  </tbody>\n",
       "</table>\n",
       "</div>"
      ],
      "text/plain": [
       "     A    B    C\n",
       "a  5.0  6.0  7.0\n",
       "b  0.0  0.0  0.0\n",
       "c  5.0  8.0  4.0\n",
       "d  0.0  0.0  0.0\n",
       "e  5.0  8.0  5.0\n",
       "f  0.0  0.0  0.0"
      ]
     },
     "execution_count": 114,
     "metadata": {},
     "output_type": "execute_result"
    }
   ],
   "source": [
    "df2.fillna(value=0)"
   ]
  }
 ],
 "metadata": {
  "kernelspec": {
   "display_name": "Python 3",
   "language": "python",
   "name": "python3"
  },
  "language_info": {
   "codemirror_mode": {
    "name": "ipython",
    "version": 3
   },
   "file_extension": ".py",
   "mimetype": "text/x-python",
   "name": "python",
   "nbconvert_exporter": "python",
   "pygments_lexer": "ipython3",
   "version": "3.6.2"
  }
 },
 "nbformat": 4,
 "nbformat_minor": 2
}
