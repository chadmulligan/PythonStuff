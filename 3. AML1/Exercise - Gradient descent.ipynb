{
 "cells": [
  {
   "cell_type": "markdown",
   "metadata": {},
   "source": [
    "# Exercise - Gradient descent"
   ]
  },
  {
   "cell_type": "markdown",
   "metadata": {},
   "source": [
    "## Exercise - Fit a linear regression with OLS\n",
    "\n",
    "> **Exercise**: Load the train and test sets. Fit a linear regression using OLS with the `LinearRegression` object from Scikit-learn. Compute the train and test RMSE scores."
   ]
  },
  {
   "cell_type": "code",
   "execution_count": null,
   "metadata": {},
   "outputs": [],
   "source": [
    "# Load train/test data\n",
    "???"
   ]
  },
  {
   "cell_type": "code",
   "execution_count": null,
   "metadata": {
    "collapsed": true
   },
   "outputs": [],
   "source": [
    "# Implement RMSE\n",
    "def rmse(y, y_pred):\n",
    "    return ???"
   ]
  },
  {
   "cell_type": "code",
   "execution_count": null,
   "metadata": {},
   "outputs": [],
   "source": [
    "from sklearn.linear_model import LinearRegression\n",
    "\n",
    "# Fit a linear regression using OLS\n",
    "???\n",
    "\n",
    "# Evaluate model\n",
    "lr_rmse_tr = ??? # RMSE on train set\n",
    "lr_rmse_te = ??? # RMSE on test set\n",
    "\n",
    "print('Linear regression (OLS) - train RMSE: {:.2f}'.format(lr_rmse_tr))\n",
    "print('Linear regression (OLS) - test RMSE: {:.2f}'.format(lr_rmse_te))"
   ]
  },
  {
   "cell_type": "markdown",
   "metadata": {},
   "source": [
    "## Exercise - Fit a linear regression with gradient descent\n",
    "\n",
    "> **Exercise**: Standardize the features using the train data, i.e., train mean and standard deviation. Fit a linear regression to the train data with gradient descent and evaluate its performance on the test data.\n",
    "\n",
    "**Hint**: Test different different learning rates, e.g., 0.01, 0.1, 0.5"
   ]
  },
  {
   "cell_type": "code",
   "execution_count": null,
   "metadata": {
    "collapsed": true
   },
   "outputs": [],
   "source": [
    "# Standardize features using train mean and standard deviation\n",
    "???"
   ]
  },
  {
   "cell_type": "code",
   "execution_count": null,
   "metadata": {},
   "outputs": [],
   "source": [
    "# Implement gradient descent\n",
    "def gd(X, y, lr, n_steps):\n",
    "    # Initialize vector of parameters\n",
    "    w = ???\n",
    "    \n",
    "    # Log RMSE at each step\n",
    "    log_rmse = []\n",
    "    \n",
    "    # Perform n_steps iterations\n",
    "    for step in range(n_steps):\n",
    "        # Compute the predictions\n",
    "        y_pred = ???\n",
    "\n",
    "        # Update the vector of parameters\n",
    "        ???\n",
    "        \n",
    "        # Log RMSE value\n",
    "        log_rmse.append(rmse(y_tr, y_pred))\n",
    "        \n",
    "    # Return vector of parameters and last RMSE value\n",
    "    return w, log_rmse[-1]\n",
    "\n",
    "# Fit linear regression\n",
    "w, gd_rmse_tr = gd(???)\n",
    "\n",
    "# Evaluate model\n",
    "gd_rmse_te = ???\n",
    "\n",
    "print('Linear regression (GD) - train RMSE: {:.2f}'.format(gd_rmse_tr))\n",
    "print('Linear regression (GD) - test RMSE: {:.2f}'.format(gd_rmse_te))"
   ]
  }
 ],
 "metadata": {
  "kernelspec": {
   "display_name": "Python 3",
   "language": "python",
   "name": "python3"
  },
  "language_info": {
   "codemirror_mode": {
    "name": "ipython",
    "version": 3
   },
   "file_extension": ".py",
   "mimetype": "text/x-python",
   "name": "python",
   "nbconvert_exporter": "python",
   "pygments_lexer": "ipython3",
   "version": "3.6.2"
  }
 },
 "nbformat": 4,
 "nbformat_minor": 2
}
