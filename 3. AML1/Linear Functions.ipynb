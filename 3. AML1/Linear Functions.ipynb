{
 "cells": [
  {
   "cell_type": "code",
   "execution_count": 61,
   "metadata": {},
   "outputs": [],
   "source": [
    "import pandas as pd\n",
    "from scipy.linalg import lstsq\n",
    "import numpy as np\n",
    "from sklearn.linear_model import LinearRegression\n",
    "from sklearn.linear_model import SGDRegressor\n",
    "from sklearn.linear_model import HuberRegressor\n",
    "from sklearn.metrics import r2_score\n",
    "from sklearn.linear_model import Ridge"
   ]
  },
  {
   "cell_type": "code",
   "execution_count": 3,
   "metadata": {},
   "outputs": [
    {
     "name": "stdout",
     "output_type": "stream",
     "text": [
      "X: (50, 3)\n",
      "y: (50,)\n"
     ]
    }
   ],
   "source": [
    "data_df = pd.read_csv('marketing-campaign.csv')\n",
    "\n",
    "# Extract input matrix X\n",
    "X = data_df.drop('sales', axis=1).values\n",
    "print('X:', X.shape) # Prints: (50, 3)\n",
    "\n",
    "# Extract target vector y\n",
    "y = data_df.sales.values\n",
    "print('y:', y.shape) # Prints: (50,)\n"
   ]
  },
  {
   "cell_type": "code",
   "execution_count": 5,
   "metadata": {},
   "outputs": [
    {
     "name": "stdout",
     "output_type": "stream",
     "text": [
      "w: [0.3958359  0.47521518 0.31040001]\n",
      "RSS: 1.6884039033000033\n"
     ]
    }
   ],
   "source": [
    "# Fit a multiple linear regression\n",
    "w, rss, _, _ = lstsq(X, y)\n",
    "print('w:', w) # Prints: [ 0.3958359   0.47521518  0.31040001]\n",
    "print('RSS:', rss) # Prints: 1.6884039033"
   ]
  },
  {
   "cell_type": "code",
   "execution_count": 8,
   "metadata": {},
   "outputs": [
    {
     "data": {
      "text/plain": [
       "array([[ 1.   ,  0.916,  1.689,  0.208],\n",
       "       [ 1.   ,  9.359,  1.706,  1.071],\n",
       "       [ 1.   ,  5.261,  2.538,  2.438],\n",
       "       [ 1.   ,  8.682,  2.092,  1.283],\n",
       "       [ 1.   , 11.736,  1.66 ,  1.8  ]])"
      ]
     },
     "execution_count": 8,
     "metadata": {},
     "output_type": "execute_result"
    }
   ],
   "source": [
    "X1 = np.c_[\n",
    "    np.ones(X.shape[0]), # Vector of ones of shape (n,)\n",
    "    X # X matrix of shape (n,p)\n",
    "]\n",
    "\n",
    "X1[:5, :]"
   ]
  },
  {
   "cell_type": "code",
   "execution_count": 11,
   "metadata": {},
   "outputs": [
    {
     "name": "stdout",
     "output_type": "stream",
     "text": [
      "w: [0.02487092 0.39465146 0.47037002 0.30669954]\n",
      "RSS: 1.6854508680824727\n"
     ]
    }
   ],
   "source": [
    "w, rss, _, _ = lstsq(X1, y)\n",
    "\n",
    "print('w:', w) # Prints: [ 0.02487092  0.39465146  0.47037002  0.30669954]\n",
    "print('RSS:', rss) # 1.68545086808"
   ]
  },
  {
   "cell_type": "code",
   "execution_count": 14,
   "metadata": {},
   "outputs": [
    {
     "name": "stdout",
     "output_type": "stream",
     "text": [
      "y_pred: (50,)\n"
     ]
    }
   ],
   "source": [
    "# Compute predictions\n",
    "y_pred = np.dot(X1, w)\n",
    "print('y_pred:', y_pred.shape) # Prints: (50,)"
   ]
  },
  {
   "cell_type": "code",
   "execution_count": 15,
   "metadata": {},
   "outputs": [
    {
     "name": "stdout",
     "output_type": "stream",
     "text": [
      "RSS: 1.685450868082472\n"
     ]
    }
   ],
   "source": [
    "def RSS(y, y_pred):\n",
    "    return np.sum(np.square(np.subtract(y, y_pred)))\n",
    "\n",
    "rss = RSS(y, y_pred)\n",
    "print('RSS:', rss) # 1.68545086808"
   ]
  },
  {
   "cell_type": "markdown",
   "metadata": {},
   "source": [
    "### R^2 coefficient"
   ]
  },
  {
   "cell_type": "markdown",
   "metadata": {},
   "source": [
    "# Define RSS measure\n",
    "def RSS(y, y_pred):\n",
    "    return np.sum(np.square(np.subtract(y, y_pred)))\n",
    "\n",
    "# RSS of the baseline\n",
    "rss_baseline = RSS(y, y.mean())\n",
    "print('RSS baseline:', rss_baseline) # 100.86060792"
   ]
  },
  {
   "cell_type": "code",
   "execution_count": 17,
   "metadata": {},
   "outputs": [
    {
     "name": "stdout",
     "output_type": "stream",
     "text": [
      "RSS: 1.6854508680824727\n"
     ]
    }
   ],
   "source": [
    "# Fit a multiple linear regression\n",
    "X1 = np.c_[np.ones(X.shape[0]), X]\n",
    "w, model_rss, _, _ = lstsq(X1, y)\n",
    "print('RSS:', model_rss) # 1.68545086808"
   ]
  },
  {
   "cell_type": "code",
   "execution_count": 18,
   "metadata": {},
   "outputs": [
    {
     "name": "stdout",
     "output_type": "stream",
     "text": [
      "R^2 coefficient: 0.9832893048848236\n"
     ]
    }
   ],
   "source": [
    "# R^2 coefficient\n",
    "R2 = 1 - (model_rss / rss_baseline)\n",
    "print('R^2 coefficient:', R2) # Prints: 0.983289304885\n"
   ]
  },
  {
   "cell_type": "code",
   "execution_count": 19,
   "metadata": {},
   "outputs": [
    {
     "name": "stdout",
     "output_type": "stream",
     "text": [
      "R^2 coefficient: 0.8439430385697798\n"
     ]
    }
   ],
   "source": [
    "# R^2 of simple linear regression model\n",
    "R2 = 1 - (15.74 / rss_baseline)\n",
    "print('R^2 coefficient:', R2) # Prints: 0.84394303857\n"
   ]
  },
  {
   "cell_type": "markdown",
   "metadata": {},
   "source": [
    "#### Intuitively, R^2 measures how well a model performs compared to the constant mean baseline"
   ]
  },
  {
   "cell_type": "markdown",
   "metadata": {},
   "source": [
    "### OLS Solution"
   ]
  },
  {
   "cell_type": "code",
   "execution_count": 20,
   "metadata": {},
   "outputs": [
    {
     "name": "stdout",
     "output_type": "stream",
     "text": [
      "w: [0.02487092 0.39465146 0.47037002 0.30669954]\n"
     ]
    }
   ],
   "source": [
    "# Compute OLS solution\n",
    "XX = np.matmul(X1.T, X1)\n",
    "Xy = np.matmul(X1.T, y)\n",
    "w = np.matmul(np.linalg.inv(XX), Xy)\n",
    "\n",
    "print('w:', w)\n",
    "# Prints: [ 0.02487092  0.39465146  0.47037002  0.30669954]\n"
   ]
  },
  {
   "cell_type": "markdown",
   "metadata": {},
   "source": [
    "### From Sci-kit\n"
   ]
  },
  {
   "cell_type": "code",
   "execution_count": 22,
   "metadata": {},
   "outputs": [
    {
     "name": "stdout",
     "output_type": "stream",
     "text": [
      "Coefficients: [0.39465146 0.47037002 0.30669954]\n",
      "Intercept: 0.024870917888195176\n"
     ]
    }
   ],
   "source": [
    "# Create a linear regression object\n",
    "lr = LinearRegression()\n",
    "\n",
    "# Fit the model\n",
    "lr.fit(X, y)\n",
    "\n",
    "# Print coefficients\n",
    "print('Coefficients:', lr.coef_)\n",
    "# Prints: [ 0.39465146  0.47037002  0.30669954]\n",
    "\n",
    "print('Intercept:', lr.intercept_)\n",
    "# Prints: 0.0248709178882"
   ]
  },
  {
   "cell_type": "code",
   "execution_count": 23,
   "metadata": {},
   "outputs": [
    {
     "data": {
      "text/plain": [
       "array([1.24462012, 4.84934038, 4.04266482])"
      ]
     },
     "execution_count": 23,
     "metadata": {},
     "output_type": "execute_result"
    }
   ],
   "source": [
    "# Compute predictions\n",
    "y_pred = lr.predict(X)\n",
    "y_pred[:3]\n",
    "# Returns: array([ 1.24462012,  4.84934038,  4.04266482])\n"
   ]
  },
  {
   "cell_type": "code",
   "execution_count": 24,
   "metadata": {},
   "outputs": [
    {
     "data": {
      "text/plain": [
       "array([1.24462012, 4.84934038, 4.04266482])"
      ]
     },
     "execution_count": 24,
     "metadata": {},
     "output_type": "execute_result"
    }
   ],
   "source": [
    "### manual solution with NumPy\n",
    "y_pred = np.matmul(X, lr.coef_) + lr.intercept_\n",
    "y_pred[:3]\n",
    "# Returns: array([ 1.24462012,  4.84934038,  4.04266482])"
   ]
  },
  {
   "cell_type": "code",
   "execution_count": 25,
   "metadata": {},
   "outputs": [
    {
     "name": "stdout",
     "output_type": "stream",
     "text": [
      "R2: 0.9832893048848236\n"
     ]
    }
   ],
   "source": [
    "# Compute the R2 cofficient\n",
    "R2 = lr.score(X, y)\n",
    "print('R2:', R2) # Prints: 0.983289304885\n"
   ]
  },
  {
   "cell_type": "code",
   "execution_count": 29,
   "metadata": {},
   "outputs": [
    {
     "name": "stdout",
     "output_type": "stream",
     "text": [
      "Coefficients: [0.3938607  0.46968115 0.30563938]\n",
      "Intercept: [0.02885412]\n"
     ]
    }
   ],
   "source": [
    "#### with SGD\n",
    "\n",
    "# Create the SGDRegressor object\n",
    "lr_sgd = SGDRegressor(\n",
    "    loss='squared_loss', # Cost function\n",
    "    penalty='none', # Add a penalty term?\n",
    "    max_iter=1000, # Number of iterations\n",
    "    random_state=0 # The implementation shuffles the data\n",
    ")\n",
    "\n",
    "# Fit the linear regression model\n",
    "lr_sgd.fit(X, y)\n",
    "\n",
    "# Print coefficients\n",
    "print('Coefficients:', lr_sgd.coef_)\n",
    "# Prints: [ 0.3938607   0.46968115  0.30563938]\n",
    "\n",
    "print('Intercept:', lr_sgd.intercept_)\n",
    "# Prints: [ 0.02885412]\n"
   ]
  },
  {
   "cell_type": "code",
   "execution_count": 30,
   "metadata": {},
   "outputs": [
    {
     "name": "stdout",
     "output_type": "stream",
     "text": [
      "R2_sgd: 0.9832780659835285\n"
     ]
    }
   ],
   "source": [
    "# Compute R2 coefficient\n",
    "R2_sgd = lr_sgd.score(X, y)\n",
    "print('R2_sgd:', R2_sgd) # Prints: 0.983278065984\n"
   ]
  },
  {
   "cell_type": "code",
   "execution_count": 36,
   "metadata": {},
   "outputs": [
    {
     "name": "stdout",
     "output_type": "stream",
     "text": [
      "Coefficients: [0.39235509 0.4851516  0.28357258]\n",
      "Intercept: 0.036437871559502504\n",
      "R^2 coefficient: 0.9827930773138379\n"
     ]
    }
   ],
   "source": [
    "#### Huber loss \n",
    "\n",
    "# Create the estimator\n",
    "huber = HuberRegressor(epsilon=1.1)\n",
    "\n",
    "# Fit it to X,y\n",
    "huber.fit(X, y)\n",
    "\n",
    "print('Coefficients:', huber.coef_)\n",
    "# Prints: [ 0.39172544  0.4788203   0.29315421]\n",
    "\n",
    "print('Intercept:', huber.intercept_)\n",
    "# Prints: 0.0458629881919\n",
    "\n",
    "print('R^2 coefficient:', huber.score(X, y))\n",
    "# Prints: 0.983070157114"
   ]
  },
  {
   "cell_type": "code",
   "execution_count": 35,
   "metadata": {},
   "outputs": [
    {
     "data": {
      "text/plain": [
       "True"
      ]
     },
     "execution_count": 35,
     "metadata": {},
     "output_type": "execute_result"
    }
   ],
   "source": [
    "huber.score(X, y) < R2b\n"
   ]
  },
  {
   "cell_type": "code",
   "execution_count": 38,
   "metadata": {},
   "outputs": [
    {
     "data": {
      "text/html": [
       "<div>\n",
       "<style scoped>\n",
       "    .dataframe tbody tr th:only-of-type {\n",
       "        vertical-align: middle;\n",
       "    }\n",
       "\n",
       "    .dataframe tbody tr th {\n",
       "        vertical-align: top;\n",
       "    }\n",
       "\n",
       "    .dataframe thead th {\n",
       "        text-align: right;\n",
       "    }\n",
       "</style>\n",
       "<table border=\"1\" class=\"dataframe\">\n",
       "  <thead>\n",
       "    <tr style=\"text-align: right;\">\n",
       "      <th></th>\n",
       "      <th>temp</th>\n",
       "      <th>users</th>\n",
       "    </tr>\n",
       "  </thead>\n",
       "  <tbody>\n",
       "    <tr>\n",
       "      <th>0</th>\n",
       "      <td>0.1964</td>\n",
       "      <td>120</td>\n",
       "    </tr>\n",
       "    <tr>\n",
       "      <th>1</th>\n",
       "      <td>0.2000</td>\n",
       "      <td>108</td>\n",
       "    </tr>\n",
       "    <tr>\n",
       "      <th>2</th>\n",
       "      <td>0.2270</td>\n",
       "      <td>82</td>\n",
       "    </tr>\n",
       "    <tr>\n",
       "      <th>3</th>\n",
       "      <td>0.2043</td>\n",
       "      <td>88</td>\n",
       "    </tr>\n",
       "    <tr>\n",
       "      <th>4</th>\n",
       "      <td>0.1508</td>\n",
       "      <td>41</td>\n",
       "    </tr>\n",
       "  </tbody>\n",
       "</table>\n",
       "</div>"
      ],
      "text/plain": [
       "     temp  users\n",
       "0  0.1964    120\n",
       "1  0.2000    108\n",
       "2  0.2270     82\n",
       "3  0.2043     88\n",
       "4  0.1508     41"
      ]
     },
     "execution_count": 38,
     "metadata": {},
     "output_type": "execute_result"
    }
   ],
   "source": [
    "data_df = pd.read_csv('data/bike-sharing-simple.csv')\n",
    "\n",
    "# Create Numpy arrays\n",
    "temp = data_df.temp.values\n",
    "users = data_df.users.values\n",
    "\n",
    "# First five rows\n",
    "data_df.head()"
   ]
  },
  {
   "cell_type": "code",
   "execution_count": 39,
   "metadata": {},
   "outputs": [],
   "source": [
    "temp_C = 47*temp - 8"
   ]
  },
  {
   "cell_type": "code",
   "execution_count": 40,
   "metadata": {},
   "outputs": [
    {
     "name": "stdout",
     "output_type": "stream",
     "text": [
      "Rank 2\n"
     ]
    }
   ],
   "source": [
    "X = np.c_[temp, temp_C]\n",
    "\n",
    "# Add a column of ones\n",
    "X1 = np.c_[np.ones(X.shape[0]), X]\n",
    "\n",
    "# Compute rank\n",
    "rank = np.linalg.matrix_rank(X1)\n",
    "print('Rank', rank) # 2"
   ]
  },
  {
   "cell_type": "code",
   "execution_count": 41,
   "metadata": {},
   "outputs": [
    {
     "name": "stdout",
     "output_type": "stream",
     "text": [
      "w: [155.34445517  27.10638524  31.24446504]\n",
      "RSS: []\n",
      "rank: 2\n"
     ]
    }
   ],
   "source": [
    "# Compute OLS using lstsq\n",
    "w, rss, rank, _ = lstsq(X1, users)\n",
    "\n",
    "print('w:', w)\n",
    "# Prints: [ 155.34445517   27.10638524   31.24446504]\n",
    "\n",
    "print('RSS:', rss)\n",
    "# Prints: []\n",
    "\n",
    "print('rank:', rank)\n",
    "# Prints: 2"
   ]
  },
  {
   "cell_type": "code",
   "execution_count": 43,
   "metadata": {},
   "outputs": [
    {
     "name": "stdout",
     "output_type": "stream",
     "text": [
      "R^2 normal: 0.5954233080185318\n",
      "R^2 collinear: 0.5954233080185317\n"
     ]
    }
   ],
   "source": [
    "# R^2 coefficient of simple linear regression\n",
    "coefs = np.polyfit(temp, users, deg=1)\n",
    "y_pred_normal = np.polyval(coefs, temp)\n",
    "r2_normal = r2_score(users, y_pred_normal)\n",
    "print('R^2 normal:', r2_normal)\n",
    "# Prints: 0.595423308019\n",
    "\n",
    "# R^2 coefficient with collinear features\n",
    "y_pred_collinear = np.matmul(X1, w)\n",
    "r2_collinear = r2_score(users, y_pred_collinear)\n",
    "print('R^2 collinear:', r2_collinear)\n",
    "# Prints: 0.595423308019"
   ]
  },
  {
   "cell_type": "code",
   "execution_count": 44,
   "metadata": {},
   "outputs": [
    {
     "name": "stdout",
     "output_type": "stream",
     "text": [
      "rank: 3\n",
      "RMSE: 233.36689985825623\n",
      "w: [181.23214318  33.01793662  -0.66482611]\n"
     ]
    }
   ],
   "source": [
    "# Convert to degrees Fahrenheit\n",
    "temp_F = 1.8*temp_C + 32\n",
    "\n",
    "# Add small variations\n",
    "noise = np.random.normal(loc=0, scale=0.01, size=temp_F.shape)\n",
    "temp_F += noise\n",
    "\n",
    "# Create input matrix X\n",
    "X = np.c_[temp_C, temp_F]\n",
    "\n",
    "# Compute OLS using lstsq\n",
    "X1 = np.c_[np.ones(X.shape[0]), X] # Create X1 matrix\n",
    "w, rss, rank, _ = lstsq(X1, users) # OLS\n",
    "\n",
    "print('rank:', rank) # Prints: 3\n",
    "print('RMSE:', np.sqrt(rss/len(users))) # Depends on the noise value\n",
    "print('w:', w) # Depends on the noise value\n"
   ]
  },
  {
   "cell_type": "code",
   "execution_count": 59,
   "metadata": {},
   "outputs": [
    {
     "name": "stdout",
     "output_type": "stream",
     "text": [
      "rank: 3\n",
      "RMSE: 233.32668579659287\n",
      "w: [13432.4366093    778.38173858  -414.76056986]\n"
     ]
    }
   ],
   "source": [
    "# Convert to degrees Fahrenheit\n",
    "temp_F = 1.8*temp_C + 32\n",
    "\n",
    "# Add small variations\n",
    "noise = np.random.normal(loc=0, scale=0.01, size=temp_F.shape)\n",
    "temp_F += noise\n",
    "\n",
    "# Create input matrix X\n",
    "X = np.c_[temp_C, temp_F]\n",
    "\n",
    "# Compute OLS using lstsq\n",
    "X1 = np.c_[np.ones(X.shape[0]), X] # Create X1 matrix\n",
    "w, rss, rank, _ = lstsq(X1, users) # OLS\n",
    "\n",
    "print('rank:', rank) # Prints: 3\n",
    "print('RMSE:', np.sqrt(rss/len(users))) # Depends on the noise value\n",
    "print('w:', w) # Depends on the noise value\n"
   ]
  },
  {
   "cell_type": "markdown",
   "metadata": {},
   "source": [
    "#### Ill-conditioning"
   ]
  },
  {
   "cell_type": "code",
   "execution_count": 60,
   "metadata": {},
   "outputs": [
    {
     "name": "stdout",
     "output_type": "stream",
     "text": [
      "Condition number: 203576.03679785316\n"
     ]
    }
   ],
   "source": [
    "# Condition number\n",
    "cn = np.linalg.cond(X1)\n",
    "print('Condition number:', cn) # Depends on the noise value\n"
   ]
  },
  {
   "cell_type": "markdown",
   "metadata": {},
   "source": [
    "#### Ridge"
   ]
  },
  {
   "cell_type": "code",
   "execution_count": 62,
   "metadata": {},
   "outputs": [
    {
     "name": "stdout",
     "output_type": "stream",
     "text": [
      "Coefficients: [ 7.50138617 13.49260126]\n",
      "Intercept: -271.2561937131562\n",
      "R^2: 0.5954221377838045\n"
     ]
    }
   ],
   "source": [
    "# Add small variations\n",
    "noise = np.random.normal(loc=0, scale=0.01, size=temp_F.shape)\n",
    "temp_F = (1.8*temp_C + 32) + noise\n",
    "\n",
    "# Create input matrix X\n",
    "X = np.c_[temp_C, temp_F]\n",
    "\n",
    "# Fit a Ridge regression\n",
    "ridge = Ridge(alpha=100)\n",
    "ridge.fit(X, users)\n",
    "\n",
    "print('Coefficients:', ridge.coef_)\n",
    "print('Intercept:', ridge.intercept_)\n",
    "print('R^2:', ridge.score(X, users))"
   ]
  }
 ],
 "metadata": {
  "kernelspec": {
   "display_name": "Python 3",
   "language": "python",
   "name": "python3"
  },
  "language_info": {
   "codemirror_mode": {
    "name": "ipython",
    "version": 3
   },
   "file_extension": ".py",
   "mimetype": "text/x-python",
   "name": "python",
   "nbconvert_exporter": "python",
   "pygments_lexer": "ipython3",
   "version": "3.6.4"
  }
 },
 "nbformat": 4,
 "nbformat_minor": 2
}
