{
 "cells": [
  {
   "cell_type": "markdown",
   "metadata": {},
   "source": [
    "# Bike sharing linear regression"
   ]
  },
  {
   "cell_type": "markdown",
   "metadata": {},
   "source": [
    "## Exercise - Load train/test sets & remove collinear features\n",
    "\n",
    "> **Exercise**: Load the train/test sets into the `X_tr`, `y_tr`, `X_te` and `y_te` variables. Remove features that make the `X_tr` matrix, with the additional column of ones, rank deficient. Also, you might want to remove nearly collinear features if they hurt performance.\n",
    "\n",
    "**Self-assessment**: Verify that the `X_tr` matrix with the additional column of ones has full rank. Compute its condition number."
   ]
  },
  {
   "cell_type": "code",
   "execution_count": 89,
   "metadata": {},
   "outputs": [],
   "source": [
    "import pandas as pd\n",
    "from scipy.linalg import lstsq\n",
    "import numpy as np\n",
    "import seaborn as sns\n",
    "%matplotlib inline\n",
    "import matplotlib.pyplot as plt\n",
    "from sklearn.linear_model import LinearRegression\n",
    "from sklearn.linear_model import SGDRegressor\n",
    "from sklearn.linear_model import HuberRegressor\n",
    "from sklearn.metrics import r2_score\n",
    "from sklearn.linear_model import Ridge\n",
    "from sklearn.dummy import DummyRegressor"
   ]
  },
  {
   "cell_type": "code",
   "execution_count": 20,
   "metadata": {},
   "outputs": [
    {
     "data": {
      "text/html": [
       "<div>\n",
       "<style scoped>\n",
       "    .dataframe tbody tr th:only-of-type {\n",
       "        vertical-align: middle;\n",
       "    }\n",
       "\n",
       "    .dataframe tbody tr th {\n",
       "        vertical-align: top;\n",
       "    }\n",
       "\n",
       "    .dataframe thead th {\n",
       "        text-align: right;\n",
       "    }\n",
       "</style>\n",
       "<table border=\"1\" class=\"dataframe\">\n",
       "  <thead>\n",
       "    <tr style=\"text-align: right;\">\n",
       "      <th></th>\n",
       "      <th>temp</th>\n",
       "      <th>temp_C</th>\n",
       "      <th>hum</th>\n",
       "      <th>windspeed</th>\n",
       "      <th>atemp</th>\n",
       "      <th>atemp_C</th>\n",
       "      <th>yr</th>\n",
       "      <th>workingday</th>\n",
       "      <th>holiday</th>\n",
       "      <th>casual</th>\n",
       "    </tr>\n",
       "  </thead>\n",
       "  <tbody>\n",
       "    <tr>\n",
       "      <th>0</th>\n",
       "      <td>0.368</td>\n",
       "      <td>9.296</td>\n",
       "      <td>0.569</td>\n",
       "      <td>0.148</td>\n",
       "      <td>0.379</td>\n",
       "      <td>9.014</td>\n",
       "      <td>1</td>\n",
       "      <td>1</td>\n",
       "      <td>0</td>\n",
       "      <td>1603</td>\n",
       "    </tr>\n",
       "    <tr>\n",
       "      <th>1</th>\n",
       "      <td>0.700</td>\n",
       "      <td>24.900</td>\n",
       "      <td>0.761</td>\n",
       "      <td>0.084</td>\n",
       "      <td>0.660</td>\n",
       "      <td>27.560</td>\n",
       "      <td>0</td>\n",
       "      <td>1</td>\n",
       "      <td>0</td>\n",
       "      <td>768</td>\n",
       "    </tr>\n",
       "    <tr>\n",
       "      <th>2</th>\n",
       "      <td>0.282</td>\n",
       "      <td>5.254</td>\n",
       "      <td>0.538</td>\n",
       "      <td>0.187</td>\n",
       "      <td>0.282</td>\n",
       "      <td>2.612</td>\n",
       "      <td>0</td>\n",
       "      <td>0</td>\n",
       "      <td>0</td>\n",
       "      <td>424</td>\n",
       "    </tr>\n",
       "    <tr>\n",
       "      <th>3</th>\n",
       "      <td>0.335</td>\n",
       "      <td>7.745</td>\n",
       "      <td>0.450</td>\n",
       "      <td>0.308</td>\n",
       "      <td>0.320</td>\n",
       "      <td>5.120</td>\n",
       "      <td>0</td>\n",
       "      <td>1</td>\n",
       "      <td>0</td>\n",
       "      <td>231</td>\n",
       "    </tr>\n",
       "    <tr>\n",
       "      <th>4</th>\n",
       "      <td>0.398</td>\n",
       "      <td>10.706</td>\n",
       "      <td>0.466</td>\n",
       "      <td>0.290</td>\n",
       "      <td>0.388</td>\n",
       "      <td>9.608</td>\n",
       "      <td>1</td>\n",
       "      <td>1</td>\n",
       "      <td>0</td>\n",
       "      <td>663</td>\n",
       "    </tr>\n",
       "  </tbody>\n",
       "</table>\n",
       "</div>"
      ],
      "text/plain": [
       "    temp  temp_C    hum  windspeed  atemp  atemp_C  yr  workingday  holiday  \\\n",
       "0  0.368   9.296  0.569      0.148  0.379    9.014   1           1        0   \n",
       "1  0.700  24.900  0.761      0.084  0.660   27.560   0           1        0   \n",
       "2  0.282   5.254  0.538      0.187  0.282    2.612   0           0        0   \n",
       "3  0.335   7.745  0.450      0.308  0.320    5.120   0           1        0   \n",
       "4  0.398  10.706  0.466      0.290  0.388    9.608   1           1        0   \n",
       "\n",
       "   casual  \n",
       "0    1603  \n",
       "1     768  \n",
       "2     424  \n",
       "3     231  \n",
       "4     663  "
      ]
     },
     "execution_count": 20,
     "metadata": {},
     "output_type": "execute_result"
    }
   ],
   "source": [
    "# Extract X/y Numpy variables\n",
    "data_tr = pd.read_csv('data/bike-sharing-train.csv')\n",
    "data_te = pd.read_csv('data/bike-sharing-test.csv')\n",
    "\n",
    "X_tr = data_tr.drop('casual', axis=1).values\n",
    "y_tr = data_tr.casual.values\n",
    "\n",
    "X_te = data_te.drop('casual', axis=1).values\n",
    "y_te = data_te.casual.values\n",
    "\n",
    "data_tr.head()"
   ]
  },
  {
   "cell_type": "code",
   "execution_count": 64,
   "metadata": {},
   "outputs": [
    {
     "name": "stdout",
     "output_type": "stream",
     "text": [
      "Number of features of X1: 8\n",
      "Rank of X1: 8\n",
      "Ill-conditioning of X1: 84.96199383767939\n"
     ]
    }
   ],
   "source": [
    "# Verify that X_tr with the additional column of ones has full rank\n",
    "\n",
    "### we remove all collinear and nearly collinear features\n",
    "### namely temp_C, and atemp_C\n",
    "X1_tr = np.c_[np.ones(X_tr.shape[0]), X_tr]\n",
    "X1_tr = np.delete(X1_tr, [2, 6], axis=1)\n",
    "rk = np.linalg.matrix_rank(X1_tr)\n",
    "\n",
    "\n",
    "X1_te = np.c_[np.ones(X_te.shape[0]), X_te]\n",
    "X1_te = np.delete(X1_te, [2, 6], axis=1)\n",
    "\n",
    "# Compute its condition number\n",
    "cn=np.linalg.cond(X1_tr)\n",
    "\n",
    "print('Number of features of X1: {}'.format(X1_tr.shape[1]))\n",
    "print('Rank of X1: {}'.format(rk))\n",
    "print('Ill-conditioning of X1: {}'.format(cn))"
   ]
  },
  {
   "cell_type": "markdown",
   "metadata": {},
   "source": [
    "## Exercise - Fit a linear regression model\n",
    "\n",
    "> **Exercise**: (A) Fit a linear regression model to the `X_tr`, `y_tr` variables. Evaluate its performance on the test set using the mean absolute error (MAE). (B) Also, try fitting a linear regression with the Huber loss. (C) Pick one feature (e.g., temperatures) and plot the predictions from your best model (e.g., temperature vs. casual users plot).\n",
    "\n",
    "**Note**: Your models might predict a negative number of users. In this case, you might want to set a lower limit with the Numpy `maximum()` function to improve performance, e.g. `y_pred = np.maximum(y_pred, 50)`."
   ]
  },
  {
   "cell_type": "code",
   "execution_count": 56,
   "metadata": {},
   "outputs": [],
   "source": [
    "# Compare models with mean absolute error (MAE)\n",
    "def MAE(y, y_pred):\n",
    "    return np.mean(np.abs(y-y_pred))"
   ]
  },
  {
   "cell_type": "code",
   "execution_count": 65,
   "metadata": {},
   "outputs": [
    {
     "name": "stdout",
     "output_type": "stream",
     "text": [
      "MAE LR: 288.412131\n",
      "MAE Huber: 278.165083\n"
     ]
    }
   ],
   "source": [
    "# (A) Fit and evaluate a linear regression model\n",
    "lr = LinearRegression()\n",
    "lr.fit(X1_tr, y_tr)\n",
    "\n",
    "y_pred_lr = lr.predict(X1_te)\n",
    "mae_lr = MAE(y_te, y_pred_lr)\n",
    "\n",
    "# (B) Same with Huber loss\n",
    "huber = HuberRegressor(epsilon=1.35)\n",
    "huber.fit(X1_tr, y_tr)\n",
    "y_pred_hbr = huber.predict(X1_te)\n",
    "mae_hbr = MAE(y_te, y_pred_hbr)\n",
    "\n",
    "print('MAE LR: {:2F}'.format(mae_lr))\n",
    "print('MAE Huber: {:2F}'.format(mae_hbr))"
   ]
  },
  {
   "cell_type": "code",
   "execution_count": 74,
   "metadata": {},
   "outputs": [
    {
     "data": {
      "image/png": "[encoded data removed]",
      "text/plain": [
       "<matplotlib.figure.Figure at 0xea38a90>"
      ]
     },
     "metadata": {},
     "output_type": "display_data"
    }
   ],
   "source": [
    "# (C) Plot best model\n",
    "sns.set()\n",
    "plt.scatter(X1_te[:, 1], y_te, label='actual', s=15)\n",
    "plt.scatter(X1_te[:, 1], y_pred_hbr, label='predicted', s=15)\n",
    "plt.legend(loc='upper left')\n",
    "plt.show()"
   ]
  },
  {
   "cell_type": "markdown",
   "metadata": {},
   "source": [
    "## Exercise - Separate sources and fit two linear regressions\n",
    "\n",
    "We saw in the course that we can identify two sources in the data.\n",
    "\n",
    "1. Data points collected during working days\n",
    "1. Data points collected during non-working days\n",
    "\n",
    "The goal of this exercise is to create a model for each source and see whether this improves performance.\n",
    "\n",
    "> **Exercise**: Create a model for each source and evaluate the overall performance on the test set using MAE. Compare your models to a baseline using a bar chart."
   ]
  },
  {
   "cell_type": "code",
   "execution_count": 87,
   "metadata": {},
   "outputs": [
    {
     "name": "stdout",
     "output_type": "stream",
     "text": [
      "MAE WKDAY: 409.837720\n",
      "MAE NOT WKDAY: 162.491443\n"
     ]
    }
   ],
   "source": [
    "# Separate data points from the two sources\n",
    "mask_tr= data_tr.workingday == 0\n",
    "mask_te= data_te.workingday == 0\n",
    "\n",
    "X1_tr_wkday = X1_tr[mask_tr]\n",
    "y_tr_wkday = y_tr[mask_tr]\n",
    "\n",
    "X1_tr_notwkday = X1_tr[~mask_tr]\n",
    "y_tr_notwkday = y_tr[~mask_tr]\n",
    "\n",
    "\n",
    "X1_te_wkday = X1_te[mask_te]\n",
    "y_te_wkday = y_te[mask_te]\n",
    "\n",
    "X1_te_notwkday = X1_te[~mask_te]\n",
    "y_te_notwkday = y_te[~mask_te]\n",
    "\n",
    "# Create a model for each one\n",
    "lr_wkday = LinearRegression()\n",
    "lr_notwkday= LinearRegression()\n",
    "\n",
    "lr_wkday.fit(X1_tr_wkday, y_tr_wkday)\n",
    "lr_notwkday.fit(X1_tr_notwkday, y_tr_notwkday)\n",
    "\n",
    "# Evaluate the overall performance using MAE\n",
    "y_pred_notwkday = lr_notwkday.predict(X1_te_notwkday)\n",
    "y_pred_wkday = lr_wkday.predict(X1_te_wkday)\n",
    "\n",
    "mae_wkday = MAE(y_te_wkday, y_pred_wkday)\n",
    "mae_notwkday = MAE(y_te_notwkday, y_pred_notwkday)\n",
    "\n",
    "print('MAE WKDAY: {:2F}'.format(mae_wkday))\n",
    "print('MAE NOT WKDAY: {:2F}'.format(mae_notwkday))"
   ]
  },
  {
   "cell_type": "code",
   "execution_count": 109,
   "metadata": {},
   "outputs": [
    {
     "name": "stdout",
     "output_type": "stream",
     "text": [
      "MAE BASELINE: 503.573770\n"
     ]
    }
   ],
   "source": [
    "# Compare your models to a baseline using a bar chart\n",
    "dummy = DummyRegressor(strategy='median')\n",
    "dummy.fit(X1_tr, y_tr)\n",
    "pred_baseline = dummy.predict(X1_te)\n",
    "\n",
    "mae_baseline = MAE(y_te, pred_baseline)\n",
    "\n",
    "print('MAE BASELINE: {:2F}'.format(mae_baseline))"
   ]
  },
  {
   "cell_type": "code",
   "execution_count": 110,
   "metadata": {},
   "outputs": [
    {
     "data": {
      "image/png": "[encoded data removed]",
      "text/plain": [
       "<matplotlib.figure.Figure at 0xe81d3c8>"
      ]
     },
     "metadata": {},
     "output_type": "display_data"
    }
   ],
   "source": [
    "plt.bar([1, 2, 3, 4, 5], [mae_baseline, mae_lr, mae_hbr, mae_wkday, mae_notwkday])\n",
    "plt.xticks([1, 2, 3, 4, 5], ['baseline (median)', 'LR', 'Huber', 'LR - WDAY', 'LR- NOTWKDAY'])\n",
    "plt.show()"
   ]
  },
  {
   "cell_type": "markdown",
   "metadata": {},
   "source": [
    "## Exercise - R^2 coefficient\n",
    "\n",
    "> **Exercise**: Compute the $R^{2}$ coefficient of your different models on the test set."
   ]
  },
  {
   "cell_type": "code",
   "execution_count": 111,
   "metadata": {},
   "outputs": [
    {
     "name": "stdout",
     "output_type": "stream",
     "text": [
      "R2 Dummy : -0.052219\n",
      "R2 LR : 0.668095\n",
      "R2 Huber : 0.664928\n",
      "R2 LR - NOTWKDAY : 0.695213\n",
      "R2 LR - WKDAY : 0.627522\n"
     ]
    }
   ],
   "source": [
    "print('R2 Dummy : {:2F}'.format(dummy.score(X1_te, y_te)))\n",
    "print('R2 LR : {:2F}'.format(lr.score(X1_te, y_te)))\n",
    "print('R2 Huber : {:2F}'.format(huber.score(X1_te, y_te)))\n",
    "print('R2 LR - NOTWKDAY : {:2F}'.format(lr_notwkday.score(X1_te_notwkday, y_te_notwkday)))\n",
    "print('R2 LR - WKDAY : {:2F}'.format(lr_wkday.score(X1_te_wkday, y_te_wkday)))\n"
   ]
  }
 ],
 "metadata": {
  "kernelspec": {
   "display_name": "Python 3",
   "language": "python",
   "name": "python3"
  },
  "language_info": {
   "codemirror_mode": {
    "name": "ipython",
    "version": 3
   },
   "file_extension": ".py",
   "mimetype": "text/x-python",
   "name": "python",
   "nbconvert_exporter": "python",
   "pygments_lexer": "ipython3",
   "version": "3.6.4"
  }
 },
 "nbformat": 4,
 "nbformat_minor": 2
}
