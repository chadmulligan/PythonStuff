{
 "cells": [
  {
   "cell_type": "code",
   "execution_count": 1,
   "metadata": {},
   "outputs": [
    {
     "data": {
      "text/plain": [
       "(55, 4)"
      ]
     },
     "execution_count": 1,
     "metadata": {},
     "output_type": "execute_result"
    }
   ],
   "source": [
    "import pandas as pd\n",
    "\n",
    "# Load data set\n",
    "data_df = pd.read_csv('marketing-campaign-with-outliers.csv')\n",
    "data_df.shape # Returns: (55, 4)\n"
   ]
  },
  {
   "cell_type": "code",
   "execution_count": 2,
   "metadata": {},
   "outputs": [
    {
     "data": {
      "text/html": [
       "<div>\n",
       "<style scoped>\n",
       "    .dataframe tbody tr th:only-of-type {\n",
       "        vertical-align: middle;\n",
       "    }\n",
       "\n",
       "    .dataframe tbody tr th {\n",
       "        vertical-align: top;\n",
       "    }\n",
       "\n",
       "    .dataframe thead th {\n",
       "        text-align: right;\n",
       "    }\n",
       "</style>\n",
       "<table border=\"1\" class=\"dataframe\">\n",
       "  <thead>\n",
       "    <tr style=\"text-align: right;\">\n",
       "      <th></th>\n",
       "      <th>tv</th>\n",
       "      <th>web</th>\n",
       "      <th>radio</th>\n",
       "      <th>sales</th>\n",
       "    </tr>\n",
       "  </thead>\n",
       "  <tbody>\n",
       "    <tr>\n",
       "      <th>50</th>\n",
       "      <td>2.293</td>\n",
       "      <td>2.314</td>\n",
       "      <td>1.167</td>\n",
       "      <td>8.937</td>\n",
       "    </tr>\n",
       "    <tr>\n",
       "      <th>51</th>\n",
       "      <td>2.891</td>\n",
       "      <td>1.895</td>\n",
       "      <td>1.365</td>\n",
       "      <td>8.132</td>\n",
       "    </tr>\n",
       "    <tr>\n",
       "      <th>52</th>\n",
       "      <td>1.305</td>\n",
       "      <td>1.940</td>\n",
       "      <td>1.454</td>\n",
       "      <td>8.892</td>\n",
       "    </tr>\n",
       "    <tr>\n",
       "      <th>53</th>\n",
       "      <td>11.022</td>\n",
       "      <td>1.855</td>\n",
       "      <td>1.282</td>\n",
       "      <td>1.389</td>\n",
       "    </tr>\n",
       "    <tr>\n",
       "      <th>54</th>\n",
       "      <td>11.786</td>\n",
       "      <td>2.066</td>\n",
       "      <td>1.466</td>\n",
       "      <td>1.623</td>\n",
       "    </tr>\n",
       "  </tbody>\n",
       "</table>\n",
       "</div>"
      ],
      "text/plain": [
       "        tv    web  radio  sales\n",
       "50   2.293  2.314  1.167  8.937\n",
       "51   2.891  1.895  1.365  8.132\n",
       "52   1.305  1.940  1.454  8.892\n",
       "53  11.022  1.855  1.282  1.389\n",
       "54  11.786  2.066  1.466  1.623"
      ]
     },
     "execution_count": 2,
     "metadata": {},
     "output_type": "execute_result"
    }
   ],
   "source": [
    "data_df.tail()"
   ]
  },
  {
   "cell_type": "code",
   "execution_count": 3,
   "metadata": {},
   "outputs": [
    {
     "data": {
      "image/png": "[encoded data removed]",
      "text/plain": [
       "<matplotlib.figure.Figure at 0x83f1da0>"
      ]
     },
     "metadata": {},
     "output_type": "display_data"
    }
   ],
   "source": [
    "%matplotlib inline\n",
    "import matplotlib.pyplot as plt\n",
    "\n",
    "# Extract tv and sales\n",
    "x = data_df.tv.values\n",
    "y = data_df.sales.values\n",
    "\n",
    "# Plot the data points\n",
    "plt.scatter(x[-5:], y[-5:]) # outliers\n",
    "plt.scatter(x[:-5], y[:-5]) # other points\n",
    "plt.show()\n"
   ]
  },
  {
   "cell_type": "code",
   "execution_count": 4,
   "metadata": {},
   "outputs": [
    {
     "name": "stdout",
     "output_type": "stream",
     "text": [
      "coefs: [0.20613307 2.76540858]\n",
      "coefs2: [0.42063597 1.27867727]\n"
     ]
    }
   ],
   "source": [
    "import numpy as np\n",
    "\n",
    "# Fit a linear regression\n",
    "coefs = np.polyfit(x, y, deg=1)\n",
    "print('coefs:', coefs) # [ 0.20613307  2.76540858]\n",
    "\n",
    "# Fit a linear regression without the 5 outliers\n",
    "coefs2 = np.polyfit(x[:-5], y[:-5], deg=1)\n",
    "print('coefs2:', coefs2) # [ 0.42063597  1.27867727]\n"
   ]
  },
  {
   "cell_type": "code",
   "execution_count": 5,
   "metadata": {},
   "outputs": [],
   "source": [
    "x_values = np.linspace(min(x), max(x), num=100)\n",
    "y_values = np.polyval(coefs, x_values)\n",
    "y_values2 = np.polyval(coefs2, x_values)"
   ]
  },
  {
   "cell_type": "code",
   "execution_count": 9,
   "metadata": {},
   "outputs": [
    {
     "data": {
      "image/png": "[encoded data removed]",
      "text/plain": [
       "<matplotlib.figure.Figure at 0xb70e6d8>"
      ]
     },
     "metadata": {},
     "output_type": "display_data"
    }
   ],
   "source": [
    "import seaborn as sns\n",
    "sns.set()\n",
    "plt.scatter(x[-5:], y[-5:]) # outliers\n",
    "plt.scatter(x[:-5], y[:-5]) # other points\n",
    "plt.plot(x_values, y_values, color='red')\n",
    "plt.plot(x_values, y_values2, color='orange')\n",
    "plt.show()"
   ]
  },
  {
   "cell_type": "code",
   "execution_count": 10,
   "metadata": {},
   "outputs": [
    {
     "name": "stdout",
     "output_type": "stream",
     "text": [
      "RSS normal points: 39.53376462337348\n",
      "RSS outliers: 115.61761647921122\n"
     ]
    }
   ],
   "source": [
    "y_pred = np.polyval(coefs, x)\n",
    "\n",
    "# Compute the squares of residuals\n",
    "squares_residuals = np.square(y - y_pred)\n",
    "\n",
    "print('RSS normal points:', np.sum(squares_residuals[:-5])) # Prints: 39.5337646234\n",
    "print('RSS outliers:', np.sum(squares_residuals[-5:])) # Prints: 115.617616479"
   ]
  },
  {
   "cell_type": "code",
   "execution_count": 11,
   "metadata": {},
   "outputs": [],
   "source": [
    "idx = (((x < 4) & (y > 6)) | ((x > 10) & (y < 2)))"
   ]
  },
  {
   "cell_type": "code",
   "execution_count": 13,
   "metadata": {},
   "outputs": [
    {
     "data": {
      "text/html": [
       "<div>\n",
       "<style scoped>\n",
       "    .dataframe tbody tr th:only-of-type {\n",
       "        vertical-align: middle;\n",
       "    }\n",
       "\n",
       "    .dataframe tbody tr th {\n",
       "        vertical-align: top;\n",
       "    }\n",
       "\n",
       "    .dataframe thead th {\n",
       "        text-align: right;\n",
       "    }\n",
       "</style>\n",
       "<table border=\"1\" class=\"dataframe\">\n",
       "  <thead>\n",
       "    <tr style=\"text-align: right;\">\n",
       "      <th></th>\n",
       "      <th>tv</th>\n",
       "      <th>web</th>\n",
       "      <th>radio</th>\n",
       "      <th>sales</th>\n",
       "    </tr>\n",
       "  </thead>\n",
       "  <tbody>\n",
       "    <tr>\n",
       "      <th>50</th>\n",
       "      <td>2.293</td>\n",
       "      <td>2.314</td>\n",
       "      <td>1.167</td>\n",
       "      <td>8.937</td>\n",
       "    </tr>\n",
       "    <tr>\n",
       "      <th>51</th>\n",
       "      <td>2.891</td>\n",
       "      <td>1.895</td>\n",
       "      <td>1.365</td>\n",
       "      <td>8.132</td>\n",
       "    </tr>\n",
       "    <tr>\n",
       "      <th>52</th>\n",
       "      <td>1.305</td>\n",
       "      <td>1.940</td>\n",
       "      <td>1.454</td>\n",
       "      <td>8.892</td>\n",
       "    </tr>\n",
       "    <tr>\n",
       "      <th>53</th>\n",
       "      <td>11.022</td>\n",
       "      <td>1.855</td>\n",
       "      <td>1.282</td>\n",
       "      <td>1.389</td>\n",
       "    </tr>\n",
       "    <tr>\n",
       "      <th>54</th>\n",
       "      <td>11.786</td>\n",
       "      <td>2.066</td>\n",
       "      <td>1.466</td>\n",
       "      <td>1.623</td>\n",
       "    </tr>\n",
       "  </tbody>\n",
       "</table>\n",
       "</div>"
      ],
      "text/plain": [
       "        tv    web  radio  sales\n",
       "50   2.293  2.314  1.167  8.937\n",
       "51   2.891  1.895  1.365  8.132\n",
       "52   1.305  1.940  1.454  8.892\n",
       "53  11.022  1.855  1.282  1.389\n",
       "54  11.786  2.066  1.466  1.623"
      ]
     },
     "execution_count": 13,
     "metadata": {},
     "output_type": "execute_result"
    }
   ],
   "source": [
    "data_df[idx]"
   ]
  },
  {
   "cell_type": "code",
   "execution_count": 15,
   "metadata": {},
   "outputs": [
    {
     "name": "stdout",
     "output_type": "stream",
     "text": [
      "x1/y1: (50,) (50,)\n",
      "x2/y2: (5,) (5,)\n"
     ]
    }
   ],
   "source": [
    "x1, y1 = x[~idx], y[~idx]\n",
    "print('x1/y1:', x1.shape, y1.shape) # Prints: (50,) (50,)\n",
    "\n",
    "# Extract outliers\n",
    "x2, y2 = x[idx], y[idx]\n",
    "print('x2/y2:', x2.shape, y2.shape) # Prints: (5,) (5,)"
   ]
  },
  {
   "cell_type": "code",
   "execution_count": 17,
   "metadata": {},
   "outputs": [
    {
     "name": "stdout",
     "output_type": "stream",
     "text": [
      "z-scores: (55,)\n"
     ]
    }
   ],
   "source": [
    "z_scores = (y - y.mean()) / y.std()\n",
    "\n",
    "print('z-scores:', z_scores.shape)"
   ]
  },
  {
   "cell_type": "code",
   "execution_count": 18,
   "metadata": {},
   "outputs": [
    {
     "data": {
      "text/plain": [
       "array([-1.5536951 ,  0.4339364 , -0.02483283,  0.66166281,  1.09334807,\n",
       "       -0.4598345 , -0.25090104, -0.86664673, -0.98935368,  0.12993269,\n",
       "        0.85622518,  0.66497921, -0.7345433 , -1.35305266, -0.45264895,\n",
       "        0.93471341, -0.67595349,  0.07742296,  1.35866039, -1.80905821,\n",
       "        0.35102629,  0.61799682, -1.41827527,  0.1918389 ,  1.34981665,\n",
       "       -1.3082812 , -0.44380521,  0.45217662,  0.30680757, -0.57701411,\n",
       "       -1.4431483 , -0.08673904, -0.28903969, -0.23652996, -0.19839131,\n",
       "        0.74291471,  0.74733658, -0.4371724 ,  0.68929951, -0.15693626,\n",
       "       -0.07457889, -0.16909641, -0.28074868, -0.09337185, -0.35978964,\n",
       "        0.23384668, -0.12045582,  0.94355715, -1.50450177,  0.61246948,\n",
       "        2.72059699,  2.27564612,  2.69572396, -1.45143931, -1.32209955])"
      ]
     },
     "execution_count": 18,
     "metadata": {},
     "output_type": "execute_result"
    }
   ],
   "source": [
    "z_scores"
   ]
  },
  {
   "cell_type": "code",
   "execution_count": 23,
   "metadata": {},
   "outputs": [
    {
     "data": {
      "image/png": "[encoded data removed]",
      "text/plain": [
       "<matplotlib.figure.Figure at 0xb0b4a90>"
      ]
     },
     "metadata": {},
     "output_type": "display_data"
    }
   ],
   "source": [
    "plt.scatter(x, y, c=z_scores, cmap=plt.cm.coolwarm)\n",
    "plt.colorbar()\n",
    "plt.show()"
   ]
  },
  {
   "cell_type": "code",
   "execution_count": 24,
   "metadata": {},
   "outputs": [
    {
     "data": {
      "text/plain": [
       "array([False, False, False, False, False, False, False, False, False,\n",
       "       False, False, False, False, False, False, False, False, False,\n",
       "       False, False, False, False, False, False, False, False, False,\n",
       "       False, False, False, False, False, False, False, False, False,\n",
       "       False, False, False, False, False, False, False, False, False,\n",
       "       False, False, False, False, False,  True,  True,  True, False,\n",
       "       False])"
      ]
     },
     "execution_count": 24,
     "metadata": {},
     "output_type": "execute_result"
    }
   ],
   "source": [
    "idx = (np.abs(z_scores) > 2)\n",
    "idx"
   ]
  },
  {
   "cell_type": "code",
   "execution_count": 25,
   "metadata": {},
   "outputs": [],
   "source": [
    "from sklearn.linear_model import SGDRegressor"
   ]
  },
  {
   "cell_type": "code",
   "execution_count": 26,
   "metadata": {},
   "outputs": [],
   "source": [
    "# Create a linear regression with Huber loss\n",
    "lr_huber = SGDRegressor(loss='huber', penalty='none', epsilon=1, max_iter=10000)\n"
   ]
  },
  {
   "cell_type": "code",
   "execution_count": 28,
   "metadata": {},
   "outputs": [
    {
     "data": {
      "text/plain": [
       "SGDRegressor(alpha=0.0001, average=False, epsilon=1, eta0=0.01,\n",
       "       fit_intercept=True, l1_ratio=0.15, learning_rate='invscaling',\n",
       "       loss='huber', max_iter=10000, n_iter=None, penalty='none',\n",
       "       power_t=0.25, random_state=None, shuffle=True, tol=None, verbose=0,\n",
       "       warm_start=False)"
      ]
     },
     "execution_count": 28,
     "metadata": {},
     "output_type": "execute_result"
    }
   ],
   "source": [
    "lr_huber.fit(x[:, np.newaxis], y)"
   ]
  },
  {
   "cell_type": "code",
   "execution_count": 31,
   "metadata": {},
   "outputs": [
    {
     "name": "stdout",
     "output_type": "stream",
     "text": [
      "Slope: [0.37262211]\n",
      "Intercept term: [1.60637638]\n"
     ]
    }
   ],
   "source": [
    "print('Slope:', lr_huber.coef_)\n",
    "print('Intercept term:', lr_huber.intercept_)"
   ]
  },
  {
   "cell_type": "code",
   "execution_count": 32,
   "metadata": {},
   "outputs": [],
   "source": [
    "# Compute prediction line\n",
    "x_values = np.linspace(min(x), max(x), num=100) # Shape (100,)\n",
    "y_values_huber = lr_huber.predict(\n",
    "    x_values[:, np.newaxis] # Shape (100,1)\n",
    ")"
   ]
  },
  {
   "cell_type": "code",
   "execution_count": 33,
   "metadata": {},
   "outputs": [
    {
     "data": {
      "image/png": "[encoded data removed]",
      "text/plain": [
       "<matplotlib.figure.Figure at 0xb70e780>"
      ]
     },
     "metadata": {},
     "output_type": "display_data"
    }
   ],
   "source": [
    "sns.set()\n",
    "\n",
    "# Get a few colors from the default color palette\n",
    "blue, green, red = sns.color_palette()[:3]\n",
    "\n",
    "# Plot the model\n",
    "plt.scatter(x, y, color=blue)\n",
    "plt.plot(x_values, y_values_huber, color=red)\n",
    "plt.show()"
   ]
  },
  {
   "cell_type": "code",
   "execution_count": 34,
   "metadata": {},
   "outputs": [],
   "source": [
    "# Create a linear regression with RSS loss\n",
    "lr_squared = SGDRegressor(loss='squared_loss', penalty='none', max_iter=10000)\n",
    "\n",
    "# Fit the model\n",
    "lr_squared.fit(x[:, np.newaxis], y)\n",
    "\n",
    "# Compute prediction line\n",
    "y_values_squared = lr_squared.predict(x_values[:, np.newaxis])\n"
   ]
  },
  {
   "cell_type": "code",
   "execution_count": 35,
   "metadata": {},
   "outputs": [
    {
     "data": {
      "image/png": "[encoded data removed]",
      "text/plain": [
       "<matplotlib.figure.Figure at 0x54e6a90>"
      ]
     },
     "metadata": {},
     "output_type": "display_data"
    }
   ],
   "source": [
    "# Linear regression without outliers\n",
    "coefs = np.polyfit(\n",
    "    x[:-5], y[:-5], # Filter outliers (the last five values)\n",
    "    deg=1\n",
    ")\n",
    "y_values_optimal = np.polyval(coefs, x_values)\n",
    "\n",
    "# Plot a final comparison\n",
    "sns.set() # Activate Seaborn style\n",
    "plt.scatter(x, y, color=blue, label=None)\n",
    "plt.plot(x_values, y_values_huber, c=red, label='huber')\n",
    "plt.plot(x_values, y_values_squared, c=green, label='squared_loss')\n",
    "plt.plot(x_values, y_values_optimal, c=blue, label='without outliers')\n",
    "plt.legend()\n",
    "plt.show()"
   ]
  },
  {
   "cell_type": "code",
   "execution_count": 37,
   "metadata": {},
   "outputs": [
    {
     "data": {
      "image/png": "[encoded data removed]",
      "text/plain": [
       "<matplotlib.figure.Figure at 0x9191ba8>"
      ]
     },
     "metadata": {},
     "output_type": "display_data"
    }
   ],
   "source": [
    "from sklearn.linear_model import HuberRegressor\n",
    "lr_huber = HuberRegressor()\n",
    "\n",
    "# Fit a polynomial of degree 3\n",
    "X_poly = np.c_[x, x**2, x**3] # Feature engineering\n",
    "lr_huber.fit(X_poly, y)\n",
    "\n",
    "# Compute prediction line\n",
    "x_values = np.linspace(min(x), max(x), num=100)\n",
    "X_values_poly = np.c_[x_values, x_values**2, x_values**3]\n",
    "y_values = lr_huber.predict(X_values_poly)\n",
    "\n",
    "# Plot it\n",
    "import matplotlib.pyplot as plt\n",
    "%matplotlib inline\n",
    "\n",
    "plt.scatter(x, y)\n",
    "plt.plot(x_values, y_values)\n",
    "plt.show()"
   ]
  },
  {
   "cell_type": "code",
   "execution_count": 68,
   "metadata": {},
   "outputs": [
    {
     "data": {
      "text/plain": [
       "array([[ True],\n",
       "       [ True],\n",
       "       [ True],\n",
       "       [ True],\n",
       "       [ True],\n",
       "       [ True],\n",
       "       [ True],\n",
       "       [ True],\n",
       "       [ True],\n",
       "       [ True],\n",
       "       [ True],\n",
       "       [ True],\n",
       "       [ True],\n",
       "       [ True],\n",
       "       [ True],\n",
       "       [ True],\n",
       "       [ True],\n",
       "       [ True],\n",
       "       [ True],\n",
       "       [ True],\n",
       "       [ True],\n",
       "       [ True],\n",
       "       [ True],\n",
       "       [ True],\n",
       "       [ True],\n",
       "       [ True],\n",
       "       [ True],\n",
       "       [ True],\n",
       "       [ True],\n",
       "       [ True],\n",
       "       [ True],\n",
       "       [ True],\n",
       "       [ True],\n",
       "       [ True],\n",
       "       [ True],\n",
       "       [ True],\n",
       "       [ True],\n",
       "       [ True],\n",
       "       [ True],\n",
       "       [ True],\n",
       "       [ True],\n",
       "       [ True],\n",
       "       [ True],\n",
       "       [ True],\n",
       "       [ True],\n",
       "       [ True],\n",
       "       [ True],\n",
       "       [ True],\n",
       "       [ True],\n",
       "       [ True],\n",
       "       [ True],\n",
       "       [ True],\n",
       "       [ True],\n",
       "       [ True],\n",
       "       [ True],\n",
       "       [ True],\n",
       "       [ True],\n",
       "       [ True],\n",
       "       [ True],\n",
       "       [ True],\n",
       "       [ True],\n",
       "       [ True],\n",
       "       [ True],\n",
       "       [ True],\n",
       "       [ True],\n",
       "       [ True],\n",
       "       [ True],\n",
       "       [ True],\n",
       "       [ True],\n",
       "       [ True],\n",
       "       [ True],\n",
       "       [ True],\n",
       "       [ True],\n",
       "       [ True],\n",
       "       [ True],\n",
       "       [ True],\n",
       "       [ True],\n",
       "       [ True],\n",
       "       [ True],\n",
       "       [ True],\n",
       "       [ True],\n",
       "       [ True],\n",
       "       [ True],\n",
       "       [ True],\n",
       "       [ True],\n",
       "       [ True],\n",
       "       [ True],\n",
       "       [ True],\n",
       "       [ True],\n",
       "       [ True],\n",
       "       [ True],\n",
       "       [ True],\n",
       "       [ True],\n",
       "       [ True],\n",
       "       [ True],\n",
       "       [ True],\n",
       "       [ True],\n",
       "       [ True],\n",
       "       [ True],\n",
       "       [ True]])"
      ]
     },
     "execution_count": 68,
     "metadata": {},
     "output_type": "execute_result"
    }
   ],
   "source": [
    " np.c_[x_values, x_values**2, x_values**3][:, 1:2] == x_values[:, np.newaxis]**2"
   ]
  },
  {
   "cell_type": "code",
   "execution_count": 69,
   "metadata": {},
   "outputs": [
    {
     "data": {
      "text/html": [
       "<div>\n",
       "<style scoped>\n",
       "    .dataframe tbody tr th:only-of-type {\n",
       "        vertical-align: middle;\n",
       "    }\n",
       "\n",
       "    .dataframe tbody tr th {\n",
       "        vertical-align: top;\n",
       "    }\n",
       "\n",
       "    .dataframe thead th {\n",
       "        text-align: right;\n",
       "    }\n",
       "</style>\n",
       "<table border=\"1\" class=\"dataframe\">\n",
       "  <thead>\n",
       "    <tr style=\"text-align: right;\">\n",
       "      <th></th>\n",
       "      <th>temp</th>\n",
       "      <th>users</th>\n",
       "      <th>pred_lr</th>\n",
       "      <th>pred_poly3</th>\n",
       "      <th>pred_huber3</th>\n",
       "    </tr>\n",
       "  </thead>\n",
       "  <tbody>\n",
       "    <tr>\n",
       "      <th>0</th>\n",
       "      <td>0.1508</td>\n",
       "      <td>41</td>\n",
       "      <td>146</td>\n",
       "      <td>44</td>\n",
       "      <td>51</td>\n",
       "    </tr>\n",
       "    <tr>\n",
       "      <th>1</th>\n",
       "      <td>0.1609</td>\n",
       "      <td>54</td>\n",
       "      <td>161</td>\n",
       "      <td>53</td>\n",
       "      <td>52</td>\n",
       "    </tr>\n",
       "    <tr>\n",
       "      <th>2</th>\n",
       "      <td>0.1727</td>\n",
       "      <td>25</td>\n",
       "      <td>178</td>\n",
       "      <td>66</td>\n",
       "      <td>55</td>\n",
       "    </tr>\n",
       "    <tr>\n",
       "      <th>3</th>\n",
       "      <td>0.1775</td>\n",
       "      <td>75</td>\n",
       "      <td>185</td>\n",
       "      <td>72</td>\n",
       "      <td>57</td>\n",
       "    </tr>\n",
       "    <tr>\n",
       "      <th>4</th>\n",
       "      <td>0.1822</td>\n",
       "      <td>74</td>\n",
       "      <td>192</td>\n",
       "      <td>78</td>\n",
       "      <td>60</td>\n",
       "    </tr>\n",
       "  </tbody>\n",
       "</table>\n",
       "</div>"
      ],
      "text/plain": [
       "     temp  users  pred_lr  pred_poly3  pred_huber3\n",
       "0  0.1508     41      146          44           51\n",
       "1  0.1609     54      161          53           52\n",
       "2  0.1727     25      178          66           55\n",
       "3  0.1775     75      185          72           57\n",
       "4  0.1822     74      192          78           60"
      ]
     },
     "execution_count": 69,
     "metadata": {},
     "output_type": "execute_result"
    }
   ],
   "source": [
    "data_df = pd.read_csv('bike-sharing-three-models.csv')\n",
    "data_df.head()"
   ]
  },
  {
   "cell_type": "code",
   "execution_count": 70,
   "metadata": {},
   "outputs": [
    {
     "data": {
      "image/png": "[encoded data removed]",
      "text/plain": [
       "<matplotlib.figure.Figure at 0x54e6048>"
      ]
     },
     "metadata": {},
     "output_type": "display_data"
    }
   ],
   "source": [
    "x = data_df.temp.values\n",
    "y = data_df.users.values\n",
    "\n",
    "# Plot the models\n",
    "plt.scatter(x, y)\n",
    "plt.plot(x, data_df.pred_lr, label='linear regression')\n",
    "plt.plot(x, data_df.pred_poly3, label='polyfit(deg=3)')\n",
    "plt.plot(x, data_df.pred_huber3, label='with Huber loss')\n",
    "plt.legend()\n",
    "plt.show()"
   ]
  },
  {
   "cell_type": "code",
   "execution_count": 71,
   "metadata": {},
   "outputs": [
    {
     "name": "stdout",
     "output_type": "stream",
     "text": [
      "linear regression RMSE: 232.5\n",
      "polyfit(deg=3) RMSE: 210.6\n",
      "with huber loss RMSE: 215.7\n"
     ]
    }
   ],
   "source": [
    "def RMSE(y, y_pred):\n",
    "    mse = np.mean(np.square(y - y_pred)) # MSE\n",
    "    return np.sqrt(mse) # RMSE\n",
    "\n",
    "rmse_lr = RMSE(y, data_df.pred_lr)\n",
    "print('linear regression RMSE: {:.1f}'.format(rmse_lr))\n",
    "# Prints: 232.5\n",
    "\n",
    "rmse_poly3 = RMSE(y, data_df.pred_poly3)\n",
    "print('polyfit(deg=3) RMSE: {:.1f}'.format(rmse_poly3))\n",
    "# Prints: 210.6\n",
    "\n",
    "rmse_huber3 = RMSE(y, data_df.pred_huber3)\n",
    "print('with huber loss RMSE: {:.1f}'.format(rmse_huber3))\n",
    "# Prints: 215.7"
   ]
  },
  {
   "cell_type": "code",
   "execution_count": 74,
   "metadata": {},
   "outputs": [
    {
     "name": "stdout",
     "output_type": "stream",
     "text": [
      "linear regression MAE: 186.6\n",
      "polyfit(deg=3) MAE: 161.7\n",
      "with huber loss MAE: 164.8\n"
     ]
    }
   ],
   "source": [
    "def MAE(y, y_pred):\n",
    "    return np.mean(np.abs(y - y_pred))\n",
    "\n",
    "mae_lr = MAE(y, data_df.pred_lr)\n",
    "print('linear regression MAE: {:.1f}'.format(mae_lr)) # Prints: 186.6\n",
    "\n",
    "mae_poly3 = MAE(y, data_df.pred_poly3)\n",
    "print('polyfit(deg=3) MAE: {:.1f}'.format(mae_poly3)) # Prints: 161.7\n",
    "\n",
    "mae_huber3 = MAE(y, data_df.pred_huber3)\n",
    "print('with huber loss MAE: {:.1f}'.format(mae_huber3)) # Prints: 164.8\n"
   ]
  },
  {
   "cell_type": "code",
   "execution_count": 75,
   "metadata": {},
   "outputs": [
    {
     "data": {
      "text/plain": [
       "371.11459394676217"
      ]
     },
     "execution_count": 75,
     "metadata": {},
     "output_type": "execute_result"
    }
   ],
   "source": [
    "pred_baseline = np.mean(y) # equals to 674.7218543\n",
    "rmse_baseline = RMSE(y, pred_baseline)\n",
    "rmse_baseline # Returns: 371.11459394676217"
   ]
  },
  {
   "cell_type": "code",
   "execution_count": 76,
   "metadata": {},
   "outputs": [
    {
     "data": {
      "text/plain": [
       "array([674.7218543, 674.7218543, 674.7218543, 674.7218543, 674.7218543,\n",
       "       674.7218543, 674.7218543, 674.7218543, 674.7218543, 674.7218543,\n",
       "       674.7218543, 674.7218543, 674.7218543, 674.7218543, 674.7218543,\n",
       "       674.7218543, 674.7218543, 674.7218543, 674.7218543, 674.7218543,\n",
       "       674.7218543, 674.7218543, 674.7218543, 674.7218543, 674.7218543,\n",
       "       674.7218543, 674.7218543, 674.7218543, 674.7218543, 674.7218543,\n",
       "       674.7218543, 674.7218543, 674.7218543, 674.7218543, 674.7218543,\n",
       "       674.7218543, 674.7218543, 674.7218543, 674.7218543, 674.7218543,\n",
       "       674.7218543, 674.7218543, 674.7218543, 674.7218543, 674.7218543,\n",
       "       674.7218543, 674.7218543, 674.7218543, 674.7218543, 674.7218543,\n",
       "       674.7218543, 674.7218543, 674.7218543, 674.7218543, 674.7218543,\n",
       "       674.7218543, 674.7218543, 674.7218543, 674.7218543, 674.7218543,\n",
       "       674.7218543, 674.7218543, 674.7218543, 674.7218543, 674.7218543,\n",
       "       674.7218543, 674.7218543, 674.7218543, 674.7218543, 674.7218543,\n",
       "       674.7218543, 674.7218543, 674.7218543, 674.7218543, 674.7218543,\n",
       "       674.7218543, 674.7218543, 674.7218543, 674.7218543, 674.7218543,\n",
       "       674.7218543, 674.7218543, 674.7218543, 674.7218543, 674.7218543,\n",
       "       674.7218543, 674.7218543, 674.7218543, 674.7218543, 674.7218543,\n",
       "       674.7218543, 674.7218543, 674.7218543, 674.7218543, 674.7218543,\n",
       "       674.7218543, 674.7218543, 674.7218543, 674.7218543, 674.7218543,\n",
       "       674.7218543, 674.7218543, 674.7218543, 674.7218543, 674.7218543,\n",
       "       674.7218543, 674.7218543, 674.7218543, 674.7218543, 674.7218543,\n",
       "       674.7218543, 674.7218543, 674.7218543, 674.7218543, 674.7218543,\n",
       "       674.7218543, 674.7218543, 674.7218543, 674.7218543, 674.7218543,\n",
       "       674.7218543, 674.7218543, 674.7218543, 674.7218543, 674.7218543,\n",
       "       674.7218543, 674.7218543, 674.7218543, 674.7218543, 674.7218543,\n",
       "       674.7218543, 674.7218543, 674.7218543, 674.7218543, 674.7218543,\n",
       "       674.7218543, 674.7218543, 674.7218543, 674.7218543, 674.7218543,\n",
       "       674.7218543, 674.7218543, 674.7218543, 674.7218543, 674.7218543,\n",
       "       674.7218543, 674.7218543, 674.7218543, 674.7218543, 674.7218543,\n",
       "       674.7218543])"
      ]
     },
     "execution_count": 76,
     "metadata": {},
     "output_type": "execute_result"
    }
   ],
   "source": [
    "# Vector with predictions from the baseline\n",
    "pred_baseline = np.full_like(y, fill_value=np.mean(y), dtype=np.float)\n",
    "pred_baseline"
   ]
  },
  {
   "cell_type": "code",
   "execution_count": 78,
   "metadata": {},
   "outputs": [],
   "source": [
    "from sklearn.dummy import DummyRegressor\n",
    "\n",
    "# Create the DummyRegressor object\n",
    "dummy = DummyRegressor(strategy='mean')"
   ]
  },
  {
   "cell_type": "code",
   "execution_count": 79,
   "metadata": {},
   "outputs": [
    {
     "data": {
      "text/plain": [
       "DummyRegressor(constant=None, quantile=None, strategy='mean')"
      ]
     },
     "execution_count": 79,
     "metadata": {},
     "output_type": "execute_result"
    }
   ],
   "source": [
    "dummy.fit(x[:, np.newaxis], y)"
   ]
  },
  {
   "cell_type": "code",
   "execution_count": 81,
   "metadata": {},
   "outputs": [
    {
     "data": {
      "text/plain": [
       "371.11459394676217"
      ]
     },
     "execution_count": 81,
     "metadata": {},
     "output_type": "execute_result"
    }
   ],
   "source": [
    "pred_baseline = dummy.predict(x[:, np.newaxis])\n",
    "\n",
    "rmse_baseline = RMSE(y, pred_baseline)\n",
    "rmse_baseline"
   ]
  },
  {
   "cell_type": "code",
   "execution_count": 82,
   "metadata": {},
   "outputs": [
    {
     "data": {
      "image/png": "[encoded data removed]",
      "text/plain": [
       "<matplotlib.figure.Figure at 0x54f8128>"
      ]
     },
     "metadata": {},
     "output_type": "display_data"
    }
   ],
   "source": [
    "plt.bar([1, 2, 3, 4], [rmse_baseline, rmse_lr, rmse_poly3, rmse_huber3])\n",
    "plt.xticks([1, 2, 3, 4], ['baseline (mean)', 'linreg', 'poly3', 'huber3'])\n",
    "plt.show()"
   ]
  }
 ],
 "metadata": {
  "kernelspec": {
   "display_name": "Python 3",
   "language": "python",
   "name": "python3"
  },
  "language_info": {
   "codemirror_mode": {
    "name": "ipython",
    "version": 3
   },
   "file_extension": ".py",
   "mimetype": "text/x-python",
   "name": "python",
   "nbconvert_exporter": "python",
   "pygments_lexer": "ipython3",
   "version": "3.6.4"
  }
 },
 "nbformat": 4,
 "nbformat_minor": 2
}
