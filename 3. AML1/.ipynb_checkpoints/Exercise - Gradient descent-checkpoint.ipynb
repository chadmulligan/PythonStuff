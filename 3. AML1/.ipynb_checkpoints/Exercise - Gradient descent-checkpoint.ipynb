{
 "cells": [
  {
   "cell_type": "markdown",
   "metadata": {},
   "source": [
    "# Exercise - Gradient descent"
   ]
  },
  {
   "cell_type": "markdown",
   "metadata": {},
   "source": [
    "## Exercise - Fit a linear regression with OLS\n",
    "\n",
    "> **Exercise**: Load the train and test sets. Fit a linear regression using OLS with the `LinearRegression` object from Scikit-learn. Compute the train and test RMSE scores."
   ]
  },
  {
   "cell_type": "code",
   "execution_count": 17,
   "metadata": {},
   "outputs": [],
   "source": [
    "import numpy as np\n",
    "import pandas as pd\n",
    "%matplotlib inline\n",
    "import matplotlib.pyplot as plt\n",
    "import seaborn as sns\n",
    "from sklearn.preprocessing import scale"
   ]
  },
  {
   "cell_type": "code",
   "execution_count": 30,
   "metadata": {},
   "outputs": [],
   "source": [
    "# Load train/test data\n",
    "data_tr = pd.read_csv('data/bike-sharing-train.csv')\n",
    "data_te = pd.read_csv('data/bike-sharing-test.csv')\n",
    "\n",
    "x_tr=data_tr.drop('casual', axis=1).values\n",
    "y_tr=data_tr.casual.values\n",
    "\n",
    "x_te=data_te.drop('casual', axis=1).values\n",
    "y_te=data_te.casual.values"
   ]
  },
  {
   "cell_type": "code",
   "execution_count": 4,
   "metadata": {},
   "outputs": [],
   "source": [
    "# Implement RMSE\n",
    "def rmse(y, y_pred):\n",
    "    return np.sqrt(np.mean(np.square(y-y_pred)))"
   ]
  },
  {
   "cell_type": "code",
   "execution_count": 31,
   "metadata": {},
   "outputs": [
    {
     "name": "stdout",
     "output_type": "stream",
     "text": [
      "Linear regression (OLS) - train RMSE: 397.42\n",
      "Linear regression (OLS) - test RMSE: 388.67\n"
     ]
    }
   ],
   "source": [
    "from sklearn.linear_model import LinearRegression\n",
    "\n",
    "# Fit a linear regression using OLS\n",
    "lr = LinearRegression()\n",
    "lr.fit(x_tr, y_tr)\n",
    "\n",
    "y_pred_tr = lr.predict(x_tr)\n",
    "y_pred_te = lr.predict(x_te)\n",
    "\n",
    "# Evaluate model\n",
    "lr_rmse_tr = rmse(y_tr, y_pred_tr) # RMSE on train set\n",
    "lr_rmse_te =rmse(y_te, y_pred_te) # RMSE on test set\n",
    "\n",
    "print('Linear regression (OLS) - train RMSE: {:.2f}'.format(lr_rmse_tr))\n",
    "print('Linear regression (OLS) - test RMSE: {:.2f}'.format(lr_rmse_te))"
   ]
  },
  {
   "cell_type": "markdown",
   "metadata": {},
   "source": [
    "## Exercise - Fit a linear regression with gradient descent\n",
    "\n",
    "> **Exercise**: Standardize the features using the train data, i.e., train mean and standard deviation. Fit a linear regression to the train data with gradient descent and evaluate its performance on the test data.\n",
    "\n",
    "**Hint**: Test different different learning rates, e.g., 0.01, 0.1, 0.5"
   ]
  },
  {
   "cell_type": "code",
   "execution_count": 42,
   "metadata": {},
   "outputs": [],
   "source": [
    "# Standardize features using train mean and standard deviation\n",
    "x_tr_scale = scale(x_tr)\n",
    "x_te_scale = scale(x_te)"
   ]
  },
  {
   "cell_type": "code",
   "execution_count": 43,
   "metadata": {},
   "outputs": [],
   "source": [
    "x_tr_scale = np.c_[np.ones(data_tr.shape[0]), x_tr_scale]\n",
    "x_te_scale = np.c_[np.ones(data_te.shape[0]), x_te_scale]"
   ]
  },
  {
   "cell_type": "code",
   "execution_count": 46,
   "metadata": {},
   "outputs": [
    {
     "data": {
      "text/plain": [
       "array([ 1.00000000e+00,  6.79480758e-17,  2.91206039e-16,  3.00912907e-16,\n",
       "       -2.71792303e-16, -1.94137359e-17, -1.06775548e-16,  9.70686797e-18,\n",
       "        6.79480758e-17,  6.55213588e-17])"
      ]
     },
     "execution_count": 46,
     "metadata": {},
     "output_type": "execute_result"
    }
   ],
   "source": [
    "np.mean(x_te_scale, axis=0)"
   ]
  },
  {
   "cell_type": "code",
   "execution_count": 58,
   "metadata": {},
   "outputs": [
    {
     "name": "stdout",
     "output_type": "stream",
     "text": [
      "Linear regression (GD) - train RMSE: 397.42\n",
      "Linear regression (GD) - test RMSE: 387.98\n"
     ]
    }
   ],
   "source": [
    "# Implement gradient descent\n",
    "def gd(X, y, lr, n_steps):\n",
    "    # Initialize vector of parameters\n",
    "    w = np.zeros(x_tr_scale.shape[1])\n",
    "    \n",
    "    # Log RMSE at each step\n",
    "    log_rmse = []\n",
    "    \n",
    "    # Perform n_steps iterations\n",
    "    for step in range(n_steps):\n",
    "        # Compute the predictions\n",
    "        y_pred = np.dot(X, w)\n",
    "\n",
    "        # Update the vector of parameters\n",
    "        error = y - y_pred\n",
    "        \n",
    "        L = -2*np.dot(X.T, error) / X.shape[0] \n",
    "        w -= lr * L\n",
    "        \n",
    "        # Log RMSE value\n",
    "        log_rmse.append(rmse(y, y_pred))\n",
    "        \n",
    "    # Return vector of parameters and last RMSE value\n",
    "    return w, log_rmse[-1]\n",
    "\n",
    "# Fit linear regression\n",
    "w, gd_rmse_tr = gd(x_tr_scale, y_tr, 0.1, 10000)\n",
    "\n",
    "# Evaluate model\n",
    "gd_rmse_te = rmse(np.dot(x_te_scale, w), y_te)\n",
    "\n",
    "print('Linear regression (GD) - train RMSE: {:.2f}'.format(gd_rmse_tr))\n",
    "print('Linear regression (GD) - test RMSE: {:.2f}'.format(gd_rmse_te))\n"
   ]
  }
 ],
 "metadata": {
  "kernelspec": {
   "display_name": "Python 3",
   "language": "python",
   "name": "python3"
  },
  "language_info": {
   "codemirror_mode": {
    "name": "ipython",
    "version": 3
   },
   "file_extension": ".py",
   "mimetype": "text/x-python",
   "name": "python",
   "nbconvert_exporter": "python",
   "pygments_lexer": "ipython3",
   "version": "3.6.4"
  }
 },
 "nbformat": 4,
 "nbformat_minor": 2
}
