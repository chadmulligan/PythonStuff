{
 "cells": [
  {
   "cell_type": "markdown",
   "metadata": {},
   "source": [
    "# Polyfit on the bike sharing data set"
   ]
  },
  {
   "cell_type": "markdown",
   "metadata": {},
   "source": [
    "## Exercise: Load the data set\n",
    "\n",
    "> **Exercise**: Create the x/y **Numpy arrays**. The feature vector x should contain the temperature values. The target vector y should contain the number of users.\n",
    "\n",
    "**Self-assessment**: You can run the test cell below."
   ]
  },
  {
   "cell_type": "code",
   "execution_count": 10,
   "metadata": {},
   "outputs": [
    {
     "name": "stdout",
     "output_type": "stream",
     "text": [
      "x: <class 'numpy.ndarray'> (302,) float64 [0.1964 0.2    0.227  0.2043 0.1508]\n",
      "y: <class 'numpy.ndarray'> (302,) int64 [120 108  82  88  41]\n"
     ]
    }
   ],
   "source": [
    "import pandas as pd\n",
    "import os\n",
    "\n",
    "# Load the data into a Pandas DataFrame\n",
    "data_df = pd.read_csv(os.path.join('data', 'bike-sharing-simple.csv'))\n",
    "\n",
    "# Extract the x/y Numpy arrays\n",
    "x = data_df.temp.values\n",
    "y = data_df.users.values\n",
    "\n",
    "print('x:', type(x), x.shape, x.dtype, x[:5])\n",
    "print('y:', type(y), y.shape, y.dtype, y[:5])"
   ]
  },
  {
   "cell_type": "markdown",
   "metadata": {},
   "source": [
    "Test cell"
   ]
  },
  {
   "cell_type": "code",
   "execution_count": 4,
   "metadata": {},
   "outputs": [
    {
     "name": "stdout",
     "output_type": "stream",
     "text": [
      "tests passed!\n"
     ]
    }
   ],
   "source": [
    "import numpy as np\n",
    "\n",
    "# Some test cases\n",
    "assert type(x) == np.ndarray, 'x should be a Numpy array'\n",
    "assert type(y) == np.ndarray, 'y should be a Numpy array'\n",
    "assert x.shape == (302,), 'the shape of x should be (302,)'\n",
    "assert y.shape == (302,), 'the shape of y should be (302,)'\n",
    "\n",
    "print('tests passed!')"
   ]
  },
  {
   "cell_type": "markdown",
   "metadata": {},
   "source": [
    "## Exercise: Fit a polynomial\n",
    "\n",
    "> **Exercise**: (A) Fit a polynomial using the Numpy `polyfit()` function. You should test different degrees. (B) Print the optimal coefficients. (C) Plot the polynomial."
   ]
  },
  {
   "cell_type": "code",
   "execution_count": 14,
   "metadata": {},
   "outputs": [
    {
     "name": "stdout",
     "output_type": "stream",
     "text": [
      "a: 1495.596242181923\n",
      "b: -94.61126515608738\n"
     ]
    },
    {
     "data": {
      "image/png": "[encoded data removed]",
      "text/plain": [
       "<matplotlib.figure.Figure at 0x4580828>"
      ]
     },
     "metadata": {},
     "output_type": "display_data"
    }
   ],
   "source": [
    "# (A) Fit a polynomial\n",
    "coefs = np.polyfit(x, y, deg=1)\n",
    "\n",
    "# (B) Print coefficients\n",
    "a,b = coefs\n",
    "print('a:', a) \n",
    "print('b:', b) \n",
    "\n",
    "# (C) Plot the polynomial\n",
    "import matplotlib.pyplot as plt\n",
    "%matplotlib inline\n",
    "\n",
    "x_values = np.linspace(0, 1, num=100)\n",
    "\n",
    "### Compute the associated y values\n",
    "y_values = a*x_values + b\n",
    "\n",
    "#### Plot the line\n",
    "plt.scatter(x, y, label=None)\n",
    "plt.plot(x_values, y_values, color='red', label='polyfit(deg=1)')\n",
    "plt.legend()\n",
    "plt.show()"
   ]
  },
  {
   "cell_type": "markdown",
   "metadata": {},
   "source": [
    "## Exercise: Evaluate your model\n",
    "\n",
    "The RSS measure depends on the total number of data points since we sum the squared error over all data points. In practice, we prefer to have a measure that is independent of the number of observations. To achieve this, we can replace the sum by a mean, and we obtain the Mean Squared Error (MSE) measure.\n",
    "\n",
    "$$\n",
    "\\text{MSE}=\\frac{1}{n}\\sum_{i=1}^{n}\\left(y_{i}-\\hat{y}_{i}\\right)^{2}\n",
    "$$\n",
    "\n",
    "> **Exercise**: Implement the MSE measure.\n",
    "\n",
    "**Self-assessment**: You can run the test cell below."
   ]
  },
  {
   "cell_type": "code",
   "execution_count": 26,
   "metadata": {},
   "outputs": [],
   "source": [
    "def MSE(y, y_pred):\n",
    "    return np.square((y-y_pred)).mean()"
   ]
  },
  {
   "cell_type": "code",
   "execution_count": 27,
   "metadata": {},
   "outputs": [
    {
     "name": "stdout",
     "output_type": "stream",
     "text": [
      "tests passed!\n"
     ]
    }
   ],
   "source": [
    "from numpy.testing import assert_almost_equal\n",
    "\n",
    "y_test = np.array([1, 2, 3])\n",
    "y_test_pred1 = np.array([1, 2, 3])\n",
    "y_test_pred2 = np.array([1, 5, 3])\n",
    "y_test_pred3 = np.array([1, 5, 6])\n",
    "\n",
    "assert_almost_equal(MSE(y_test, y_test_pred1), 0, decimal=5)\n",
    "assert_almost_equal(MSE(y_test, y_test_pred2), 3 , decimal=5)\n",
    "assert_almost_equal(MSE(y_test, y_test_pred3), 6, decimal=5)\n",
    "\n",
    "print('tests passed!')"
   ]
  },
  {
   "cell_type": "markdown",
   "metadata": {},
   "source": [
    "MSE can still be a large number since we measure squared errors. One solution is to take the square root of MSE to obtain the Root Mean Squared Error (RMSE).\n",
    "\n",
    "$$\n",
    "\\text{RMSE}=\\sqrt{\\text{MSE}}\n",
    "$$\n",
    "\n",
    "> **Exercise**: Compute the estimated values `y_pred` for the data points `x`. Print the RMSE score.\n",
    "\n",
    "**Self-assessment**: The RMSE value should be between 207 and 235 depending on the degree of your polynomial."
   ]
  },
  {
   "cell_type": "code",
   "execution_count": 28,
   "metadata": {},
   "outputs": [
    {
     "data": {
      "text/plain": [
       "233.36689996033584"
      ]
     },
     "execution_count": 28,
     "metadata": {},
     "output_type": "execute_result"
    }
   ],
   "source": [
    "y_pred = a*x + b\n",
    "np.sqrt(MSE(y, y_pred))"
   ]
  },
  {
   "cell_type": "code",
   "execution_count": 23,
   "metadata": {},
   "outputs": [
    {
     "data": {
      "text/plain": [
       "array([1, 2, 3])"
      ]
     },
     "execution_count": 23,
     "metadata": {},
     "output_type": "execute_result"
    }
   ],
   "source": [
    "y_test"
   ]
  }
 ],
 "metadata": {
  "kernelspec": {
   "display_name": "Python 3",
   "language": "python",
   "name": "python3"
  },
  "language_info": {
   "codemirror_mode": {
    "name": "ipython",
    "version": 3
   },
   "file_extension": ".py",
   "mimetype": "text/x-python",
   "name": "python",
   "nbconvert_exporter": "python",
   "pygments_lexer": "ipython3",
   "version": "3.6.4"
  }
 },
 "nbformat": 4,
 "nbformat_minor": 2
}
