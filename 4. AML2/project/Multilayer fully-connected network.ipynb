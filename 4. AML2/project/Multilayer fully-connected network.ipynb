{
 "cells": [
  {
   "cell_type": "code",
   "execution_count": 1,
   "metadata": {},
   "outputs": [],
   "source": [
    "import tensorflow as tf\n",
    "\n",
    "import numpy as np\n",
    "import pandas as pd\n",
    "\n",
    "%matplotlib inline\n",
    "import matplotlib.pyplot as plt\n",
    "import seaborn as sns\n",
    "import timeit\n",
    "import random\n",
    "from IPython.display import clear_output\n",
    "\n",
    "from sklearn.model_selection import train_test_split\n",
    "from sklearn.preprocessing import StandardScaler"
   ]
  },
  {
   "cell_type": "code",
   "execution_count": 2,
   "metadata": {},
   "outputs": [],
   "source": [
    "with np.load('cifar4-overfeat-split.npz', allow_pickle=False) as data:\n",
    "    split_data = dict(data.items())\n",
    "\n",
    "for key in split_data.keys():\n",
    "    locals()[key] = split_data[key]"
   ]
  },
  {
   "cell_type": "code",
   "execution_count": 3,
   "metadata": {},
   "outputs": [],
   "source": [
    "X_tr_tr, X_tr_te, y_tr_tr, y_tr_te = train_test_split(X_tr, y_tr, \n",
    "                                                      test_size=800, train_size = 3200, \n",
    "                                                      random_state=0, stratify = y_tr)"
   ]
  },
  {
   "cell_type": "code",
   "execution_count": 4,
   "metadata": {},
   "outputs": [],
   "source": [
    "# Batch generator\n",
    "def get_batches(X, y, batch_size):\n",
    "    # Shuffle X,y\n",
    "    shuffled_idx = np.arange(len(y)) # 1,2,...,n\n",
    "    np.random.shuffle(shuffled_idx)\n",
    "\n",
    "    # Enumerate indexes by steps of batch_size\n",
    "    # i: 0, b, 2b, 3b, 4b, .. where b is the batch size\n",
    "    for i in range(0, len(y), batch_size):\n",
    "        # Batch indexes\n",
    "        batch_idx = shuffled_idx[i:i+batch_size]\n",
    "        yield X[batch_idx], y[batch_idx]"
   ]
  },
  {
   "cell_type": "code",
   "execution_count": 20,
   "metadata": {},
   "outputs": [
    {
     "name": "stdout",
     "output_type": "stream",
     "text": [
      "<tf.Variable 'hidden/kernel:0' shape=(4096, 64) dtype=float32_ref>\n",
      "<tf.Variable 'hidden/bias:0' shape=(64,) dtype=float32_ref>\n",
      "<tf.Variable 'output/kernel:0' shape=(64, 4) dtype=float32_ref>\n",
      "<tf.Variable 'output/bias:0' shape=(4,) dtype=float32_ref>\n"
     ]
    }
   ],
   "source": [
    "graph = tf.Graph()\n",
    "\n",
    "with graph.as_default():\n",
    "    # Create placeholders\n",
    "    X = tf.placeholder(dtype=tf.float32, shape=[None, 4096], name = 'X')\n",
    "    y = tf.placeholder(dtype=tf.int32, shape=[None], name = 'y')\n",
    "\n",
    "    # Create training placeholder\n",
    "    training = tf.placeholder(dtype=tf.bool, name = 'bool_training')\n",
    "\n",
    "    # Apply dropout\n",
    "    X = tf.layers.dropout(\n",
    "        X, rate=0.5, seed=0, training=training)\n",
    "    \n",
    "    # Hidden layer with 64 units\n",
    "    hidden = tf.layers.dense(\n",
    "        X, 64, activation=tf.nn.relu, # ReLU\n",
    "        kernel_initializer=tf.variance_scaling_initializer(scale=2, seed=0),\n",
    "        bias_initializer=tf.zeros_initializer(),\n",
    "        name='hidden'\n",
    "    )\n",
    "\n",
    "    # Apply dropout\n",
    "    hidden = tf.layers.dropout(\n",
    "        hidden, rate=0.5, seed=0, training=training)\n",
    "    \n",
    "    # Output layer with 4 units\n",
    "    logits = tf.layers.dense(\n",
    "        hidden, 4, activation=None, # No activation function\n",
    "        kernel_initializer=tf.variance_scaling_initializer(scale=1, seed=0),\n",
    "        bias_initializer=tf.zeros_initializer(),\n",
    "        name='output'\n",
    "    )\n",
    "\n",
    "    \n",
    "    # Get weights/biases of the hidden layer\n",
    "    with tf.variable_scope('hidden', reuse=True):\n",
    "        W1 = tf.get_variable('kernel')\n",
    "        b1 = tf.get_variable('bias')\n",
    "\n",
    "    # Get weights/biases of the output layer\n",
    "    with tf.variable_scope('output', reuse=True):\n",
    "        W2 = tf.get_variable('kernel')\n",
    "        b2 = tf.get_variable('bias')\n",
    "\n",
    "\n",
    "    # Loss fuction: mean cross-entropy with L2 regularization\n",
    "    mean_ce = tf.reduce_mean(\n",
    "        tf.nn.sparse_softmax_cross_entropy_with_logits(\n",
    "            labels=y, logits=logits))\n",
    "\n",
    "    # Loss function with L2 term\n",
    "    l2_term = tf.nn.l2_loss(W1) + tf.nn.l2_loss(W2)\n",
    "    # Regularization strength\n",
    "    alpha = tf.placeholder(dtype=tf.float32, name='alpha')\n",
    "    # Loss function\n",
    "    loss = mean_ce + alpha * l2_term\n",
    "    # Gradient descent\n",
    "    lr = tf.placeholder(dtype=tf.float32, name='lr')\n",
    "    gd = tf.train.GradientDescentOptimizer(learning_rate=lr)\n",
    "    \n",
    "    # Minimize cross-entropy with L2 regularization - Training operation\n",
    "    train_op = gd.minimize(loss)\n",
    "\n",
    "    # Compute predictions and accuracy\n",
    "    predictions = tf.argmax(logits, axis=1, output_type=tf.int32)\n",
    "    is_correct = tf.equal(y, predictions)\n",
    "    accuracy = tf.reduce_mean(tf.cast(is_correct, dtype=tf.float32))\n",
    "\n",
    "\n",
    "## seeing whether this thing works somehow. \n",
    "with graph.as_default():\n",
    "    # Get variables in the graph\n",
    "    for v in tf.trainable_variables():\n",
    "        print(v)"
   ]
  },
  {
   "cell_type": "code",
   "execution_count": 18,
   "metadata": {},
   "outputs": [
    {
     "name": "stdout",
     "output_type": "stream",
     "text": [
      "Epoch 150 - valid: 0.841 train: 0.870 (mean)\n",
      "Multilayer fully-connected network accuracy (test set): 0.840\n",
      "Model saved in path: /tmp/model.ckpt\n"
     ]
    }
   ],
   "source": [
    "# Validation accuracy\n",
    "valid_acc_values = []\n",
    "\n",
    "with tf.Session(graph=graph) as sess:\n",
    "    # Initialize variables\n",
    "    sess.run(tf.global_variables_initializer())\n",
    "    \n",
    "    # Add ops to save and restore all the variables.\n",
    "    saver = tf.train.Saver()\n",
    "    \n",
    "    # Set seed\n",
    "    np.random.seed(0)\n",
    "\n",
    "    # Train several epochs\n",
    "    for epoch in range(150):\n",
    "        # Accuracy values (train) after each batch\n",
    "        batch_acc = []\n",
    "\n",
    "        # Get batches of data\n",
    "        for X_batch, y_batch in get_batches(X_tr_tr, y_tr_tr, 64):\n",
    "            # Run training and evaluate accuracy\n",
    "            _, acc_value = sess.run([train_op, accuracy], feed_dict={\n",
    "                X: X_batch,\n",
    "                y: y_batch,\n",
    "                lr: 0.001,\n",
    "                training : True, # Learning rate\n",
    "                alpha: .05\n",
    "            })\n",
    "\n",
    "            # Save accuracy (current batch)\n",
    "            batch_acc.append(acc_value)\n",
    "\n",
    "        # Evaluate validation accuracy\n",
    "        valid_acc = sess.run(accuracy, feed_dict={\n",
    "            X: X_tr_te,\n",
    "            y: y_tr_te,\n",
    "            training : False\n",
    "        })\n",
    "        valid_acc_values.append(valid_acc)\n",
    "\n",
    "        # Print progress\n",
    "        clear_output()\n",
    "        print('Epoch {} - valid: {:.3f} train: {:.3f} (mean)'.format(\n",
    "            epoch+1, valid_acc, np.mean(batch_acc)\n",
    "        ))\n",
    "        \n",
    "    score_multilayer = sess.run(accuracy, feed_dict={\n",
    "        X: X_te,\n",
    "        y: y_te,\n",
    "        training: False,\n",
    "    })\n",
    "    print('Multilayer fully-connected network accuracy (test set): {:.3f}'.format(score_multilayer))\n",
    "    \n",
    "    # Save the variables to disk.\n",
    "    save_path = saver.save(sess, \"/tmp/model.ckpt\")\n",
    "    print(\"Model saved in path: %s\" % save_path)\n"
   ]
  },
  {
   "cell_type": "code",
   "execution_count": 7,
   "metadata": {},
   "outputs": [
    {
     "data": {
      "image/png": "[encoded data removed]",
      "text/plain": [
       "<matplotlib.figure.Figure at 0x1c3df048>"
      ]
     },
     "metadata": {},
     "output_type": "display_data"
    }
   ],
   "source": [
    "# Plot accuracy values\n",
    "plt.plot(valid_acc_values)\n",
    "plt.title('Validation accuracy {:.3f} (mean last 50)'.format(\n",
    "    np.mean(valid_acc_values[-50:]) # last three values\n",
    "))\n",
    "plt.xlabel('epoch')\n",
    "plt.ylabel('accuracy')\n",
    "plt.show()"
   ]
  },
  {
   "cell_type": "code",
   "execution_count": 8,
   "metadata": {},
   "outputs": [
    {
     "name": "stdout",
     "output_type": "stream",
     "text": [
      "Stored 'score_multilayer' (float32)\n"
     ]
    }
   ],
   "source": [
    "%store score_multilayer"
   ]
  },
  {
   "cell_type": "code",
   "execution_count": 34,
   "metadata": {},
   "outputs": [],
   "source": [
    "### THIS WORKING - saving it for later\n",
    "\n",
    "class Graph(object):\n",
    "    \n",
    "    #To build the graph when instantiated\n",
    "    def __init__(self):\n",
    "        \n",
    "        self.graph = tf.Graph()\n",
    "        \n",
    "        with self.graph.as_default():\n",
    "            # Create placeholders\n",
    "            self.X = tf.placeholder(dtype=tf.float32, shape=[None, 4096], name = 'X')\n",
    "            self.y = tf.placeholder(dtype=tf.int32, shape=[None], name = 'y')\n",
    "\n",
    "            # Create training placeholder\n",
    "            self.training = tf.placeholder(dtype=tf.bool, name = 'bool_training')\n",
    "\n",
    "            # Apply dropout\n",
    "            self.X = tf.layers.dropout(\n",
    "                self.X, rate=0.5, seed=0, training=self.training)\n",
    "\n",
    "            # Hidden layer with 64 units\n",
    "            self.hidden = tf.layers.dense(\n",
    "                self.X, 64, activation=tf.nn.relu, # ReLU\n",
    "                kernel_initializer=tf.variance_scaling_initializer(scale=2, seed=0),\n",
    "                bias_initializer=tf.zeros_initializer(),\n",
    "                name='hidden'\n",
    "            )\n",
    "\n",
    "            # Apply dropout\n",
    "            self.hidden = tf.layers.dropout(\n",
    "                self.hidden, rate=0.5, seed=0, training=self.training)\n",
    "\n",
    "            # Output layer with 4 units\n",
    "            self.logits = tf.layers.dense(\n",
    "                self.hidden, 4, activation=None, # No activation function\n",
    "                kernel_initializer=tf.variance_scaling_initializer(scale=1, seed=0),\n",
    "                bias_initializer=tf.zeros_initializer(),\n",
    "                name='output'\n",
    "            )\n",
    "\n",
    "\n",
    "            # Get weights/biases of the hidden layer\n",
    "            with tf.variable_scope('hidden', reuse=True):\n",
    "                self.W1 = tf.get_variable('kernel')\n",
    "                self.b1 = tf.get_variable('bias')\n",
    "\n",
    "            # Get weights/biases of the output layer\n",
    "            with tf.variable_scope('output', reuse=True):\n",
    "                self.W2 = tf.get_variable('kernel')\n",
    "                self.b2 = tf.get_variable('bias')\n",
    "\n",
    "\n",
    "            # Loss fuction: mean cross-entropy with L2 regularization\n",
    "            self.mean_ce = tf.reduce_mean(\n",
    "                tf.nn.sparse_softmax_cross_entropy_with_logits(\n",
    "                    labels=self.y, logits=self.logits), name='mean_tensor')\n",
    "\n",
    "            # Loss function with L2 term\n",
    "            self.l2_term = tf.nn.l2_loss(self.W1) + tf.nn.l2_loss(self.W2)\n",
    "            # Regularization strength\n",
    "            self.alpha = tf.placeholder(dtype=tf.float32, name='alpha')\n",
    "            # Loss function\n",
    "            self.loss = self.mean_ce + self.alpha * self.l2_term\n",
    "            # Gradient descent\n",
    "            self.lr = tf.placeholder(dtype=tf.float32, name='lr')\n",
    "            self.gd = tf.train.GradientDescentOptimizer(learning_rate=self.lr, name='gradient')\n",
    "\n",
    "            # Minimize cross-entropy with L2 regularization - Training operation\n",
    "            self.train_op = self.gd.minimize(self.loss)\n",
    "\n",
    "            # Compute predictions and accuracy\n",
    "            self.predictions = tf.argmax(self.logits, axis=1, output_type=tf.int32)\n",
    "            self.is_correct = tf.equal(self.y, self.predictions)\n",
    "            self.accuracy = tf.reduce_mean(tf.cast(self.is_correct, dtype=tf.float32, name='accuracy'))\n",
    "    \n",
    "    \n",
    "    #printing as a control step\n",
    "    def printing(self):\n",
    "        with self.graph.as_default():\n",
    "            # Get variables in the graph\n",
    "            for v in tf.trainable_variables():\n",
    "                print(v)\n",
    "                \n",
    "                \n",
    "    # To launch the graph\n",
    "    def launchG(self, \n",
    "                X_train = X_tr_tr, y_train = y_tr_tr, \n",
    "                X_valid = X_tr_te, y_valid = y_tr_te, \n",
    "                alpha=0.1, lr=0.005, epochs=80):\n",
    "        \n",
    "        self.valid_acc_values = []\n",
    "        \n",
    "        with tf.Session(graph=self.graph) as sess:\n",
    "             # Validation accuracy\n",
    "\n",
    "            # Initialize variables\n",
    "            sess.run(tf.global_variables_initializer())\n",
    "\n",
    "            # Set seed\n",
    "            np.random.seed(0)\n",
    "\n",
    "            # Train several epochs\n",
    "            for epoch in range(epochs):\n",
    "                # Accuracy values (train) after each batch\n",
    "                self.batch_acc = []\n",
    "\n",
    "                # Get batches of data\n",
    "                for X_batch, y_batch in get_batches(X_tr_tr, y_tr_tr, 128):\n",
    "                    # Run training and evaluate accuracy\n",
    "                    _, acc_value = sess.run([self.train_op, self.accuracy], feed_dict={\n",
    "                        self.X: X_batch,\n",
    "                        self.y: y_batch,\n",
    "                        self.lr: lr,\n",
    "                        self.training : True, # Learning rate\n",
    "                        self.alpha: alpha\n",
    "                    })\n",
    "\n",
    "                # Save accuracy (current batch)\n",
    "                self.batch_acc.append(acc_value)\n",
    "\n",
    "                # Evaluate validation accuracy\n",
    "                self.valid_acc = sess.run(self.accuracy, feed_dict={\n",
    "                    self.X: X_valid,\n",
    "                    self.y: y_valid,\n",
    "                    self.training : False\n",
    "                })\n",
    "                self.valid_acc_values.append(self.valid_acc)\n",
    "                \n",
    "                # Print progress\n",
    "                clear_output()\n",
    "                print('Epoch {} - valid: {:.3f} train: {:.3f} (mean)'.format(\n",
    "                    epoch+1, self.valid_acc, np.mean(self.batch_acc)\n",
    "                ))\n",
    "\n",
    "                \n",
    "            return self.valid_acc_values"
   ]
  },
  {
   "cell_type": "code",
   "execution_count": 35,
   "metadata": {},
   "outputs": [],
   "source": [
    "graph1 = Graph()"
   ]
  },
  {
   "cell_type": "code",
   "execution_count": 36,
   "metadata": {},
   "outputs": [
    {
     "name": "stdout",
     "output_type": "stream",
     "text": [
      "<tf.Variable 'hidden/kernel:0' shape=(4096, 64) dtype=float32_ref>\n",
      "<tf.Variable 'hidden/bias:0' shape=(64,) dtype=float32_ref>\n",
      "<tf.Variable 'output/kernel:0' shape=(64, 4) dtype=float32_ref>\n",
      "<tf.Variable 'output/bias:0' shape=(4,) dtype=float32_ref>\n"
     ]
    }
   ],
   "source": [
    "graph1.printing()"
   ]
  },
  {
   "cell_type": "code",
   "execution_count": 37,
   "metadata": {},
   "outputs": [
    {
     "name": "stdout",
     "output_type": "stream",
     "text": [
      "Epoch 80 - valid: 0.836 train: 0.930 (mean)\n"
     ]
    }
   ],
   "source": [
    "valid_acc_values = graph1.launchG()"
   ]
  },
  {
   "cell_type": "code",
   "execution_count": 38,
   "metadata": {},
   "outputs": [
    {
     "data": {
      "image/png": "[encoded data removed]",
      "text/plain": [
       "<matplotlib.figure.Figure at 0x2554db38>"
      ]
     },
     "metadata": {},
     "output_type": "display_data"
    }
   ],
   "source": [
    "# Plot accuracy values\n",
    "plt.plot(valid_acc_values)\n",
    "plt.title('Validation accuracy {:.3f} (mean last 50)'.format(\n",
    "    np.mean(valid_acc_values[-50:]) # last three values\n",
    "))\n",
    "plt.xlabel('epoch')\n",
    "plt.ylabel('accuracy')\n",
    "plt.show()"
   ]
  },
  {
   "cell_type": "code",
   "execution_count": null,
   "metadata": {},
   "outputs": [],
   "source": []
  }
 ],
 "metadata": {
  "kernelspec": {
   "display_name": "Python 3",
   "language": "python",
   "name": "python3"
  },
  "language_info": {
   "codemirror_mode": {
    "name": "ipython",
    "version": 3
   },
   "file_extension": ".py",
   "mimetype": "text/x-python",
   "name": "python",
   "nbconvert_exporter": "python",
   "pygments_lexer": "ipython3",
   "version": "3.6.4"
  }
 },
 "nbformat": 4,
 "nbformat_minor": 2
}
