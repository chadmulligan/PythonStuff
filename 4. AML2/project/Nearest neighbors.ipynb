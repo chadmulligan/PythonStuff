{
 "cells": [
  {
   "cell_type": "code",
   "execution_count": 1,
   "metadata": {},
   "outputs": [],
   "source": [
    "import pandas as pd\n",
    "import numpy as np\n",
    "\n",
    "import timeit\n",
    "from IPython.display import clear_output\n",
    "\n",
    "%matplotlib inline\n",
    "import matplotlib.pyplot as plt\n",
    "import seaborn as sns\n",
    "\n",
    "from sklearn.model_selection import StratifiedKFold\n",
    "from sklearn.model_selection import ParameterGrid\n",
    "from sklearn.model_selection import train_test_split\n",
    "from sklearn.decomposition import PCA\n",
    "from sklearn.dummy import DummyClassifier\n",
    "from sklearn.preprocessing import StandardScaler\n",
    "from sklearn.neighbors import KNeighborsClassifier\n",
    "from sklearn.pipeline import Pipeline\n",
    "\n",
    "from PIL import Image"
   ]
  },
  {
   "cell_type": "code",
   "execution_count": 2,
   "metadata": {},
   "outputs": [],
   "source": [
    "with np.load('cifar4-overfeat-split.npz', allow_pickle=False) as data:\n",
    "    split_data = dict(data.items())"
   ]
  },
  {
   "cell_type": "code",
   "execution_count": 3,
   "metadata": {},
   "outputs": [
    {
     "name": "stdout",
     "output_type": "stream",
     "text": [
      "X_tr\n",
      "X_te\n",
      "y_tr\n",
      "y_te\n"
     ]
    }
   ],
   "source": [
    "for key in split_data.keys():\n",
    "    print(key)"
   ]
  },
  {
   "cell_type": "code",
   "execution_count": 4,
   "metadata": {},
   "outputs": [],
   "source": [
    "for key in split_data.keys():\n",
    "    locals()[key] = split_data[key]"
   ]
  },
  {
   "cell_type": "code",
   "execution_count": 5,
   "metadata": {},
   "outputs": [],
   "source": [
    "X_tr_tr, X_tr_te, y_tr_tr, y_tr_te = train_test_split(X_tr, y_tr, \n",
    "                                                      test_size=800, train_size = 3200, \n",
    "                                                      random_state=0, stratify = y_tr)"
   ]
  },
  {
   "cell_type": "code",
   "execution_count": 6,
   "metadata": {},
   "outputs": [
    {
     "name": "stdout",
     "output_type": "stream",
     "text": [
      "3    800\n",
      "1    800\n",
      "2    800\n",
      "0    800\n",
      "Name: data, dtype: int64\n"
     ]
    }
   ],
   "source": [
    "df = pd.DataFrame({'data':y_tr_tr})\n",
    "\n",
    "print(df['data'].value_counts())"
   ]
  },
  {
   "cell_type": "code",
   "execution_count": 7,
   "metadata": {},
   "outputs": [],
   "source": [
    "grid = ParameterGrid([{'knn__n_neighbors': np.arange(1, 100),\n",
    "                       'knn__p': [1, 2]\n",
    "                       }])"
   ]
  },
  {
   "cell_type": "code",
   "execution_count": 8,
   "metadata": {},
   "outputs": [
    {
     "data": {
      "text/plain": [
       "198"
      ]
     },
     "execution_count": 8,
     "metadata": {},
     "output_type": "execute_result"
    }
   ],
   "source": [
    "len(list(grid))"
   ]
  },
  {
   "cell_type": "code",
   "execution_count": 24,
   "metadata": {},
   "outputs": [],
   "source": [
    "### We use a 408 components PCA so as to retain 95% of explained variance\n",
    "\n",
    "pipe = Pipeline([\n",
    "    ('pca', PCA(n_components=408)), \n",
    "    ('knn', KNeighborsClassifier(n_jobs=-1, algorithm='brute'))\n",
    "])"
   ]
  },
  {
   "cell_type": "code",
   "execution_count": 25,
   "metadata": {},
   "outputs": [
    {
     "name": "stdout",
     "output_type": "stream",
     "text": [
      "Param set 198/198 evaluated\n",
      "kNN param grid search done in 35.22 minutes\n"
     ]
    }
   ],
   "source": [
    "# Save accuracy on test set\n",
    "test_scores = []\n",
    "count = 0\n",
    "start = timeit.default_timer()\n",
    "\n",
    "for params_dict in grid:\n",
    "    # Set parameters\n",
    "    pipe.set_params(**params_dict)\n",
    "\n",
    "    # Fit a k-NN classifier\n",
    "    pipe.fit(X_tr_tr, y_tr_tr)\n",
    "    \n",
    "    # Save accuracy on test set\n",
    "    params_dict['accuracy'] = pipe.score(X_tr_te, y_tr_te)\n",
    "\n",
    "    # Save result\n",
    "    test_scores.append(params_dict)\n",
    "    \n",
    "    # Check advancement\n",
    "    count+=1\n",
    "    clear_output()\n",
    "    print('Param set {}/{} evaluated'.format(count, len(list(grid))))\n",
    "\n",
    "stop = timeit.default_timer()\n",
    "\n",
    "print('kNN param grid search done in {:.2f} minutes'.format((stop - start)/60))"
   ]
  },
  {
   "cell_type": "markdown",
   "metadata": {},
   "source": [
    "Had time to have a short bath in the Aare and even to make myself an espresso. "
   ]
  },
  {
   "cell_type": "code",
   "execution_count": 26,
   "metadata": {},
   "outputs": [
    {
     "data": {
      "text/html": [
       "<div>\n",
       "<style scoped>\n",
       "    .dataframe tbody tr th:only-of-type {\n",
       "        vertical-align: middle;\n",
       "    }\n",
       "\n",
       "    .dataframe tbody tr th {\n",
       "        vertical-align: top;\n",
       "    }\n",
       "\n",
       "    .dataframe thead th {\n",
       "        text-align: right;\n",
       "    }\n",
       "</style>\n",
       "<table border=\"1\" class=\"dataframe\">\n",
       "  <thead>\n",
       "    <tr style=\"text-align: right;\">\n",
       "      <th></th>\n",
       "      <th>accuracy</th>\n",
       "      <th>knn__n_neighbors</th>\n",
       "      <th>knn__p</th>\n",
       "    </tr>\n",
       "  </thead>\n",
       "  <tbody>\n",
       "    <tr>\n",
       "      <th>69</th>\n",
       "      <td>0.78000</td>\n",
       "      <td>35</td>\n",
       "      <td>2</td>\n",
       "    </tr>\n",
       "    <tr>\n",
       "      <th>89</th>\n",
       "      <td>0.77750</td>\n",
       "      <td>45</td>\n",
       "      <td>2</td>\n",
       "    </tr>\n",
       "    <tr>\n",
       "      <th>85</th>\n",
       "      <td>0.77750</td>\n",
       "      <td>43</td>\n",
       "      <td>2</td>\n",
       "    </tr>\n",
       "    <tr>\n",
       "      <th>97</th>\n",
       "      <td>0.77750</td>\n",
       "      <td>49</td>\n",
       "      <td>2</td>\n",
       "    </tr>\n",
       "    <tr>\n",
       "      <th>65</th>\n",
       "      <td>0.77625</td>\n",
       "      <td>33</td>\n",
       "      <td>2</td>\n",
       "    </tr>\n",
       "  </tbody>\n",
       "</table>\n",
       "</div>"
      ],
      "text/plain": [
       "    accuracy  knn__n_neighbors  knn__p\n",
       "69   0.78000                35       2\n",
       "89   0.77750                45       2\n",
       "85   0.77750                43       2\n",
       "97   0.77750                49       2\n",
       "65   0.77625                33       2"
      ]
     },
     "execution_count": 26,
     "metadata": {},
     "output_type": "execute_result"
    }
   ],
   "source": [
    "scores_df = pd.DataFrame(test_scores)\n",
    "\n",
    "scores_df.sort_values(by='accuracy', ascending=False).head()"
   ]
  },
  {
   "cell_type": "code",
   "execution_count": 89,
   "metadata": {},
   "outputs": [
    {
     "name": "stdout",
     "output_type": "stream",
     "text": [
      "Top accuracy on validation set: 0.78 with k: 35.0 and distance metric: L2.\n"
     ]
    }
   ],
   "source": [
    "idx = scores_df.sort_values(by='accuracy', ascending=False).head().index[0]\n",
    "top_score = scores_df.iloc[idx]\n",
    "print('Top accuracy on validation set: {} with k: {} and distance metric: L{:.0f}.'.format(top_score['accuracy'],\n",
    "                                                                                    top_score['knn__n_neighbors'],\n",
    "                                                                                    top_score['knn__p']))"
   ]
  },
  {
   "cell_type": "markdown",
   "metadata": {},
   "source": [
    "### Fitting the model to the 4000 images set"
   ]
  },
  {
   "cell_type": "code",
   "execution_count": 90,
   "metadata": {},
   "outputs": [],
   "source": [
    "pipe = Pipeline([\n",
    "    ('pca', PCA(n_components=408)), \n",
    "    ('knn', KNeighborsClassifier(n_neighbors=np.int(top_score['knn__n_neighbors']), \n",
    "                                 p=np.int(top_score['knn__p']),\n",
    "                                n_jobs=-1,\n",
    "                                algorithm='brute'))\n",
    "])"
   ]
  },
  {
   "cell_type": "code",
   "execution_count": 91,
   "metadata": {},
   "outputs": [
    {
     "data": {
      "text/plain": [
       "Pipeline(memory=None,\n",
       "     steps=[('pca', PCA(copy=True, iterated_power='auto', n_components=408, random_state=None,\n",
       "  svd_solver='auto', tol=0.0, whiten=False)), ('knn', KNeighborsClassifier(algorithm='brute', leaf_size=30, metric='minkowski',\n",
       "           metric_params=None, n_jobs=-1, n_neighbors=35, p=2,\n",
       "           weights='uniform'))])"
      ]
     },
     "execution_count": 91,
     "metadata": {},
     "output_type": "execute_result"
    }
   ],
   "source": [
    "pipe.fit(X_tr, y_tr)"
   ]
  },
  {
   "cell_type": "code",
   "execution_count": 92,
   "metadata": {},
   "outputs": [],
   "source": [
    "score_testset = pipe.score(X_te, y_te)"
   ]
  },
  {
   "cell_type": "code",
   "execution_count": 93,
   "metadata": {},
   "outputs": [
    {
     "name": "stdout",
     "output_type": "stream",
     "text": [
      "k-NN accuracy (test set): 0.773\n"
     ]
    }
   ],
   "source": [
    "print('k-NN accuracy (test set): {:.3f}'.format(score_testset))"
   ]
  },
  {
   "cell_type": "markdown",
   "metadata": {},
   "source": [
    "### Pick an image from the test set and plot its 10 nearest neighbors from the train one."
   ]
  },
  {
   "cell_type": "code",
   "execution_count": 60,
   "metadata": {},
   "outputs": [],
   "source": [
    "np.random.seed(654321)\n",
    "\n",
    "idx = np.random.choice(range(0,1001))"
   ]
  },
  {
   "cell_type": "code",
   "execution_count": 61,
   "metadata": {},
   "outputs": [],
   "source": [
    "pca_img = pipe.steps[0][1]"
   ]
  },
  {
   "cell_type": "code",
   "execution_count": 62,
   "metadata": {},
   "outputs": [],
   "source": [
    "img_pca = pca_img.transform(X_te[idx].reshape(1, -1))"
   ]
  },
  {
   "cell_type": "code",
   "execution_count": 63,
   "metadata": {},
   "outputs": [
    {
     "data": {
      "text/plain": [
       "(1, 408)"
      ]
     },
     "execution_count": 63,
     "metadata": {},
     "output_type": "execute_result"
    }
   ],
   "source": [
    "### took me a while to figure out this one, checking the result\n",
    "img_pca.shape"
   ]
  },
  {
   "cell_type": "code",
   "execution_count": 64,
   "metadata": {},
   "outputs": [],
   "source": [
    "knn_img = pipe.steps[1][1]"
   ]
  },
  {
   "cell_type": "code",
   "execution_count": 65,
   "metadata": {},
   "outputs": [],
   "source": [
    "### the 10 nearest neighbors in the population X_tr\n",
    "img_neighbors = knn_img.kneighbors(img_pca, n_neighbors=10)"
   ]
  },
  {
   "cell_type": "code",
   "execution_count": 74,
   "metadata": {},
   "outputs": [
    {
     "data": {
      "image/png": "[encoded data removed]",
      "text/plain": [
       "<matplotlib.figure.Figure at 0x29904dd8>"
      ]
     },
     "metadata": {},
     "output_type": "display_data"
    }
   ],
   "source": [
    "with np.load('cifar4-train.npz', allow_pickle=False) as data:\n",
    "    train_data = dict(data.items())\n",
    "\n",
    "    ### so we should get the same split from the pixels matrix.... fingers crossed\n",
    "pixel_tr, pixel_te = train_test_split(\n",
    "    train_data['pixels'], train_size=4000, test_size=1000, random_state=0, stratify = train_data['labels'])\n",
    "    \n",
    "### plotting \n",
    "fig, axes = plt.subplots(nrows=1, ncols=11, figsize=(14, 3))\n",
    "\n",
    "axes[0].imshow(pixel_te[idx].reshape(32,32,3))\n",
    "axes[0].set_title('test img')\n",
    "axes[0].get_xaxis().set_visible(False) \n",
    "axes[0].get_yaxis().set_visible(False)\n",
    "\n",
    "\n",
    "for a, axis in enumerate(axes[1:]):\n",
    "    axis.imshow(pixel_tr[img_neighbors[1][0][a]].reshape(32, 32, 3))\n",
    "    axis.get_xaxis().set_visible(False) # disable x-axis\n",
    "    axis.get_yaxis().set_visible(False)\n",
    "    axis.set_title('dist: {:.2f}'.format(img_neighbors[0][0][a]))\n",
    "\n",
    "plt.show()"
   ]
  },
  {
   "cell_type": "markdown",
   "metadata": {},
   "source": [
    "We can observe that this model gets tricked by the plane's white and elongated body, including boats in the nearest neighbors results. \n",
    "\n",
    "This result is consitent with the overlapping of the two classes observed in the data exploration phase."
   ]
  },
  {
   "cell_type": "markdown",
   "metadata": {},
   "source": [
    "### Exporting to Results"
   ]
  },
  {
   "cell_type": "code",
   "execution_count": 94,
   "metadata": {},
   "outputs": [
    {
     "name": "stdout",
     "output_type": "stream",
     "text": [
      "Stored 'score_testset' (float64)\n"
     ]
    }
   ],
   "source": [
    "%store score_testset"
   ]
  },
  {
   "cell_type": "markdown",
   "metadata": {},
   "source": [
    "Fatto."
   ]
  }
 ],
 "metadata": {
  "kernelspec": {
   "display_name": "Python 3",
   "language": "python",
   "name": "python3"
  },
  "language_info": {
   "codemirror_mode": {
    "name": "ipython",
    "version": 3
   },
   "file_extension": ".py",
   "mimetype": "text/x-python",
   "name": "python",
   "nbconvert_exporter": "python",
   "pygments_lexer": "ipython3",
   "version": "3.6.4"
  }
 },
 "nbformat": 4,
 "nbformat_minor": 2
}
