{
 "cells": [
  {
   "cell_type": "code",
   "execution_count": 17,
   "metadata": {},
   "outputs": [],
   "source": [
    "import pandas as pd\n",
    "import numpy as np\n",
    "\n",
    "import timeit\n",
    "from IPython.display import clear_output\n",
    "\n",
    "%matplotlib inline\n",
    "import matplotlib.pyplot as plt\n",
    "import seaborn as sns\n",
    "\n",
    "from sklearn.ensemble import RandomForestClassifier\n",
    "from sklearn.pipeline import Pipeline\n",
    "from sklearn.model_selection import train_test_split\n",
    "from sklearn.tree import DecisionTreeClassifier\n",
    "from sklearn.decomposition import PCA\n",
    "from sklearn.dummy import DummyClassifier\n",
    "from sklearn.preprocessing import StandardScaler"
   ]
  },
  {
   "cell_type": "code",
   "execution_count": 18,
   "metadata": {},
   "outputs": [],
   "source": [
    "with np.load('cifar4-overfeat-split.npz', allow_pickle=False) as data:\n",
    "    split_data = dict(data.items())\n",
    "\n",
    "for key in split_data.keys():\n",
    "    locals()[key] = split_data[key]"
   ]
  },
  {
   "cell_type": "code",
   "execution_count": 19,
   "metadata": {},
   "outputs": [],
   "source": [
    "X_tr_tr, X_tr_te, y_tr_tr, y_tr_te = train_test_split(X_tr, y_tr, \n",
    "                                                      test_size=800, train_size = 3200, \n",
    "                                                      random_state=0, stratify = y_tr)"
   ]
  },
  {
   "cell_type": "markdown",
   "metadata": {},
   "source": [
    "### Create a decision tree classifier. Tune its depth and plot the validation curve."
   ]
  },
  {
   "cell_type": "markdown",
   "metadata": {},
   "source": [
    "We decide to apply PCA as a pre-processing step because we have read this: https://stats.stackexchange.com/questions/55034/how-does-pca-improve-the-accuracy-of-a-predictive-model and this: http://iopscience.iop.org/article/10.1088/1742-6596/978/1/012058 and other similars papers and forums which suggest that removing noise from data and rotating it allows to get better results. "
   ]
  },
  {
   "cell_type": "code",
   "execution_count": 22,
   "metadata": {},
   "outputs": [],
   "source": [
    "pipe = Pipeline([\n",
    "    ('pca', PCA(n_components=408)), \n",
    "    ('dt', DecisionTreeClassifier(criterion='gini', max_depth=None, random_state=0))\n",
    "])"
   ]
  },
  {
   "cell_type": "code",
   "execution_count": 25,
   "metadata": {},
   "outputs": [
    {
     "name": "stdout",
     "output_type": "stream",
     "text": [
      "Depth 29/30 evaluated\n",
      "Decision tree depth search done in 2.37 minutes\n"
     ]
    }
   ],
   "source": [
    "train_scores = []\n",
    "validation_scores = []\n",
    "start = timeit.default_timer()\n",
    "\n",
    "for depth in range(1, 30):\n",
    "    # Set parameters\n",
    "    pipe.set_params(dt__max_depth=depth)\n",
    "\n",
    "    # Fit a k-NN classifier\n",
    "    pipe.fit(X_tr_tr, y_tr_tr)\n",
    "    \n",
    "    # Save accuracy on train and validation sets\n",
    "    train_scores.append(pipe.score(X_tr_tr, y_tr_tr))\n",
    "    validation_scores.append(pipe.score(X_tr_te, y_tr_te))\n",
    "    \n",
    "    # Check advancement\n",
    "    clear_output()\n",
    "    print('Depth {}/30 evaluated'.format(depth))\n",
    "\n",
    "stop = timeit.default_timer()\n",
    "\n",
    "print('Decision tree depth search done in {:.2f} minutes'.format((stop - start)/60))"
   ]
  },
  {
   "cell_type": "code",
   "execution_count": 28,
   "metadata": {},
   "outputs": [
    {
     "data": {
      "image/png": "[encoded data removed]",
      "text/plain": [
       "<matplotlib.figure.Figure at 0x1c4ba550>"
      ]
     },
     "metadata": {},
     "output_type": "display_data"
    }
   ],
   "source": [
    "plt.plot(range(1, 30), train_scores, label='train curve')\n",
    "plt.plot(range(1, 30), validation_scores, label='validation curve')\n",
    "plt.legend()\n",
    "plt.show()"
   ]
  },
  {
   "cell_type": "code",
   "execution_count": 29,
   "metadata": {},
   "outputs": [
    {
     "name": "stdout",
     "output_type": "stream",
     "text": [
      "Top accuracy on validation set: 0.650 with depth 5.\n"
     ]
    }
   ],
   "source": [
    "top_depth= np.array(validation_scores).argmax()+1\n",
    "top_score_dt = np.array(validation_scores).max()\n",
    "\n",
    "print('Top accuracy on validation set: {:.3f} with depth {}.'.format(top_score_dt, top_depth))"
   ]
  },
  {
   "cell_type": "markdown",
   "metadata": {},
   "source": [
    "It's a bit weird that the train scores reach 100% from depth=21. Anyway that's a clear overfitting issue. The max accuracy on the validation set is reached quite fast, but the max accuracy is below the kNN accuracy obtained before. "
   ]
  },
  {
   "cell_type": "markdown",
   "metadata": {},
   "source": [
    "### Create a random forest classifier. Try different sizes of ensemble."
   ]
  },
  {
   "cell_type": "markdown",
   "metadata": {},
   "source": [
    "Random Forest + PCA: https://stats.stackexchange.com/questions/258938/pca-before-random-forest-regression-provide-better-predictive-scores-for-my-data"
   ]
  },
  {
   "cell_type": "code",
   "execution_count": 30,
   "metadata": {},
   "outputs": [],
   "source": [
    "pipe = Pipeline([\n",
    "    ('pca', PCA(n_components=408)), \n",
    "    ('rf', RandomForestClassifier(max_depth=None, random_state=0))\n",
    "])"
   ]
  },
  {
   "cell_type": "code",
   "execution_count": 31,
   "metadata": {},
   "outputs": [
    {
     "name": "stdout",
     "output_type": "stream",
     "text": [
      "Estimator 10/10 evaluated.\n",
      "Random Forest number of estimators search done in 2.46 minutes\n"
     ]
    }
   ],
   "source": [
    "train_scores = []\n",
    "validation_scores = []\n",
    "start = timeit.default_timer()\n",
    "count=0\n",
    "\n",
    "for estimator in [5, 10, 20, 50, 100, 150, 200, 250, 300, 500]:\n",
    "    # Set parameters\n",
    "    pipe.set_params(rf__n_estimators=estimator)\n",
    "\n",
    "    # Fit a k-NN classifier\n",
    "    pipe.fit(X_tr_tr, y_tr_tr)\n",
    "    \n",
    "    # Save accuracy on train and validation sets\n",
    "    train_scores.append(pipe.score(X_tr_tr, y_tr_tr))\n",
    "    validation_scores.append(pipe.score(X_tr_te, y_tr_te))\n",
    "    \n",
    "    # Check advancement\n",
    "    clear_output()\n",
    "    count+=1\n",
    "    print('Estimator {}/10 evaluated.'.format(count))\n",
    "\n",
    "stop = timeit.default_timer()\n",
    "\n",
    "print('Random Forest number of estimators search done in {:.2f} minutes'.format((stop - start)/60))"
   ]
  },
  {
   "cell_type": "code",
   "execution_count": 32,
   "metadata": {},
   "outputs": [
    {
     "data": {
      "text/html": [
       "<div>\n",
       "<style scoped>\n",
       "    .dataframe tbody tr th:only-of-type {\n",
       "        vertical-align: middle;\n",
       "    }\n",
       "\n",
       "    .dataframe tbody tr th {\n",
       "        vertical-align: top;\n",
       "    }\n",
       "\n",
       "    .dataframe thead th {\n",
       "        text-align: right;\n",
       "    }\n",
       "</style>\n",
       "<table border=\"1\" class=\"dataframe\">\n",
       "  <thead>\n",
       "    <tr style=\"text-align: right;\">\n",
       "      <th></th>\n",
       "      <th>n estimators</th>\n",
       "      <th>validation accuracy</th>\n",
       "    </tr>\n",
       "  </thead>\n",
       "  <tbody>\n",
       "    <tr>\n",
       "      <th>0</th>\n",
       "      <td>5</td>\n",
       "      <td>0.47375</td>\n",
       "    </tr>\n",
       "    <tr>\n",
       "      <th>1</th>\n",
       "      <td>10</td>\n",
       "      <td>0.54750</td>\n",
       "    </tr>\n",
       "    <tr>\n",
       "      <th>2</th>\n",
       "      <td>20</td>\n",
       "      <td>0.58000</td>\n",
       "    </tr>\n",
       "    <tr>\n",
       "      <th>3</th>\n",
       "      <td>50</td>\n",
       "      <td>0.69625</td>\n",
       "    </tr>\n",
       "    <tr>\n",
       "      <th>4</th>\n",
       "      <td>100</td>\n",
       "      <td>0.74000</td>\n",
       "    </tr>\n",
       "    <tr>\n",
       "      <th>5</th>\n",
       "      <td>150</td>\n",
       "      <td>0.72375</td>\n",
       "    </tr>\n",
       "    <tr>\n",
       "      <th>6</th>\n",
       "      <td>200</td>\n",
       "      <td>0.75375</td>\n",
       "    </tr>\n",
       "    <tr>\n",
       "      <th>7</th>\n",
       "      <td>250</td>\n",
       "      <td>0.75500</td>\n",
       "    </tr>\n",
       "    <tr>\n",
       "      <th>8</th>\n",
       "      <td>300</td>\n",
       "      <td>0.75250</td>\n",
       "    </tr>\n",
       "    <tr>\n",
       "      <th>9</th>\n",
       "      <td>500</td>\n",
       "      <td>0.76750</td>\n",
       "    </tr>\n",
       "  </tbody>\n",
       "</table>\n",
       "</div>"
      ],
      "text/plain": [
       "   n estimators  validation accuracy\n",
       "0             5              0.47375\n",
       "1            10              0.54750\n",
       "2            20              0.58000\n",
       "3            50              0.69625\n",
       "4           100              0.74000\n",
       "5           150              0.72375\n",
       "6           200              0.75375\n",
       "7           250              0.75500\n",
       "8           300              0.75250\n",
       "9           500              0.76750"
      ]
     },
     "execution_count": 32,
     "metadata": {},
     "output_type": "execute_result"
    }
   ],
   "source": [
    "rf_scores = pd.DataFrame({'n estimators': [5, 10, 20, 50, 100, 150, 200, 250, 300, 500], \n",
    "                          'validation accuracy': validation_scores})\n",
    "rf_scores"
   ]
  },
  {
   "cell_type": "markdown",
   "metadata": {},
   "source": [
    "The best accuracy is achieved for 500 trees. From 250 estimators the accuracy starts flatlinging with minimal variations. Accuryacy is much better than with the decision tree. "
   ]
  },
  {
   "cell_type": "markdown",
   "metadata": {},
   "source": [
    "### Trying without the PCA"
   ]
  },
  {
   "cell_type": "code",
   "execution_count": 33,
   "metadata": {},
   "outputs": [],
   "source": [
    "pipe = Pipeline([\n",
    "    ('pca', None), \n",
    "    ('rf', RandomForestClassifier(max_depth=None, random_state=0))\n",
    "])"
   ]
  },
  {
   "cell_type": "code",
   "execution_count": 34,
   "metadata": {},
   "outputs": [
    {
     "name": "stdout",
     "output_type": "stream",
     "text": [
      "Estimator 10/10 evaluated.\n",
      "Random Forest number of estimators search done in 4.31 minutes\n"
     ]
    }
   ],
   "source": [
    "train_scores = []\n",
    "validation_scores = []\n",
    "start = timeit.default_timer()\n",
    "count=0\n",
    "\n",
    "for estimator in [5, 10, 20, 50, 100, 150, 200, 250, 300, 500]:\n",
    "    # Set parameters\n",
    "    pipe.set_params(rf__n_estimators=estimator)\n",
    "\n",
    "    # Fit a k-NN classifier\n",
    "    pipe.fit(X_tr_tr, y_tr_tr)\n",
    "    \n",
    "    # Save accuracy on train and validation sets\n",
    "    train_scores.append(pipe.score(X_tr_tr, y_tr_tr))\n",
    "    validation_scores.append(pipe.score(X_tr_te, y_tr_te))\n",
    "    \n",
    "    # Check advancement\n",
    "    clear_output()\n",
    "    count+=1\n",
    "    print('Estimator {}/10 evaluated.'.format(count))\n",
    "\n",
    "stop = timeit.default_timer()\n",
    "\n",
    "print('Random Forest number of estimators search done in {:.2f} minutes'.format((stop - start)/60))"
   ]
  },
  {
   "cell_type": "code",
   "execution_count": 35,
   "metadata": {},
   "outputs": [
    {
     "data": {
      "text/html": [
       "<div>\n",
       "<style scoped>\n",
       "    .dataframe tbody tr th:only-of-type {\n",
       "        vertical-align: middle;\n",
       "    }\n",
       "\n",
       "    .dataframe tbody tr th {\n",
       "        vertical-align: top;\n",
       "    }\n",
       "\n",
       "    .dataframe thead th {\n",
       "        text-align: right;\n",
       "    }\n",
       "</style>\n",
       "<table border=\"1\" class=\"dataframe\">\n",
       "  <thead>\n",
       "    <tr style=\"text-align: right;\">\n",
       "      <th></th>\n",
       "      <th>n estimators</th>\n",
       "      <th>validation accuracy</th>\n",
       "    </tr>\n",
       "  </thead>\n",
       "  <tbody>\n",
       "    <tr>\n",
       "      <th>0</th>\n",
       "      <td>5</td>\n",
       "      <td>0.64875</td>\n",
       "    </tr>\n",
       "    <tr>\n",
       "      <th>1</th>\n",
       "      <td>10</td>\n",
       "      <td>0.70625</td>\n",
       "    </tr>\n",
       "    <tr>\n",
       "      <th>2</th>\n",
       "      <td>20</td>\n",
       "      <td>0.74125</td>\n",
       "    </tr>\n",
       "    <tr>\n",
       "      <th>3</th>\n",
       "      <td>50</td>\n",
       "      <td>0.76125</td>\n",
       "    </tr>\n",
       "    <tr>\n",
       "      <th>4</th>\n",
       "      <td>100</td>\n",
       "      <td>0.79250</td>\n",
       "    </tr>\n",
       "    <tr>\n",
       "      <th>5</th>\n",
       "      <td>150</td>\n",
       "      <td>0.78500</td>\n",
       "    </tr>\n",
       "    <tr>\n",
       "      <th>6</th>\n",
       "      <td>200</td>\n",
       "      <td>0.79000</td>\n",
       "    </tr>\n",
       "    <tr>\n",
       "      <th>7</th>\n",
       "      <td>250</td>\n",
       "      <td>0.78625</td>\n",
       "    </tr>\n",
       "    <tr>\n",
       "      <th>8</th>\n",
       "      <td>300</td>\n",
       "      <td>0.79250</td>\n",
       "    </tr>\n",
       "    <tr>\n",
       "      <th>9</th>\n",
       "      <td>500</td>\n",
       "      <td>0.79125</td>\n",
       "    </tr>\n",
       "  </tbody>\n",
       "</table>\n",
       "</div>"
      ],
      "text/plain": [
       "   n estimators  validation accuracy\n",
       "0             5              0.64875\n",
       "1            10              0.70625\n",
       "2            20              0.74125\n",
       "3            50              0.76125\n",
       "4           100              0.79250\n",
       "5           150              0.78500\n",
       "6           200              0.79000\n",
       "7           250              0.78625\n",
       "8           300              0.79250\n",
       "9           500              0.79125"
      ]
     },
     "execution_count": 35,
     "metadata": {},
     "output_type": "execute_result"
    }
   ],
   "source": [
    "rf_scores_no_pca = pd.DataFrame({'n estimators': [5, 10, 20, 50, 100, 150, 200, 250, 300, 500], \n",
    "                          'validation accuracy': validation_scores})\n",
    "rf_scores_no_pca"
   ]
  },
  {
   "cell_type": "markdown",
   "metadata": {},
   "source": [
    "Slightly better. "
   ]
  },
  {
   "cell_type": "code",
   "execution_count": 36,
   "metadata": {},
   "outputs": [],
   "source": [
    "best_n_est_no_pca = rf_scores_no_pca['n estimators'][rf_scores_no_pca['validation accuracy'].idxmax()]"
   ]
  },
  {
   "cell_type": "code",
   "execution_count": 37,
   "metadata": {},
   "outputs": [
    {
     "data": {
      "text/plain": [
       "100"
      ]
     },
     "execution_count": 37,
     "metadata": {},
     "output_type": "execute_result"
    }
   ],
   "source": [
    "best_n_est_no_pca"
   ]
  },
  {
   "cell_type": "markdown",
   "metadata": {},
   "source": [
    "###  Fit your (tuned) decision tree and random forest estimators on the entire train set with 4,000 data points and evaluate them on the test set"
   ]
  },
  {
   "cell_type": "code",
   "execution_count": 38,
   "metadata": {},
   "outputs": [],
   "source": [
    "best_n_est = rf_scores['n estimators'][rf_scores['validation accuracy'].idxmax()]"
   ]
  },
  {
   "cell_type": "code",
   "execution_count": 39,
   "metadata": {},
   "outputs": [],
   "source": [
    "pipe_dt = Pipeline([\n",
    "    ('pca', PCA(n_components=408)), \n",
    "    ('dt', DecisionTreeClassifier(criterion='gini', max_depth=top_depth, random_state=0))\n",
    "])"
   ]
  },
  {
   "cell_type": "code",
   "execution_count": 40,
   "metadata": {},
   "outputs": [
    {
     "data": {
      "text/plain": [
       "Pipeline(memory=None,\n",
       "     steps=[('pca', PCA(copy=True, iterated_power='auto', n_components=408, random_state=None,\n",
       "  svd_solver='auto', tol=0.0, whiten=False)), ('dt', DecisionTreeClassifier(class_weight=None, criterion='gini', max_depth=5,\n",
       "            max_features=None, max_leaf_nodes=None,\n",
       "            min_impurity_decrease=0.0, min_impurity_split=None,\n",
       "            min_samples_leaf=1, min_samples_split=2,\n",
       "            min_weight_fraction_leaf=0.0, presort=False, random_state=0,\n",
       "            splitter='best'))])"
      ]
     },
     "execution_count": 40,
     "metadata": {},
     "output_type": "execute_result"
    }
   ],
   "source": [
    "pipe_dt.fit(X_tr, y_tr)"
   ]
  },
  {
   "cell_type": "code",
   "execution_count": 41,
   "metadata": {},
   "outputs": [],
   "source": [
    "score_dt = pipe_dt.score(X_te, y_te)"
   ]
  },
  {
   "cell_type": "code",
   "execution_count": 42,
   "metadata": {},
   "outputs": [],
   "source": [
    "pipe_rf = Pipeline([\n",
    "    ('pca', PCA(n_components=408)), \n",
    "    ('rf', RandomForestClassifier(max_depth=None, random_state=0, n_estimators=best_n_est))\n",
    "])"
   ]
  },
  {
   "cell_type": "code",
   "execution_count": 43,
   "metadata": {},
   "outputs": [
    {
     "data": {
      "text/plain": [
       "Pipeline(memory=None,\n",
       "     steps=[('pca', PCA(copy=True, iterated_power='auto', n_components=408, random_state=None,\n",
       "  svd_solver='auto', tol=0.0, whiten=False)), ('rf', RandomForestClassifier(bootstrap=True, class_weight=None, criterion='gini',\n",
       "            max_depth=None, max_features='auto', max_leaf_nodes=None,\n",
       "           ...stimators=500, n_jobs=1,\n",
       "            oob_score=False, random_state=0, verbose=0, warm_start=False))])"
      ]
     },
     "execution_count": 43,
     "metadata": {},
     "output_type": "execute_result"
    }
   ],
   "source": [
    "pipe_rf.fit(X_tr, y_tr)"
   ]
  },
  {
   "cell_type": "code",
   "execution_count": 44,
   "metadata": {},
   "outputs": [],
   "source": [
    "score_rf = pipe_rf.score(X_te, y_te)"
   ]
  },
  {
   "cell_type": "code",
   "execution_count": 45,
   "metadata": {},
   "outputs": [],
   "source": [
    "pipe_rf_no_pca = Pipeline([\n",
    "    ('pca', None), \n",
    "    ('rf', RandomForestClassifier(max_depth=None, random_state=0, n_estimators=best_n_est_no_pca))\n",
    "])"
   ]
  },
  {
   "cell_type": "code",
   "execution_count": 46,
   "metadata": {},
   "outputs": [
    {
     "data": {
      "text/plain": [
       "Pipeline(memory=None,\n",
       "     steps=[('pca', None), ('rf', RandomForestClassifier(bootstrap=True, class_weight=None, criterion='gini',\n",
       "            max_depth=None, max_features='auto', max_leaf_nodes=None,\n",
       "            min_impurity_decrease=0.0, min_impurity_split=None,\n",
       "            min_samples_leaf=1, min_samples_split=2,\n",
       "            min_weight_fraction_leaf=0.0, n_estimators=100, n_jobs=1,\n",
       "            oob_score=False, random_state=0, verbose=0, warm_start=False))])"
      ]
     },
     "execution_count": 46,
     "metadata": {},
     "output_type": "execute_result"
    }
   ],
   "source": [
    "pipe_rf_no_pca.fit(X_tr, y_tr)"
   ]
  },
  {
   "cell_type": "code",
   "execution_count": 47,
   "metadata": {},
   "outputs": [],
   "source": [
    "score_rf_no_pca = pipe_rf_no_pca.score(X_te, y_te)"
   ]
  },
  {
   "cell_type": "code",
   "execution_count": 48,
   "metadata": {},
   "outputs": [
    {
     "name": "stdout",
     "output_type": "stream",
     "text": [
      "Decision tree accuracy (test set): 0.641\n",
      "Random forest accuracy (test set): 0.777\n",
      "RF no PCA:0.791\n"
     ]
    }
   ],
   "source": [
    "print('Decision tree accuracy (test set): {:.3f}\\nRandom forest accuracy (test set): {:.3f}\\nRF no PCA:{:.3f}'.format(score_dt, \n",
    "                                                                                                    score_rf, \n",
    "                                                                                                    score_rf_no_pca))"
   ]
  },
  {
   "cell_type": "markdown",
   "metadata": {},
   "source": [
    "### Exporting Results"
   ]
  },
  {
   "cell_type": "code",
   "execution_count": 50,
   "metadata": {},
   "outputs": [
    {
     "name": "stdout",
     "output_type": "stream",
     "text": [
      "Stored 'score_dt' (float64)\n",
      "Stored 'score_rf_no_pca' (float64)\n"
     ]
    }
   ],
   "source": [
    "%store score_dt \n",
    "%store score_rf_no_pca"
   ]
  },
  {
   "cell_type": "markdown",
   "metadata": {},
   "source": [
    "And call it a day. "
   ]
  }
 ],
 "metadata": {
  "kernelspec": {
   "display_name": "Python 3",
   "language": "python",
   "name": "python3"
  },
  "language_info": {
   "codemirror_mode": {
    "name": "ipython",
    "version": 3
   },
   "file_extension": ".py",
   "mimetype": "text/x-python",
   "name": "python",
   "nbconvert_exporter": "python",
   "pygments_lexer": "ipython3",
   "version": "3.6.4"
  }
 },
 "nbformat": 4,
 "nbformat_minor": 2
}
