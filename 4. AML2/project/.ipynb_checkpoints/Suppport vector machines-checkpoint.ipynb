{
 "cells": [
  {
   "cell_type": "code",
   "execution_count": 5,
   "metadata": {},
   "outputs": [],
   "source": [
    "import pandas as pd\n",
    "import numpy as np\n",
    "\n",
    "import timeit\n",
    "from IPython.display import clear_output\n",
    "\n",
    "%matplotlib inline\n",
    "import matplotlib.pyplot as plt\n",
    "import seaborn as sns\n",
    "\n",
    "from sklearn.model_selection import ParameterGrid\n",
    "from sklearn.model_selection import StratifiedKFold\n",
    "from sklearn.model_selection import GridSearchCV\n",
    "from sklearn.pipeline import Pipeline\n",
    "from sklearn.model_selection import train_test_split\n",
    "from sklearn.svm import SVC\n",
    "from sklearn.decomposition import PCA\n",
    "from sklearn.dummy import DummyClassifier\n",
    "from sklearn.preprocessing import StandardScaler"
   ]
  },
  {
   "cell_type": "code",
   "execution_count": 6,
   "metadata": {},
   "outputs": [],
   "source": [
    "with np.load('cifar4-overfeat-split.npz', allow_pickle=False) as data:\n",
    "    split_data = dict(data.items())\n",
    "\n",
    "for key in split_data.keys():\n",
    "    locals()[key] = split_data[key]"
   ]
  },
  {
   "cell_type": "markdown",
   "metadata": {},
   "source": [
    "We don't have a lot of samples, so we are using the SVC classifier: https://stackoverflow.com/questions/29704231/in-sklearn-what-is-the-difference-between-a-svm-model-with-linear-kernel-and-a-s"
   ]
  },
  {
   "cell_type": "markdown",
   "metadata": {},
   "source": [
    "### Create an SVM classifier with a linear kernel. Tune its C parameter using grid search cross-validation."
   ]
  },
  {
   "cell_type": "code",
   "execution_count": 7,
   "metadata": {},
   "outputs": [],
   "source": [
    "strat_cv = StratifiedKFold(n_splits=5, random_state=0)"
   ]
  },
  {
   "cell_type": "markdown",
   "metadata": {},
   "source": [
    "We use PCA for the same reason as before, to reduce dimensionality and noise, and improve our computing time and results. "
   ]
  },
  {
   "cell_type": "code",
   "execution_count": 8,
   "metadata": {},
   "outputs": [],
   "source": [
    "param_grid_linear = {'C': [0.001, 0.005, 0.01, 0.05, 0.1, 0.5, 1, 10]}\n",
    "\n",
    "pca = PCA(n_components=408)\n",
    "\n",
    "grid_cv = GridSearchCV(SVC(kernel='linear'), \n",
    "                       param_grid=param_grid_linear, \n",
    "                       cv=strat_cv,\n",
    "                      n_jobs=-1)"
   ]
  },
  {
   "cell_type": "code",
   "execution_count": 9,
   "metadata": {},
   "outputs": [
    {
     "name": "stdout",
     "output_type": "stream",
     "text": [
      "CV grid search done in 1.21 minutes\n"
     ]
    }
   ],
   "source": [
    "X_tr_pca = pca.fit_transform(X_tr)\n",
    "\n",
    "start = timeit.default_timer()\n",
    "\n",
    "grid_cv.fit(X_tr_pca, y_tr)\n",
    "\n",
    "stop = timeit.default_timer()\n",
    "print('CV grid search done in {:.2f} minutes'.format((stop - start)/60))"
   ]
  },
  {
   "cell_type": "code",
   "execution_count": 10,
   "metadata": {},
   "outputs": [
    {
     "data": {
      "text/html": [
       "<div>\n",
       "<style scoped>\n",
       "    .dataframe tbody tr th:only-of-type {\n",
       "        vertical-align: middle;\n",
       "    }\n",
       "\n",
       "    .dataframe tbody tr th {\n",
       "        vertical-align: top;\n",
       "    }\n",
       "\n",
       "    .dataframe thead th {\n",
       "        text-align: right;\n",
       "    }\n",
       "</style>\n",
       "<table border=\"1\" class=\"dataframe\">\n",
       "  <thead>\n",
       "    <tr style=\"text-align: right;\">\n",
       "      <th></th>\n",
       "      <th>C</th>\n",
       "      <th>mean accuracy</th>\n",
       "      <th>standard deviation</th>\n",
       "    </tr>\n",
       "  </thead>\n",
       "  <tbody>\n",
       "    <tr>\n",
       "      <th>0</th>\n",
       "      <td>0.001</td>\n",
       "      <td>0.83800</td>\n",
       "      <td>0.010416</td>\n",
       "    </tr>\n",
       "    <tr>\n",
       "      <th>1</th>\n",
       "      <td>0.005</td>\n",
       "      <td>0.83250</td>\n",
       "      <td>0.009779</td>\n",
       "    </tr>\n",
       "    <tr>\n",
       "      <th>2</th>\n",
       "      <td>0.010</td>\n",
       "      <td>0.82525</td>\n",
       "      <td>0.010259</td>\n",
       "    </tr>\n",
       "    <tr>\n",
       "      <th>3</th>\n",
       "      <td>0.050</td>\n",
       "      <td>0.79925</td>\n",
       "      <td>0.005734</td>\n",
       "    </tr>\n",
       "    <tr>\n",
       "      <th>4</th>\n",
       "      <td>0.100</td>\n",
       "      <td>0.79300</td>\n",
       "      <td>0.004783</td>\n",
       "    </tr>\n",
       "    <tr>\n",
       "      <th>5</th>\n",
       "      <td>0.500</td>\n",
       "      <td>0.78725</td>\n",
       "      <td>0.009918</td>\n",
       "    </tr>\n",
       "    <tr>\n",
       "      <th>6</th>\n",
       "      <td>1.000</td>\n",
       "      <td>0.78725</td>\n",
       "      <td>0.009918</td>\n",
       "    </tr>\n",
       "    <tr>\n",
       "      <th>7</th>\n",
       "      <td>10.000</td>\n",
       "      <td>0.78725</td>\n",
       "      <td>0.009918</td>\n",
       "    </tr>\n",
       "  </tbody>\n",
       "</table>\n",
       "</div>"
      ],
      "text/plain": [
       "        C  mean accuracy  standard deviation\n",
       "0   0.001        0.83800            0.010416\n",
       "1   0.005        0.83250            0.009779\n",
       "2   0.010        0.82525            0.010259\n",
       "3   0.050        0.79925            0.005734\n",
       "4   0.100        0.79300            0.004783\n",
       "5   0.500        0.78725            0.009918\n",
       "6   1.000        0.78725            0.009918\n",
       "7  10.000        0.78725            0.009918"
      ]
     },
     "execution_count": 10,
     "metadata": {},
     "output_type": "execute_result"
    }
   ],
   "source": [
    "# Get parameters with their scores\n",
    "params = grid_cv.cv_results_['params']\n",
    "scores = grid_cv.cv_results_['mean_test_score']\n",
    "st_dev = grid_cv.cv_results_['std_test_score']\n",
    "\n",
    "# Create a list of (parameters, score) pairs\n",
    "results_linear = pd.DataFrame({'C': [list(value.values())[0] for a,value in enumerate(params)], \n",
    "                               'mean accuracy':scores, 'standard deviation':st_dev})\n",
    "results_linear"
   ]
  },
  {
   "cell_type": "markdown",
   "metadata": {},
   "source": [
    "### Create an SVM classifier with an RBF kernel. Tune its C and γ parameters using grid search."
   ]
  },
  {
   "cell_type": "code",
   "execution_count": 11,
   "metadata": {},
   "outputs": [],
   "source": [
    "param_grid_rbf = ParameterGrid([{'C': [0.001, 0.005, 0.01, 0.05, 0.1, 0.5, 1, 10],\n",
    "                 'gamma': [10**k for k in range(-5, 2)]\n",
    "                       }])\n",
    "\n",
    "grid_cv_rbf = GridSearchCV(SVC(kernel='rbf'), \n",
    "                           param_grid=param_grid_rbf.param_grid, \n",
    "                            cv=strat_cv,\n",
    "                            n_jobs=-1)"
   ]
  },
  {
   "cell_type": "code",
   "execution_count": 12,
   "metadata": {},
   "outputs": [
    {
     "name": "stdout",
     "output_type": "stream",
     "text": [
      "CV grid search on SVM rbf done in 29.82 minutes\n"
     ]
    }
   ],
   "source": [
    "start = timeit.default_timer()\n",
    "\n",
    "grid_cv_rbf.fit(X_tr_pca, y_tr)\n",
    "\n",
    "stop = timeit.default_timer()\n",
    "print('CV grid search on SVM rbf done in {:.2f} minutes'.format((stop - start)/60))"
   ]
  },
  {
   "cell_type": "markdown",
   "metadata": {},
   "source": [
    "Had a nap. And dinner. And a small digestive nap. "
   ]
  },
  {
   "cell_type": "code",
   "execution_count": 13,
   "metadata": {},
   "outputs": [],
   "source": [
    "params_rbf = grid_cv_rbf.cv_results_['params']"
   ]
  },
  {
   "cell_type": "code",
   "execution_count": 14,
   "metadata": {},
   "outputs": [
    {
     "data": {
      "text/html": [
       "<div>\n",
       "<style scoped>\n",
       "    .dataframe tbody tr th:only-of-type {\n",
       "        vertical-align: middle;\n",
       "    }\n",
       "\n",
       "    .dataframe tbody tr th {\n",
       "        vertical-align: top;\n",
       "    }\n",
       "\n",
       "    .dataframe thead th {\n",
       "        text-align: right;\n",
       "    }\n",
       "</style>\n",
       "<table border=\"1\" class=\"dataframe\">\n",
       "  <thead>\n",
       "    <tr style=\"text-align: right;\">\n",
       "      <th></th>\n",
       "      <th>C</th>\n",
       "      <th>gamma</th>\n",
       "      <th>mean accuracy</th>\n",
       "      <th>standard deviation</th>\n",
       "    </tr>\n",
       "  </thead>\n",
       "  <tbody>\n",
       "    <tr>\n",
       "      <th>50</th>\n",
       "      <td>10.000</td>\n",
       "      <td>0.00010</td>\n",
       "      <td>0.84025</td>\n",
       "      <td>0.012976</td>\n",
       "    </tr>\n",
       "    <tr>\n",
       "      <th>43</th>\n",
       "      <td>1.000</td>\n",
       "      <td>0.00010</td>\n",
       "      <td>0.83150</td>\n",
       "      <td>0.010320</td>\n",
       "    </tr>\n",
       "    <tr>\n",
       "      <th>49</th>\n",
       "      <td>10.000</td>\n",
       "      <td>0.00001</td>\n",
       "      <td>0.83050</td>\n",
       "      <td>0.010565</td>\n",
       "    </tr>\n",
       "    <tr>\n",
       "      <th>36</th>\n",
       "      <td>0.500</td>\n",
       "      <td>0.00010</td>\n",
       "      <td>0.82350</td>\n",
       "      <td>0.009097</td>\n",
       "    </tr>\n",
       "    <tr>\n",
       "      <th>42</th>\n",
       "      <td>1.000</td>\n",
       "      <td>0.00001</td>\n",
       "      <td>0.80100</td>\n",
       "      <td>0.011549</td>\n",
       "    </tr>\n",
       "    <tr>\n",
       "      <th>51</th>\n",
       "      <td>10.000</td>\n",
       "      <td>0.00100</td>\n",
       "      <td>0.79850</td>\n",
       "      <td>0.005208</td>\n",
       "    </tr>\n",
       "    <tr>\n",
       "      <th>44</th>\n",
       "      <td>1.000</td>\n",
       "      <td>0.00100</td>\n",
       "      <td>0.79075</td>\n",
       "      <td>0.008314</td>\n",
       "    </tr>\n",
       "    <tr>\n",
       "      <th>29</th>\n",
       "      <td>0.100</td>\n",
       "      <td>0.00010</td>\n",
       "      <td>0.78750</td>\n",
       "      <td>0.010518</td>\n",
       "    </tr>\n",
       "    <tr>\n",
       "      <th>35</th>\n",
       "      <td>0.500</td>\n",
       "      <td>0.00001</td>\n",
       "      <td>0.78575</td>\n",
       "      <td>0.013910</td>\n",
       "    </tr>\n",
       "    <tr>\n",
       "      <th>22</th>\n",
       "      <td>0.050</td>\n",
       "      <td>0.00010</td>\n",
       "      <td>0.76700</td>\n",
       "      <td>0.010446</td>\n",
       "    </tr>\n",
       "    <tr>\n",
       "      <th>37</th>\n",
       "      <td>0.500</td>\n",
       "      <td>0.00100</td>\n",
       "      <td>0.73800</td>\n",
       "      <td>0.010446</td>\n",
       "    </tr>\n",
       "    <tr>\n",
       "      <th>11</th>\n",
       "      <td>0.005</td>\n",
       "      <td>0.10000</td>\n",
       "      <td>0.69225</td>\n",
       "      <td>0.011603</td>\n",
       "    </tr>\n",
       "    <tr>\n",
       "      <th>25</th>\n",
       "      <td>0.050</td>\n",
       "      <td>0.10000</td>\n",
       "      <td>0.69225</td>\n",
       "      <td>0.011603</td>\n",
       "    </tr>\n",
       "    <tr>\n",
       "      <th>32</th>\n",
       "      <td>0.100</td>\n",
       "      <td>0.10000</td>\n",
       "      <td>0.69225</td>\n",
       "      <td>0.011603</td>\n",
       "    </tr>\n",
       "    <tr>\n",
       "      <th>4</th>\n",
       "      <td>0.001</td>\n",
       "      <td>0.10000</td>\n",
       "      <td>0.69225</td>\n",
       "      <td>0.011603</td>\n",
       "    </tr>\n",
       "    <tr>\n",
       "      <th>18</th>\n",
       "      <td>0.010</td>\n",
       "      <td>0.10000</td>\n",
       "      <td>0.69225</td>\n",
       "      <td>0.011603</td>\n",
       "    </tr>\n",
       "    <tr>\n",
       "      <th>39</th>\n",
       "      <td>0.500</td>\n",
       "      <td>0.10000</td>\n",
       "      <td>0.69225</td>\n",
       "      <td>0.011603</td>\n",
       "    </tr>\n",
       "    <tr>\n",
       "      <th>1</th>\n",
       "      <td>0.001</td>\n",
       "      <td>0.00010</td>\n",
       "      <td>0.69200</td>\n",
       "      <td>0.007810</td>\n",
       "    </tr>\n",
       "    <tr>\n",
       "      <th>8</th>\n",
       "      <td>0.005</td>\n",
       "      <td>0.00010</td>\n",
       "      <td>0.69200</td>\n",
       "      <td>0.007810</td>\n",
       "    </tr>\n",
       "    <tr>\n",
       "      <th>15</th>\n",
       "      <td>0.010</td>\n",
       "      <td>0.00010</td>\n",
       "      <td>0.69175</td>\n",
       "      <td>0.008789</td>\n",
       "    </tr>\n",
       "  </tbody>\n",
       "</table>\n",
       "</div>"
      ],
      "text/plain": [
       "         C    gamma  mean accuracy  standard deviation\n",
       "50  10.000  0.00010        0.84025            0.012976\n",
       "43   1.000  0.00010        0.83150            0.010320\n",
       "49  10.000  0.00001        0.83050            0.010565\n",
       "36   0.500  0.00010        0.82350            0.009097\n",
       "42   1.000  0.00001        0.80100            0.011549\n",
       "51  10.000  0.00100        0.79850            0.005208\n",
       "44   1.000  0.00100        0.79075            0.008314\n",
       "29   0.100  0.00010        0.78750            0.010518\n",
       "35   0.500  0.00001        0.78575            0.013910\n",
       "22   0.050  0.00010        0.76700            0.010446\n",
       "37   0.500  0.00100        0.73800            0.010446\n",
       "11   0.005  0.10000        0.69225            0.011603\n",
       "25   0.050  0.10000        0.69225            0.011603\n",
       "32   0.100  0.10000        0.69225            0.011603\n",
       "4    0.001  0.10000        0.69225            0.011603\n",
       "18   0.010  0.10000        0.69225            0.011603\n",
       "39   0.500  0.10000        0.69225            0.011603\n",
       "1    0.001  0.00010        0.69200            0.007810\n",
       "8    0.005  0.00010        0.69200            0.007810\n",
       "15   0.010  0.00010        0.69175            0.008789"
      ]
     },
     "execution_count": 14,
     "metadata": {},
     "output_type": "execute_result"
    }
   ],
   "source": [
    "# Get parameters with their scores\n",
    "params_rbf = grid_cv_rbf.cv_results_['params']\n",
    "scores_rbf = grid_cv_rbf.cv_results_['mean_test_score']\n",
    "st_dev_rbf = grid_cv_rbf.cv_results_['std_test_score']\n",
    "\n",
    "# Create a list of (parameters, score) pairs\n",
    "results_rbf = pd.DataFrame({'C': [list(value.values())[0] for a,value in enumerate(params_rbf)], \n",
    "                            'gamma': [list(value.values())[1] for a,value in enumerate(params_rbf)],\n",
    "                            'mean accuracy':scores_rbf, \n",
    "                            'standard deviation':st_dev_rbf})\n",
    "results_rbf.sort_values('mean accuracy', ascending=False).head(20)"
   ]
  },
  {
   "cell_type": "code",
   "execution_count": 15,
   "metadata": {},
   "outputs": [
    {
     "name": "stdout",
     "output_type": "stream",
     "text": [
      "Linear SVM - top accuracy across folds: 0.83800 (std: 0.01042) with C: 0.001\n",
      "RBF SVM - top accuracy across folds: 0.84025 (std: 0.01298) with C: 10.0 and gamma: 0.0001\n"
     ]
    }
   ],
   "source": [
    "linear_top_c = results_linear['C'][results_linear['mean accuracy'].idxmax()]\n",
    "linear_stdev = results_linear['standard deviation'][results_linear['mean accuracy'].idxmax()]\n",
    "linear_acc = results_linear['mean accuracy'].max()\n",
    "\n",
    "print('Linear SVM - top accuracy across folds: {:.5f} (std: {:.5f}) with C: {}'.format(linear_acc, linear_stdev,\n",
    "                                                                                      linear_top_c))\n",
    "\n",
    "\n",
    "rbf_top_c = results_rbf['C'][results_rbf['mean accuracy'].idxmax()]\n",
    "rbf_stdev = results_rbf['standard deviation'][results_rbf['mean accuracy'].idxmax()]\n",
    "rbf_acc = results_rbf['mean accuracy'].max()\n",
    "rbf_top_gamma = results_rbf['gamma'][results_rbf['mean accuracy'].idxmax()]\n",
    "\n",
    "print('RBF SVM - top accuracy across folds: {:.5f} (std: {:.5f}) with C: {} and gamma: {}'.format(rbf_acc, rbf_stdev,\n",
    "                                                                                         rbf_top_c, rbf_top_gamma))"
   ]
  },
  {
   "cell_type": "markdown",
   "metadata": {},
   "source": [
    "Results are pretty close. "
   ]
  },
  {
   "cell_type": "markdown",
   "metadata": {},
   "source": [
    "### Evaluate and report the accuracy of your (tuned) estimators on the 1,000 points from the test set."
   ]
  },
  {
   "cell_type": "code",
   "execution_count": 16,
   "metadata": {},
   "outputs": [
    {
     "name": "stdout",
     "output_type": "stream",
     "text": [
      "Linear SVM accuracy (test set): 0.84100\n",
      "RBF SVM accuracy (test set): 0.83100\n"
     ]
    }
   ],
   "source": [
    "X_te_pca = pca.transform(X_te)\n",
    "\n",
    "# Linear SVC\n",
    "svc_lin = SVC(kernel='linear', C=linear_top_c)\n",
    "svc_lin.fit(X_tr_pca, y_tr)\n",
    "\n",
    "score_linear = svc_lin.score(X_te_pca, y_te)\n",
    "\n",
    "# SVC RBF\n",
    "svc_rbf = SVC(kernel='rbf', C=rbf_top_c, gamma=rbf_top_gamma)\n",
    "svc_rbf.fit(X_tr_pca, y_tr)\n",
    "\n",
    "score_rbf = svc_rbf.score(X_te_pca, y_te)\n",
    "\n",
    "# Print\n",
    "print('Linear SVM accuracy (test set): {:.5f}'.format(score_linear))\n",
    "print('RBF SVM accuracy (test set): {:.5f}'.format(score_rbf))"
   ]
  },
  {
   "cell_type": "markdown",
   "metadata": {},
   "source": [
    "Kids, don't fit the test set.  "
   ]
  },
  {
   "cell_type": "code",
   "execution_count": 17,
   "metadata": {},
   "outputs": [
    {
     "name": "stdout",
     "output_type": "stream",
     "text": [
      "Stored 'score_linear' (float64)\n",
      "Stored 'score_rbf' (float64)\n"
     ]
    }
   ],
   "source": [
    "%store score_linear\n",
    "%store score_rbf"
   ]
  }
 ],
 "metadata": {
  "kernelspec": {
   "display_name": "Python 3",
   "language": "python",
   "name": "python3"
  },
  "language_info": {
   "codemirror_mode": {
    "name": "ipython",
    "version": 3
   },
   "file_extension": ".py",
   "mimetype": "text/x-python",
   "name": "python",
   "nbconvert_exporter": "python",
   "pygments_lexer": "ipython3",
   "version": "3.6.4"
  }
 },
 "nbformat": 4,
 "nbformat_minor": 2
}
